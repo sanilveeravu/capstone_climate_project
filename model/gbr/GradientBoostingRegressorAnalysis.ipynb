{
 "cells": [
  {
   "cell_type": "code",
   "execution_count": 1,
   "id": "2b0cbdf8",
   "metadata": {},
   "outputs": [],
   "source": [
    "from sklearn import datasets\n",
    "from sklearn.preprocessing import StandardScaler\n",
    "from sklearn.model_selection import train_test_split\n",
    "from sklearn.pipeline import make_pipeline\n",
    "from sklearn.ensemble import GradientBoostingRegressor\n",
    "from sklearn.decomposition import PCA\n",
    "from sklearn.metrics import mean_squared_error\n",
    "import pandas as pd\n",
    "import pickle"
   ]
  },
  {
   "cell_type": "code",
   "execution_count": 2,
   "id": "5ab2cd10",
   "metadata": {},
   "outputs": [
    {
     "data": {
      "text/html": [
       "<div>\n",
       "<style scoped>\n",
       "    .dataframe tbody tr th:only-of-type {\n",
       "        vertical-align: middle;\n",
       "    }\n",
       "\n",
       "    .dataframe tbody tr th {\n",
       "        vertical-align: top;\n",
       "    }\n",
       "\n",
       "    .dataframe thead th {\n",
       "        text-align: right;\n",
       "    }\n",
       "</style>\n",
       "<table border=\"1\" class=\"dataframe\">\n",
       "  <thead>\n",
       "    <tr style=\"text-align: right;\">\n",
       "      <th></th>\n",
       "      <th>state_code</th>\n",
       "      <th>state_name</th>\n",
       "    </tr>\n",
       "  </thead>\n",
       "  <tbody>\n",
       "    <tr>\n",
       "      <th>0</th>\n",
       "      <td>AL</td>\n",
       "      <td>Alabama</td>\n",
       "    </tr>\n",
       "    <tr>\n",
       "      <th>1</th>\n",
       "      <td>AK</td>\n",
       "      <td>Alaska</td>\n",
       "    </tr>\n",
       "    <tr>\n",
       "      <th>2</th>\n",
       "      <td>AZ</td>\n",
       "      <td>Arizona</td>\n",
       "    </tr>\n",
       "    <tr>\n",
       "      <th>3</th>\n",
       "      <td>AR</td>\n",
       "      <td>Arkansas</td>\n",
       "    </tr>\n",
       "    <tr>\n",
       "      <th>4</th>\n",
       "      <td>CA</td>\n",
       "      <td>California</td>\n",
       "    </tr>\n",
       "  </tbody>\n",
       "</table>\n",
       "</div>"
      ],
      "text/plain": [
       "  state_code  state_name\n",
       "0         AL     Alabama\n",
       "1         AK      Alaska\n",
       "2         AZ     Arizona\n",
       "3         AR    Arkansas\n",
       "4         CA  California"
      ]
     },
     "execution_count": 2,
     "metadata": {},
     "output_type": "execute_result"
    }
   ],
   "source": [
    "states_df = pd.read_csv(\"../../data/lookup_data/states.csv\")\n",
    "states_df.head()"
   ]
  },
  {
   "cell_type": "code",
   "execution_count": 3,
   "id": "fc761a5b",
   "metadata": {},
   "outputs": [
    {
     "data": {
      "text/html": [
       "<div>\n",
       "<style scoped>\n",
       "    .dataframe tbody tr th:only-of-type {\n",
       "        vertical-align: middle;\n",
       "    }\n",
       "\n",
       "    .dataframe tbody tr th {\n",
       "        vertical-align: top;\n",
       "    }\n",
       "\n",
       "    .dataframe thead th {\n",
       "        text-align: right;\n",
       "    }\n",
       "</style>\n",
       "<table border=\"1\" class=\"dataframe\">\n",
       "  <thead>\n",
       "    <tr style=\"text-align: right;\">\n",
       "      <th></th>\n",
       "      <th>date</th>\n",
       "      <th>value</th>\n",
       "    </tr>\n",
       "  </thead>\n",
       "  <tbody>\n",
       "    <tr>\n",
       "      <th>15330</th>\n",
       "      <td>1905-01-01</td>\n",
       "      <td>28.9</td>\n",
       "    </tr>\n",
       "    <tr>\n",
       "      <th>15331</th>\n",
       "      <td>1905-01-02</td>\n",
       "      <td>30.6</td>\n",
       "    </tr>\n",
       "    <tr>\n",
       "      <th>15332</th>\n",
       "      <td>1905-01-03</td>\n",
       "      <td>31.1</td>\n",
       "    </tr>\n",
       "    <tr>\n",
       "      <th>15333</th>\n",
       "      <td>1905-01-04</td>\n",
       "      <td>25.6</td>\n",
       "    </tr>\n",
       "    <tr>\n",
       "      <th>15334</th>\n",
       "      <td>1905-01-05</td>\n",
       "      <td>27.8</td>\n",
       "    </tr>\n",
       "    <tr>\n",
       "      <th>...</th>\n",
       "      <td>...</td>\n",
       "      <td>...</td>\n",
       "    </tr>\n",
       "    <tr>\n",
       "      <th>2152700</th>\n",
       "      <td>2022-08-07</td>\n",
       "      <td>42.8</td>\n",
       "    </tr>\n",
       "    <tr>\n",
       "      <th>2152701</th>\n",
       "      <td>2022-08-08</td>\n",
       "      <td>41.1</td>\n",
       "    </tr>\n",
       "    <tr>\n",
       "      <th>2152702</th>\n",
       "      <td>2022-08-09</td>\n",
       "      <td>42.2</td>\n",
       "    </tr>\n",
       "    <tr>\n",
       "      <th>2152703</th>\n",
       "      <td>2022-08-10</td>\n",
       "      <td>42.8</td>\n",
       "    </tr>\n",
       "    <tr>\n",
       "      <th>2152704</th>\n",
       "      <td>2022-08-11</td>\n",
       "      <td>43.3</td>\n",
       "    </tr>\n",
       "  </tbody>\n",
       "</table>\n",
       "<p>42957 rows × 2 columns</p>\n",
       "</div>"
      ],
      "text/plain": [
       "               date  value\n",
       "15330    1905-01-01   28.9\n",
       "15331    1905-01-02   30.6\n",
       "15332    1905-01-03   31.1\n",
       "15333    1905-01-04   25.6\n",
       "15334    1905-01-05   27.8\n",
       "...             ...    ...\n",
       "2152700  2022-08-07   42.8\n",
       "2152701  2022-08-08   41.1\n",
       "2152702  2022-08-09   42.2\n",
       "2152703  2022-08-10   42.8\n",
       "2152704  2022-08-11   43.3\n",
       "\n",
       "[42957 rows x 2 columns]"
      ]
     },
     "execution_count": 3,
     "metadata": {},
     "output_type": "execute_result"
    }
   ],
   "source": [
    "# Loading the data as a pandas dataframe\n",
    "df = pd.read_csv('../../data/cleaned_data/tmaxdata.csv',names=[\"state_code\", \"date\", \"value\"])\n",
    "df = df.loc[df['state_code'] == 'TX']\n",
    "df.drop([\"state_code\"],inplace=True,axis=1)\n",
    "df"
   ]
  },
  {
   "cell_type": "code",
   "execution_count": 4,
   "id": "b2588f67",
   "metadata": {},
   "outputs": [
    {
     "data": {
      "text/html": [
       "<div>\n",
       "<style scoped>\n",
       "    .dataframe tbody tr th:only-of-type {\n",
       "        vertical-align: middle;\n",
       "    }\n",
       "\n",
       "    .dataframe tbody tr th {\n",
       "        vertical-align: top;\n",
       "    }\n",
       "\n",
       "    .dataframe thead th {\n",
       "        text-align: right;\n",
       "    }\n",
       "</style>\n",
       "<table border=\"1\" class=\"dataframe\">\n",
       "  <thead>\n",
       "    <tr style=\"text-align: right;\">\n",
       "      <th></th>\n",
       "      <th>date</th>\n",
       "      <th>value</th>\n",
       "      <th>year</th>\n",
       "      <th>month</th>\n",
       "      <th>day</th>\n",
       "    </tr>\n",
       "  </thead>\n",
       "  <tbody>\n",
       "    <tr>\n",
       "      <th>15330</th>\n",
       "      <td>1905-01-01</td>\n",
       "      <td>28.9</td>\n",
       "      <td>1905</td>\n",
       "      <td>1</td>\n",
       "      <td>1</td>\n",
       "    </tr>\n",
       "    <tr>\n",
       "      <th>15331</th>\n",
       "      <td>1905-01-02</td>\n",
       "      <td>30.6</td>\n",
       "      <td>1905</td>\n",
       "      <td>1</td>\n",
       "      <td>2</td>\n",
       "    </tr>\n",
       "    <tr>\n",
       "      <th>15332</th>\n",
       "      <td>1905-01-03</td>\n",
       "      <td>31.1</td>\n",
       "      <td>1905</td>\n",
       "      <td>1</td>\n",
       "      <td>3</td>\n",
       "    </tr>\n",
       "    <tr>\n",
       "      <th>15333</th>\n",
       "      <td>1905-01-04</td>\n",
       "      <td>25.6</td>\n",
       "      <td>1905</td>\n",
       "      <td>1</td>\n",
       "      <td>4</td>\n",
       "    </tr>\n",
       "    <tr>\n",
       "      <th>15334</th>\n",
       "      <td>1905-01-05</td>\n",
       "      <td>27.8</td>\n",
       "      <td>1905</td>\n",
       "      <td>1</td>\n",
       "      <td>5</td>\n",
       "    </tr>\n",
       "    <tr>\n",
       "      <th>...</th>\n",
       "      <td>...</td>\n",
       "      <td>...</td>\n",
       "      <td>...</td>\n",
       "      <td>...</td>\n",
       "      <td>...</td>\n",
       "    </tr>\n",
       "    <tr>\n",
       "      <th>2152700</th>\n",
       "      <td>2022-08-07</td>\n",
       "      <td>42.8</td>\n",
       "      <td>2022</td>\n",
       "      <td>8</td>\n",
       "      <td>7</td>\n",
       "    </tr>\n",
       "    <tr>\n",
       "      <th>2152701</th>\n",
       "      <td>2022-08-08</td>\n",
       "      <td>41.1</td>\n",
       "      <td>2022</td>\n",
       "      <td>8</td>\n",
       "      <td>8</td>\n",
       "    </tr>\n",
       "    <tr>\n",
       "      <th>2152702</th>\n",
       "      <td>2022-08-09</td>\n",
       "      <td>42.2</td>\n",
       "      <td>2022</td>\n",
       "      <td>8</td>\n",
       "      <td>9</td>\n",
       "    </tr>\n",
       "    <tr>\n",
       "      <th>2152703</th>\n",
       "      <td>2022-08-10</td>\n",
       "      <td>42.8</td>\n",
       "      <td>2022</td>\n",
       "      <td>8</td>\n",
       "      <td>10</td>\n",
       "    </tr>\n",
       "    <tr>\n",
       "      <th>2152704</th>\n",
       "      <td>2022-08-11</td>\n",
       "      <td>43.3</td>\n",
       "      <td>2022</td>\n",
       "      <td>8</td>\n",
       "      <td>11</td>\n",
       "    </tr>\n",
       "  </tbody>\n",
       "</table>\n",
       "<p>42957 rows × 5 columns</p>\n",
       "</div>"
      ],
      "text/plain": [
       "               date  value  year  month  day\n",
       "15330    1905-01-01   28.9  1905      1    1\n",
       "15331    1905-01-02   30.6  1905      1    2\n",
       "15332    1905-01-03   31.1  1905      1    3\n",
       "15333    1905-01-04   25.6  1905      1    4\n",
       "15334    1905-01-05   27.8  1905      1    5\n",
       "...             ...    ...   ...    ...  ...\n",
       "2152700  2022-08-07   42.8  2022      8    7\n",
       "2152701  2022-08-08   41.1  2022      8    8\n",
       "2152702  2022-08-09   42.2  2022      8    9\n",
       "2152703  2022-08-10   42.8  2022      8   10\n",
       "2152704  2022-08-11   43.3  2022      8   11\n",
       "\n",
       "[42957 rows x 5 columns]"
      ]
     },
     "execution_count": 4,
     "metadata": {},
     "output_type": "execute_result"
    }
   ],
   "source": [
    "df['year'] = pd.DatetimeIndex(df['date']).year\n",
    "df['month'] = pd.DatetimeIndex(df['date']).month\n",
    "df['day'] = pd.DatetimeIndex(df['date']).day\n",
    "df"
   ]
  },
  {
   "cell_type": "code",
   "execution_count": 5,
   "id": "2fa84c8b",
   "metadata": {},
   "outputs": [],
   "source": [
    "#\n",
    "# Create Training and Test Split\n",
    "#\n",
    "X_train, X_test, y_train, y_test = train_test_split(df[['year','month','day']].values, df[['value']].values.flatten(), random_state=42, test_size=0.1)\n"
   ]
  },
  {
   "cell_type": "code",
   "execution_count": 6,
   "id": "ef13f17f",
   "metadata": {},
   "outputs": [],
   "source": [
    "#\n",
    "# Standardize the dataset\n",
    "#\n",
    "sc = StandardScaler()\n",
    "X_train_std = sc.fit_transform(X_train)\n",
    "X_test_std = sc.transform(X_test)\n"
   ]
  },
  {
   "cell_type": "code",
   "execution_count": 7,
   "id": "b255c53e",
   "metadata": {},
   "outputs": [],
   "source": [
    "pickle.dump(sc, open('scaler.pkl','wb'))"
   ]
  },
  {
   "cell_type": "code",
   "execution_count": 8,
   "id": "51c4296e",
   "metadata": {},
   "outputs": [
    {
     "data": {
      "text/plain": [
       "array([[2000,    6,   14],\n",
       "       [1934,    9,   20],\n",
       "       [1910,   12,   23],\n",
       "       ...,\n",
       "       [1910,   11,   16],\n",
       "       [1942,    3,   18],\n",
       "       [1989,   11,   12]])"
      ]
     },
     "execution_count": 8,
     "metadata": {},
     "output_type": "execute_result"
    }
   ],
   "source": [
    "X_test"
   ]
  },
  {
   "cell_type": "code",
   "execution_count": 9,
   "id": "07ae4a4c",
   "metadata": {},
   "outputs": [],
   "source": [
    "#\n",
    "# Hyperparameters for GradientBoostingRegressor\n",
    "#\n",
    "gbr_params = {'n_estimators': 1000,\n",
    "          'max_depth': 5,\n",
    "          'min_samples_split': 5,\n",
    "          'learning_rate': 0.01,\n",
    "          'loss': 'ls'}\n"
   ]
  },
  {
   "cell_type": "code",
   "execution_count": 10,
   "id": "522fda33",
   "metadata": {},
   "outputs": [],
   "source": [
    "#\n",
    "# Create an instance of gradient boosting regressor\n",
    "#\n",
    "gbr = GradientBoostingRegressor(**gbr_params)\n",
    "\n"
   ]
  },
  {
   "cell_type": "code",
   "execution_count": 11,
   "id": "c769a755",
   "metadata": {},
   "outputs": [
    {
     "data": {
      "text/plain": [
       "array([23.9, 29.4, 32.2, ..., 40. , 36.7, 35. ])"
      ]
     },
     "execution_count": 11,
     "metadata": {},
     "output_type": "execute_result"
    }
   ],
   "source": [
    "y_train"
   ]
  },
  {
   "cell_type": "code",
   "execution_count": 12,
   "id": "073465a2",
   "metadata": {},
   "outputs": [
    {
     "name": "stderr",
     "output_type": "stream",
     "text": [
      "/Users/sanilveeravu/opt/anaconda3/envs/mlenv/lib/python3.7/site-packages/sklearn/ensemble/_gb.py:290: FutureWarning: The loss 'ls' was deprecated in v1.0 and will be removed in version 1.2. Use 'squared_error' which is equivalent.\n",
      "  FutureWarning,\n"
     ]
    },
    {
     "data": {
      "text/plain": [
       "GradientBoostingRegressor(learning_rate=0.01, loss='ls', max_depth=5,\n",
       "                          min_samples_split=5, n_estimators=1000)"
      ]
     },
     "execution_count": 12,
     "metadata": {},
     "output_type": "execute_result"
    }
   ],
   "source": [
    "#\n",
    "# Fit the model\n",
    "#\n",
    "gbr.fit(X_train_std, y_train)\n"
   ]
  },
  {
   "cell_type": "code",
   "execution_count": 13,
   "id": "7116a16b",
   "metadata": {},
   "outputs": [
    {
     "name": "stdout",
     "output_type": "stream",
     "text": [
      "Model Accuracy: 0.788\n"
     ]
    }
   ],
   "source": [
    "#\n",
    "# Print Coefficient of determination R^2\n",
    "#\n",
    "print(\"Model Accuracy: %.3f\" % gbr.score(X_test_std, y_test))\n"
   ]
  },
  {
   "cell_type": "code",
   "execution_count": 14,
   "id": "f29de09d",
   "metadata": {},
   "outputs": [
    {
     "name": "stdout",
     "output_type": "stream",
     "text": [
      "The mean squared error (MSE) on test set: 7.6854\n"
     ]
    }
   ],
   "source": [
    "#\n",
    "# Create the mean squared error\n",
    "#\n",
    "mse = mean_squared_error(y_test, gbr.predict(X_test_std))\n",
    "print(\"The mean squared error (MSE) on test set: {:.4f}\".format(mse))"
   ]
  },
  {
   "cell_type": "code",
   "execution_count": 15,
   "id": "a965218c",
   "metadata": {},
   "outputs": [
    {
     "data": {
      "image/png": "[encoded data removed]",
      "text/plain": [
       "<Figure size 576x576 with 1 Axes>"
      ]
     },
     "metadata": {
      "needs_background": "light"
     },
     "output_type": "display_data"
    }
   ],
   "source": [
    "import numpy as np\n",
    "import matplotlib.pyplot as plt\n",
    "from sklearn.inspection import permutation_importance\n",
    "#\n",
    "# Get Feature importance data using feature_importances_ attribute\n",
    "#\n",
    "feature_importance = gbr.feature_importances_\n",
    "sorted_idx = np.argsort(feature_importance)\n",
    "pos = np.arange(sorted_idx.shape[0]) + .5\n",
    "fig = plt.figure(figsize=(8, 8))\n",
    "plt.barh(pos, feature_importance[sorted_idx], align='center')\n",
    "#plt.yticks(pos, np.array(bhp.feature_names)[sorted_idx])\n",
    "plt.title('Feature Importance (MDI)')\n",
    "result = permutation_importance(gbr, X_test_std, y_test, n_repeats=10,\n",
    "                                random_state=42, n_jobs=2)\n",
    "sorted_idx = result.importances_mean.argsort()\n",
    "fig.tight_layout()\n",
    "plt.show()"
   ]
  },
  {
   "cell_type": "code",
   "execution_count": 16,
   "id": "e47dec15",
   "metadata": {},
   "outputs": [
    {
     "name": "stdout",
     "output_type": "stream",
     "text": [
      "Prediction: 39\n"
     ]
    }
   ],
   "source": [
    "row = sc.transform(np.array([[1905,7,15]]))\n",
    "yhat = gbr.predict(row)\n",
    "# summarize prediction\n",
    "print('Prediction: %d' % yhat[0])"
   ]
  },
  {
   "cell_type": "code",
   "execution_count": 17,
   "id": "d3184e5c",
   "metadata": {},
   "outputs": [],
   "source": [
    "pickle.dump(gbr, open(\"tmaxmn.dat\", \"wb\"))"
   ]
  },
  {
   "cell_type": "code",
   "execution_count": 21,
   "id": "0ad83dc5",
   "metadata": {},
   "outputs": [],
   "source": [
    "model = pickle.load(open(\"tmaxmn.dat\", \"rb\"))"
   ]
  },
  {
   "cell_type": "code",
   "execution_count": 22,
   "id": "4b9f2b01",
   "metadata": {},
   "outputs": [
    {
     "name": "stdout",
     "output_type": "stream",
     "text": [
      "Prediction: 24\n"
     ]
    }
   ],
   "source": [
    "row = sc.transform([[1905,1,15]])\n",
    "yhat = model.predict(row)\n",
    "# summarize prediction\n",
    "print('Prediction: %d' % yhat[0])"
   ]
  },
  {
   "cell_type": "code",
   "execution_count": 23,
   "id": "509799ab",
   "metadata": {},
   "outputs": [],
   "source": [
    "def makePredictions(metric, state_code, year, month, day):\n",
    "\n",
    "        input_pred = [[year, month, day]]\n",
    "\n",
    "        filename = f\"tmaxmn.dat\"\n",
    "        model = pickle.load(open(filename, \"rb\"))\n",
    "        \n",
    "        sc = StandardScaler()\n",
    "        sc = pickle.load(open('scaler.pkl','rb'))\n",
    "        row = sc.transform(input_pred)\n",
    "\n",
    "        prediction_result = model.predict(row)\n",
    "        print('Prediction: %d' % prediction_result[0])\n",
    "\n",
    "        return prediction_result[0]"
   ]
  },
  {
   "cell_type": "code",
   "execution_count": 25,
   "id": "590d4a25",
   "metadata": {},
   "outputs": [
    {
     "name": "stdout",
     "output_type": "stream",
     "text": [
      "Prediction: 24\n"
     ]
    },
    {
     "data": {
      "text/plain": [
       "24.812790903032255"
      ]
     },
     "execution_count": 25,
     "metadata": {},
     "output_type": "execute_result"
    }
   ],
   "source": [
    "x1=makePredictions(\"TMAX\",\"AL\",1905,1,15)\n",
    "x1"
   ]
  },
  {
   "cell_type": "code",
   "execution_count": null,
   "id": "c2c81ce0",
   "metadata": {},
   "outputs": [],
   "source": []
  }
 ],
 "metadata": {
  "kernelspec": {
   "display_name": "mlenv",
   "language": "python",
   "name": "mlenv"
  },
  "language_info": {
   "codemirror_mode": {
    "name": "ipython",
    "version": 3
   },
   "file_extension": ".py",
   "mimetype": "text/x-python",
   "name": "python",
   "nbconvert_exporter": "python",
   "pygments_lexer": "ipython3",
   "version": "3.7.13"
  }
 },
 "nbformat": 4,
 "nbformat_minor": 5
}
