{
 "cells": [
  {
   "cell_type": "code",
   "execution_count": 1,
   "id": "2b0cbdf8",
   "metadata": {},
   "outputs": [],
   "source": [
    "from sklearn import datasets\n",
    "from sklearn.preprocessing import StandardScaler\n",
    "from sklearn.model_selection import train_test_split\n",
    "from sklearn.pipeline import make_pipeline\n",
    "from sklearn.ensemble import GradientBoostingRegressor\n",
    "from sklearn.decomposition import PCA\n",
    "from sklearn.metrics import mean_squared_error\n",
    "import pandas as pd\n",
    "import pickle\n",
    "pd.options.mode.chained_assignment = None  # default='warn'"
   ]
  },
  {
   "cell_type": "code",
   "execution_count": 2,
   "id": "dc5ad197",
   "metadata": {},
   "outputs": [],
   "source": [
    "gbr_params = {'n_estimators': 1000,\n",
    "          'max_depth': 5,\n",
    "          'min_samples_split': 5,\n",
    "          'learning_rate': 0.01,\n",
    "          'loss': 'ls'}"
   ]
  },
  {
   "cell_type": "code",
   "execution_count": 3,
   "id": "b46d97a7",
   "metadata": {},
   "outputs": [
    {
     "data": {
      "text/html": [
       "<div>\n",
       "<style scoped>\n",
       "    .dataframe tbody tr th:only-of-type {\n",
       "        vertical-align: middle;\n",
       "    }\n",
       "\n",
       "    .dataframe tbody tr th {\n",
       "        vertical-align: top;\n",
       "    }\n",
       "\n",
       "    .dataframe thead th {\n",
       "        text-align: right;\n",
       "    }\n",
       "</style>\n",
       "<table border=\"1\" class=\"dataframe\">\n",
       "  <thead>\n",
       "    <tr style=\"text-align: right;\">\n",
       "      <th></th>\n",
       "      <th>state_code</th>\n",
       "      <th>state_name</th>\n",
       "    </tr>\n",
       "  </thead>\n",
       "  <tbody>\n",
       "    <tr>\n",
       "      <th>0</th>\n",
       "      <td>AL</td>\n",
       "      <td>Alabama</td>\n",
       "    </tr>\n",
       "    <tr>\n",
       "      <th>1</th>\n",
       "      <td>AK</td>\n",
       "      <td>Alaska</td>\n",
       "    </tr>\n",
       "    <tr>\n",
       "      <th>2</th>\n",
       "      <td>AZ</td>\n",
       "      <td>Arizona</td>\n",
       "    </tr>\n",
       "    <tr>\n",
       "      <th>3</th>\n",
       "      <td>AR</td>\n",
       "      <td>Arkansas</td>\n",
       "    </tr>\n",
       "    <tr>\n",
       "      <th>4</th>\n",
       "      <td>CA</td>\n",
       "      <td>California</td>\n",
       "    </tr>\n",
       "    <tr>\n",
       "      <th>5</th>\n",
       "      <td>CO</td>\n",
       "      <td>Colorado</td>\n",
       "    </tr>\n",
       "    <tr>\n",
       "      <th>6</th>\n",
       "      <td>CT</td>\n",
       "      <td>Connecticut</td>\n",
       "    </tr>\n",
       "    <tr>\n",
       "      <th>7</th>\n",
       "      <td>DE</td>\n",
       "      <td>Delaware</td>\n",
       "    </tr>\n",
       "    <tr>\n",
       "      <th>8</th>\n",
       "      <td>FL</td>\n",
       "      <td>Florida</td>\n",
       "    </tr>\n",
       "    <tr>\n",
       "      <th>9</th>\n",
       "      <td>GA</td>\n",
       "      <td>Georgia</td>\n",
       "    </tr>\n",
       "    <tr>\n",
       "      <th>10</th>\n",
       "      <td>HI</td>\n",
       "      <td>Hawaii</td>\n",
       "    </tr>\n",
       "    <tr>\n",
       "      <th>11</th>\n",
       "      <td>ID</td>\n",
       "      <td>Idaho</td>\n",
       "    </tr>\n",
       "    <tr>\n",
       "      <th>12</th>\n",
       "      <td>IL</td>\n",
       "      <td>Illinois</td>\n",
       "    </tr>\n",
       "    <tr>\n",
       "      <th>13</th>\n",
       "      <td>IN</td>\n",
       "      <td>Indiana</td>\n",
       "    </tr>\n",
       "    <tr>\n",
       "      <th>14</th>\n",
       "      <td>IA</td>\n",
       "      <td>Iowa</td>\n",
       "    </tr>\n",
       "    <tr>\n",
       "      <th>15</th>\n",
       "      <td>KS</td>\n",
       "      <td>Kansas</td>\n",
       "    </tr>\n",
       "    <tr>\n",
       "      <th>16</th>\n",
       "      <td>KY</td>\n",
       "      <td>Kentucky</td>\n",
       "    </tr>\n",
       "    <tr>\n",
       "      <th>17</th>\n",
       "      <td>LA</td>\n",
       "      <td>Louisiana</td>\n",
       "    </tr>\n",
       "    <tr>\n",
       "      <th>18</th>\n",
       "      <td>ME</td>\n",
       "      <td>Maine</td>\n",
       "    </tr>\n",
       "    <tr>\n",
       "      <th>19</th>\n",
       "      <td>MD</td>\n",
       "      <td>Maryland</td>\n",
       "    </tr>\n",
       "    <tr>\n",
       "      <th>20</th>\n",
       "      <td>MA</td>\n",
       "      <td>Massachusetts</td>\n",
       "    </tr>\n",
       "    <tr>\n",
       "      <th>21</th>\n",
       "      <td>MI</td>\n",
       "      <td>Michigan</td>\n",
       "    </tr>\n",
       "    <tr>\n",
       "      <th>22</th>\n",
       "      <td>MN</td>\n",
       "      <td>Minnesota</td>\n",
       "    </tr>\n",
       "    <tr>\n",
       "      <th>23</th>\n",
       "      <td>MS</td>\n",
       "      <td>Mississippi</td>\n",
       "    </tr>\n",
       "    <tr>\n",
       "      <th>24</th>\n",
       "      <td>MO</td>\n",
       "      <td>Missouri</td>\n",
       "    </tr>\n",
       "    <tr>\n",
       "      <th>25</th>\n",
       "      <td>MT</td>\n",
       "      <td>Montana</td>\n",
       "    </tr>\n",
       "    <tr>\n",
       "      <th>26</th>\n",
       "      <td>NE</td>\n",
       "      <td>Nebraska</td>\n",
       "    </tr>\n",
       "    <tr>\n",
       "      <th>27</th>\n",
       "      <td>NV</td>\n",
       "      <td>Nevada</td>\n",
       "    </tr>\n",
       "    <tr>\n",
       "      <th>28</th>\n",
       "      <td>NH</td>\n",
       "      <td>New Hampshire</td>\n",
       "    </tr>\n",
       "    <tr>\n",
       "      <th>29</th>\n",
       "      <td>NJ</td>\n",
       "      <td>New Jersey</td>\n",
       "    </tr>\n",
       "    <tr>\n",
       "      <th>30</th>\n",
       "      <td>NM</td>\n",
       "      <td>New Mexico</td>\n",
       "    </tr>\n",
       "    <tr>\n",
       "      <th>31</th>\n",
       "      <td>NY</td>\n",
       "      <td>New York</td>\n",
       "    </tr>\n",
       "    <tr>\n",
       "      <th>32</th>\n",
       "      <td>NC</td>\n",
       "      <td>North Carolina</td>\n",
       "    </tr>\n",
       "    <tr>\n",
       "      <th>33</th>\n",
       "      <td>ND</td>\n",
       "      <td>North Dakota</td>\n",
       "    </tr>\n",
       "    <tr>\n",
       "      <th>34</th>\n",
       "      <td>OH</td>\n",
       "      <td>Ohio</td>\n",
       "    </tr>\n",
       "    <tr>\n",
       "      <th>35</th>\n",
       "      <td>OK</td>\n",
       "      <td>Oklahoma</td>\n",
       "    </tr>\n",
       "    <tr>\n",
       "      <th>36</th>\n",
       "      <td>OR</td>\n",
       "      <td>Oregon</td>\n",
       "    </tr>\n",
       "    <tr>\n",
       "      <th>37</th>\n",
       "      <td>PA</td>\n",
       "      <td>Pennsylvania</td>\n",
       "    </tr>\n",
       "    <tr>\n",
       "      <th>38</th>\n",
       "      <td>RI</td>\n",
       "      <td>Rhode Island</td>\n",
       "    </tr>\n",
       "    <tr>\n",
       "      <th>39</th>\n",
       "      <td>SC</td>\n",
       "      <td>South Carolina</td>\n",
       "    </tr>\n",
       "    <tr>\n",
       "      <th>40</th>\n",
       "      <td>SD</td>\n",
       "      <td>South Dakota</td>\n",
       "    </tr>\n",
       "    <tr>\n",
       "      <th>41</th>\n",
       "      <td>TN</td>\n",
       "      <td>Tennessee</td>\n",
       "    </tr>\n",
       "    <tr>\n",
       "      <th>42</th>\n",
       "      <td>TX</td>\n",
       "      <td>Texas</td>\n",
       "    </tr>\n",
       "    <tr>\n",
       "      <th>43</th>\n",
       "      <td>UT</td>\n",
       "      <td>Utah</td>\n",
       "    </tr>\n",
       "    <tr>\n",
       "      <th>44</th>\n",
       "      <td>VT</td>\n",
       "      <td>Vermont</td>\n",
       "    </tr>\n",
       "    <tr>\n",
       "      <th>45</th>\n",
       "      <td>VA</td>\n",
       "      <td>Virginia</td>\n",
       "    </tr>\n",
       "    <tr>\n",
       "      <th>46</th>\n",
       "      <td>WA</td>\n",
       "      <td>Washington</td>\n",
       "    </tr>\n",
       "    <tr>\n",
       "      <th>47</th>\n",
       "      <td>WV</td>\n",
       "      <td>West Virginia</td>\n",
       "    </tr>\n",
       "    <tr>\n",
       "      <th>48</th>\n",
       "      <td>WI</td>\n",
       "      <td>Wisconsin</td>\n",
       "    </tr>\n",
       "    <tr>\n",
       "      <th>49</th>\n",
       "      <td>WY</td>\n",
       "      <td>Wyoming</td>\n",
       "    </tr>\n",
       "  </tbody>\n",
       "</table>\n",
       "</div>"
      ],
      "text/plain": [
       "   state_code      state_name\n",
       "0          AL         Alabama\n",
       "1          AK          Alaska\n",
       "2          AZ         Arizona\n",
       "3          AR        Arkansas\n",
       "4          CA      California\n",
       "5          CO        Colorado\n",
       "6          CT     Connecticut\n",
       "7          DE        Delaware\n",
       "8          FL         Florida\n",
       "9          GA         Georgia\n",
       "10         HI          Hawaii\n",
       "11         ID           Idaho\n",
       "12         IL        Illinois\n",
       "13         IN         Indiana\n",
       "14         IA            Iowa\n",
       "15         KS          Kansas\n",
       "16         KY        Kentucky\n",
       "17         LA       Louisiana\n",
       "18         ME           Maine\n",
       "19         MD        Maryland\n",
       "20         MA   Massachusetts\n",
       "21         MI        Michigan\n",
       "22         MN       Minnesota\n",
       "23         MS     Mississippi\n",
       "24         MO        Missouri\n",
       "25         MT         Montana\n",
       "26         NE        Nebraska\n",
       "27         NV          Nevada\n",
       "28         NH   New Hampshire\n",
       "29         NJ      New Jersey\n",
       "30         NM      New Mexico\n",
       "31         NY        New York\n",
       "32         NC  North Carolina\n",
       "33         ND    North Dakota\n",
       "34         OH            Ohio\n",
       "35         OK        Oklahoma\n",
       "36         OR          Oregon\n",
       "37         PA    Pennsylvania\n",
       "38         RI    Rhode Island\n",
       "39         SC  South Carolina\n",
       "40         SD    South Dakota\n",
       "41         TN       Tennessee\n",
       "42         TX           Texas\n",
       "43         UT            Utah\n",
       "44         VT         Vermont\n",
       "45         VA        Virginia\n",
       "46         WA      Washington\n",
       "47         WV   West Virginia\n",
       "48         WI       Wisconsin\n",
       "49         WY         Wyoming"
      ]
     },
     "execution_count": 3,
     "metadata": {},
     "output_type": "execute_result"
    }
   ],
   "source": [
    "states_df = pd.read_csv(\"../../data/lookup_data/states.csv\")\n",
    "states_df.head(50)"
   ]
  },
  {
   "cell_type": "code",
   "execution_count": 4,
   "id": "b3a35701",
   "metadata": {},
   "outputs": [],
   "source": [
    "def buildModel(df, state_code, metric):\n",
    "    \n",
    "    print(df.head())\n",
    "    \n",
    "    # Filter for state\n",
    "    df = df[df['state_code'] == state_code]\n",
    "    \n",
    "    #Add remove features\n",
    "    df.drop([\"state_code\"],inplace=True,axis=1)\n",
    "    df['year'] = pd.DatetimeIndex(df['date']).year\n",
    "    df['month'] = pd.DatetimeIndex(df['date']).month\n",
    "    df['day'] = pd.DatetimeIndex(df['date']).day\n",
    "    \n",
    "    # Create Training and Test Split\n",
    "    X_train, X_test, y_train, y_test = train_test_split(df[['year','month','day']].values, df[['value']].values.flatten(), random_state=42, test_size=0.1)\n",
    "\n",
    "    # Standardize the dataset\n",
    "    sc = StandardScaler()\n",
    "    X_train_std = sc.fit_transform(X_train)\n",
    "    scaler_file = f\"modelfiles/{metric}-{state_code}-scaler.sav\"\n",
    "    pickle.dump(sc, open(scaler_file,'wb'))\n",
    "    \n",
    "    X_test_std = sc.transform(X_test)\n",
    "\n",
    "    # Create an instance of gradient boosting regressor\n",
    "    gbr = GradientBoostingRegressor(**gbr_params)\n",
    "    \n",
    "    # Fit the model\n",
    "    gbr.fit(X_train_std, y_train)\n",
    "    \n",
    "    # Print Coefficient of determination R^2\n",
    "    print(\"Model Accuracy: %.3f\" % gbr.score(X_test_std, y_test))\n",
    "    \n",
    "    # Create the mean squared error\n",
    "    mse = mean_squared_error(y_test, gbr.predict(X_test_std))\n",
    "    print(\"The mean squared error (MSE) on test set: {:.4f}\".format(mse))\n",
    "    \n",
    "    model_file = f\"modelfiles/{metric}-{state_code}-model.sav\"\n",
    "    \n",
    "    pickle.dump(gbr, open(model_file, \"wb\"))"
   ]
  },
  {
   "cell_type": "code",
   "execution_count": 5,
   "id": "7baf978e",
   "metadata": {},
   "outputs": [
    {
     "name": "stdout",
     "output_type": "stream",
     "text": [
      "Processing AL\n",
      "  state_code        date  value\n",
      "0         AK  1905-01-01    6.1\n",
      "1         AK  1905-01-02    7.2\n",
      "2         AK  1905-01-03    5.0\n",
      "3         AK  1905-01-04    5.6\n",
      "4         AK  1905-01-05    5.6\n"
     ]
    },
    {
     "name": "stderr",
     "output_type": "stream",
     "text": [
      "/Users/sanilveeravu/opt/anaconda3/envs/mlenv/lib/python3.7/site-packages/sklearn/ensemble/_gb.py:290: FutureWarning: The loss 'ls' was deprecated in v1.0 and will be removed in version 1.2. Use 'squared_error' which is equivalent.\n",
      "  FutureWarning,\n"
     ]
    },
    {
     "name": "stdout",
     "output_type": "stream",
     "text": [
      "Model Accuracy: 0.797\n",
      "The mean squared error (MSE) on test set: 8.5292\n",
      "  state_code        date  value\n",
      "0         AK  1905-01-01  -31.1\n",
      "1         AK  1905-01-02  -35.6\n",
      "2         AK  1905-01-03  -34.4\n",
      "3         AK  1905-01-04  -30.0\n",
      "4         AK  1905-01-05  -31.1\n"
     ]
    },
    {
     "name": "stderr",
     "output_type": "stream",
     "text": [
      "/Users/sanilveeravu/opt/anaconda3/envs/mlenv/lib/python3.7/site-packages/sklearn/ensemble/_gb.py:290: FutureWarning: The loss 'ls' was deprecated in v1.0 and will be removed in version 1.2. Use 'squared_error' which is equivalent.\n",
      "  FutureWarning,\n"
     ]
    },
    {
     "name": "stdout",
     "output_type": "stream",
     "text": [
      "Model Accuracy: 0.819\n",
      "The mean squared error (MSE) on test set: 14.5852\n",
      "  state_code        date  value\n",
      "0         AK  1905-01-01   16.0\n",
      "1         AK  1905-01-02   11.9\n",
      "2         AK  1905-01-03   27.9\n",
      "3         AK  1905-01-04   30.5\n",
      "4         AK  1905-01-05   19.1\n"
     ]
    },
    {
     "name": "stderr",
     "output_type": "stream",
     "text": [
      "/Users/sanilveeravu/opt/anaconda3/envs/mlenv/lib/python3.7/site-packages/sklearn/ensemble/_gb.py:290: FutureWarning: The loss 'ls' was deprecated in v1.0 and will be removed in version 1.2. Use 'squared_error' which is equivalent.\n",
      "  FutureWarning,\n"
     ]
    },
    {
     "name": "stdout",
     "output_type": "stream",
     "text": [
      "Model Accuracy: 0.090\n",
      "The mean squared error (MSE) on test set: 1207.3984\n",
      "  state_code        date  value\n",
      "0         AK  1905-01-01  305.0\n",
      "1         AK  1905-01-02  102.0\n",
      "2         AK  1905-01-03  127.0\n",
      "3         AK  1905-01-04  267.0\n",
      "4         AK  1905-01-05  127.0\n"
     ]
    },
    {
     "name": "stderr",
     "output_type": "stream",
     "text": [
      "/Users/sanilveeravu/opt/anaconda3/envs/mlenv/lib/python3.7/site-packages/sklearn/ensemble/_gb.py:290: FutureWarning: The loss 'ls' was deprecated in v1.0 and will be removed in version 1.2. Use 'squared_error' which is equivalent.\n",
      "  FutureWarning,\n"
     ]
    },
    {
     "name": "stdout",
     "output_type": "stream",
     "text": [
      "Model Accuracy: 0.031\n",
      "The mean squared error (MSE) on test set: 139.7745\n",
      "Processing AK\n",
      "  state_code        date  value\n",
      "0         AK  1905-01-01    6.1\n",
      "1         AK  1905-01-02    7.2\n",
      "2         AK  1905-01-03    5.0\n",
      "3         AK  1905-01-04    5.6\n",
      "4         AK  1905-01-05    5.6\n"
     ]
    },
    {
     "name": "stderr",
     "output_type": "stream",
     "text": [
      "/Users/sanilveeravu/opt/anaconda3/envs/mlenv/lib/python3.7/site-packages/sklearn/ensemble/_gb.py:290: FutureWarning: The loss 'ls' was deprecated in v1.0 and will be removed in version 1.2. Use 'squared_error' which is equivalent.\n",
      "  FutureWarning,\n"
     ]
    },
    {
     "name": "stdout",
     "output_type": "stream",
     "text": [
      "Model Accuracy: 0.874\n",
      "The mean squared error (MSE) on test set: 8.2838\n",
      "  state_code        date  value\n",
      "0         AK  1905-01-01  -31.1\n",
      "1         AK  1905-01-02  -35.6\n",
      "2         AK  1905-01-03  -34.4\n",
      "3         AK  1905-01-04  -30.0\n",
      "4         AK  1905-01-05  -31.1\n"
     ]
    },
    {
     "name": "stderr",
     "output_type": "stream",
     "text": [
      "/Users/sanilveeravu/opt/anaconda3/envs/mlenv/lib/python3.7/site-packages/sklearn/ensemble/_gb.py:290: FutureWarning: The loss 'ls' was deprecated in v1.0 and will be removed in version 1.2. Use 'squared_error' which is equivalent.\n",
      "  FutureWarning,\n"
     ]
    },
    {
     "name": "stdout",
     "output_type": "stream",
     "text": [
      "Model Accuracy: 0.897\n",
      "The mean squared error (MSE) on test set: 27.9360\n",
      "  state_code        date  value\n",
      "0         AK  1905-01-01   16.0\n",
      "1         AK  1905-01-02   11.9\n",
      "2         AK  1905-01-03   27.9\n",
      "3         AK  1905-01-04   30.5\n",
      "4         AK  1905-01-05   19.1\n"
     ]
    },
    {
     "name": "stderr",
     "output_type": "stream",
     "text": [
      "/Users/sanilveeravu/opt/anaconda3/envs/mlenv/lib/python3.7/site-packages/sklearn/ensemble/_gb.py:290: FutureWarning: The loss 'ls' was deprecated in v1.0 and will be removed in version 1.2. Use 'squared_error' which is equivalent.\n",
      "  FutureWarning,\n"
     ]
    },
    {
     "name": "stdout",
     "output_type": "stream",
     "text": [
      "Model Accuracy: 0.129\n",
      "The mean squared error (MSE) on test set: 1019.4062\n",
      "  state_code        date  value\n",
      "0         AK  1905-01-01  305.0\n",
      "1         AK  1905-01-02  102.0\n",
      "2         AK  1905-01-03  127.0\n",
      "3         AK  1905-01-04  267.0\n",
      "4         AK  1905-01-05  127.0\n"
     ]
    },
    {
     "name": "stderr",
     "output_type": "stream",
     "text": [
      "/Users/sanilveeravu/opt/anaconda3/envs/mlenv/lib/python3.7/site-packages/sklearn/ensemble/_gb.py:290: FutureWarning: The loss 'ls' was deprecated in v1.0 and will be removed in version 1.2. Use 'squared_error' which is equivalent.\n",
      "  FutureWarning,\n"
     ]
    },
    {
     "name": "stdout",
     "output_type": "stream",
     "text": [
      "Model Accuracy: 0.424\n",
      "The mean squared error (MSE) on test set: 8814.5720\n",
      "Processing AZ\n",
      "  state_code        date  value\n",
      "0         AK  1905-01-01    6.1\n",
      "1         AK  1905-01-02    7.2\n",
      "2         AK  1905-01-03    5.0\n",
      "3         AK  1905-01-04    5.6\n",
      "4         AK  1905-01-05    5.6\n"
     ]
    },
    {
     "name": "stderr",
     "output_type": "stream",
     "text": [
      "/Users/sanilveeravu/opt/anaconda3/envs/mlenv/lib/python3.7/site-packages/sklearn/ensemble/_gb.py:290: FutureWarning: The loss 'ls' was deprecated in v1.0 and will be removed in version 1.2. Use 'squared_error' which is equivalent.\n",
      "  FutureWarning,\n"
     ]
    },
    {
     "name": "stdout",
     "output_type": "stream",
     "text": [
      "Model Accuracy: 0.885\n",
      "The mean squared error (MSE) on test set: 8.0511\n",
      "  state_code        date  value\n",
      "0         AK  1905-01-01  -31.1\n",
      "1         AK  1905-01-02  -35.6\n",
      "2         AK  1905-01-03  -34.4\n",
      "3         AK  1905-01-04  -30.0\n",
      "4         AK  1905-01-05  -31.1\n"
     ]
    },
    {
     "name": "stderr",
     "output_type": "stream",
     "text": [
      "/Users/sanilveeravu/opt/anaconda3/envs/mlenv/lib/python3.7/site-packages/sklearn/ensemble/_gb.py:290: FutureWarning: The loss 'ls' was deprecated in v1.0 and will be removed in version 1.2. Use 'squared_error' which is equivalent.\n",
      "  FutureWarning,\n"
     ]
    },
    {
     "name": "stdout",
     "output_type": "stream",
     "text": [
      "Model Accuracy: 0.815\n",
      "The mean squared error (MSE) on test set: 13.0769\n",
      "  state_code        date  value\n",
      "0         AK  1905-01-01   16.0\n",
      "1         AK  1905-01-02   11.9\n",
      "2         AK  1905-01-03   27.9\n",
      "3         AK  1905-01-04   30.5\n",
      "4         AK  1905-01-05   19.1\n"
     ]
    },
    {
     "name": "stderr",
     "output_type": "stream",
     "text": [
      "/Users/sanilveeravu/opt/anaconda3/envs/mlenv/lib/python3.7/site-packages/sklearn/ensemble/_gb.py:290: FutureWarning: The loss 'ls' was deprecated in v1.0 and will be removed in version 1.2. Use 'squared_error' which is equivalent.\n",
      "  FutureWarning,\n"
     ]
    },
    {
     "name": "stdout",
     "output_type": "stream",
     "text": [
      "Model Accuracy: 0.243\n",
      "The mean squared error (MSE) on test set: 297.0113\n",
      "  state_code        date  value\n",
      "0         AK  1905-01-01  305.0\n",
      "1         AK  1905-01-02  102.0\n",
      "2         AK  1905-01-03  127.0\n",
      "3         AK  1905-01-04  267.0\n",
      "4         AK  1905-01-05  127.0\n"
     ]
    },
    {
     "name": "stderr",
     "output_type": "stream",
     "text": [
      "/Users/sanilveeravu/opt/anaconda3/envs/mlenv/lib/python3.7/site-packages/sklearn/ensemble/_gb.py:290: FutureWarning: The loss 'ls' was deprecated in v1.0 and will be removed in version 1.2. Use 'squared_error' which is equivalent.\n",
      "  FutureWarning,\n"
     ]
    },
    {
     "name": "stdout",
     "output_type": "stream",
     "text": [
      "Model Accuracy: 0.165\n",
      "The mean squared error (MSE) on test set: 4287.1015\n",
      "Processing AR\n",
      "  state_code        date  value\n",
      "0         AK  1905-01-01    6.1\n",
      "1         AK  1905-01-02    7.2\n",
      "2         AK  1905-01-03    5.0\n",
      "3         AK  1905-01-04    5.6\n",
      "4         AK  1905-01-05    5.6\n"
     ]
    },
    {
     "name": "stderr",
     "output_type": "stream",
     "text": [
      "/Users/sanilveeravu/opt/anaconda3/envs/mlenv/lib/python3.7/site-packages/sklearn/ensemble/_gb.py:290: FutureWarning: The loss 'ls' was deprecated in v1.0 and will be removed in version 1.2. Use 'squared_error' which is equivalent.\n",
      "  FutureWarning,\n"
     ]
    },
    {
     "name": "stdout",
     "output_type": "stream",
     "text": [
      "Model Accuracy: 0.792\n",
      "The mean squared error (MSE) on test set: 13.2711\n",
      "  state_code        date  value\n",
      "0         AK  1905-01-01  -31.1\n",
      "1         AK  1905-01-02  -35.6\n",
      "2         AK  1905-01-03  -34.4\n",
      "3         AK  1905-01-04  -30.0\n",
      "4         AK  1905-01-05  -31.1\n"
     ]
    },
    {
     "name": "stderr",
     "output_type": "stream",
     "text": [
      "/Users/sanilveeravu/opt/anaconda3/envs/mlenv/lib/python3.7/site-packages/sklearn/ensemble/_gb.py:290: FutureWarning: The loss 'ls' was deprecated in v1.0 and will be removed in version 1.2. Use 'squared_error' which is equivalent.\n",
      "  FutureWarning,\n"
     ]
    },
    {
     "name": "stdout",
     "output_type": "stream",
     "text": [
      "Model Accuracy: 0.833\n",
      "The mean squared error (MSE) on test set: 15.2970\n",
      "  state_code        date  value\n",
      "0         AK  1905-01-01   16.0\n",
      "1         AK  1905-01-02   11.9\n",
      "2         AK  1905-01-03   27.9\n",
      "3         AK  1905-01-04   30.5\n",
      "4         AK  1905-01-05   19.1\n"
     ]
    },
    {
     "name": "stderr",
     "output_type": "stream",
     "text": [
      "/Users/sanilveeravu/opt/anaconda3/envs/mlenv/lib/python3.7/site-packages/sklearn/ensemble/_gb.py:290: FutureWarning: The loss 'ls' was deprecated in v1.0 and will be removed in version 1.2. Use 'squared_error' which is equivalent.\n",
      "  FutureWarning,\n"
     ]
    },
    {
     "name": "stdout",
     "output_type": "stream",
     "text": [
      "Model Accuracy: 0.080\n",
      "The mean squared error (MSE) on test set: 1052.3680\n",
      "  state_code        date  value\n",
      "0         AK  1905-01-01  305.0\n",
      "1         AK  1905-01-02  102.0\n",
      "2         AK  1905-01-03  127.0\n",
      "3         AK  1905-01-04  267.0\n",
      "4         AK  1905-01-05  127.0\n"
     ]
    },
    {
     "name": "stderr",
     "output_type": "stream",
     "text": [
      "/Users/sanilveeravu/opt/anaconda3/envs/mlenv/lib/python3.7/site-packages/sklearn/ensemble/_gb.py:290: FutureWarning: The loss 'ls' was deprecated in v1.0 and will be removed in version 1.2. Use 'squared_error' which is equivalent.\n",
      "  FutureWarning,\n"
     ]
    },
    {
     "name": "stdout",
     "output_type": "stream",
     "text": [
      "Model Accuracy: 0.102\n",
      "The mean squared error (MSE) on test set: 585.9483\n",
      "Processing CA\n",
      "  state_code        date  value\n",
      "0         AK  1905-01-01    6.1\n",
      "1         AK  1905-01-02    7.2\n",
      "2         AK  1905-01-03    5.0\n",
      "3         AK  1905-01-04    5.6\n",
      "4         AK  1905-01-05    5.6\n"
     ]
    },
    {
     "name": "stderr",
     "output_type": "stream",
     "text": [
      "/Users/sanilveeravu/opt/anaconda3/envs/mlenv/lib/python3.7/site-packages/sklearn/ensemble/_gb.py:290: FutureWarning: The loss 'ls' was deprecated in v1.0 and will be removed in version 1.2. Use 'squared_error' which is equivalent.\n",
      "  FutureWarning,\n"
     ]
    },
    {
     "name": "stdout",
     "output_type": "stream",
     "text": [
      "Model Accuracy: 0.858\n",
      "The mean squared error (MSE) on test set: 10.4553\n",
      "  state_code        date  value\n",
      "0         AK  1905-01-01  -31.1\n",
      "1         AK  1905-01-02  -35.6\n",
      "2         AK  1905-01-03  -34.4\n",
      "3         AK  1905-01-04  -30.0\n",
      "4         AK  1905-01-05  -31.1\n"
     ]
    },
    {
     "name": "stderr",
     "output_type": "stream",
     "text": [
      "/Users/sanilveeravu/opt/anaconda3/envs/mlenv/lib/python3.7/site-packages/sklearn/ensemble/_gb.py:290: FutureWarning: The loss 'ls' was deprecated in v1.0 and will be removed in version 1.2. Use 'squared_error' which is equivalent.\n",
      "  FutureWarning,\n"
     ]
    },
    {
     "name": "stdout",
     "output_type": "stream",
     "text": [
      "Model Accuracy: 0.729\n",
      "The mean squared error (MSE) on test set: 15.9537\n",
      "  state_code        date  value\n",
      "0         AK  1905-01-01   16.0\n",
      "1         AK  1905-01-02   11.9\n",
      "2         AK  1905-01-03   27.9\n",
      "3         AK  1905-01-04   30.5\n",
      "4         AK  1905-01-05   19.1\n"
     ]
    },
    {
     "name": "stderr",
     "output_type": "stream",
     "text": [
      "/Users/sanilveeravu/opt/anaconda3/envs/mlenv/lib/python3.7/site-packages/sklearn/ensemble/_gb.py:290: FutureWarning: The loss 'ls' was deprecated in v1.0 and will be removed in version 1.2. Use 'squared_error' which is equivalent.\n",
      "  FutureWarning,\n"
     ]
    },
    {
     "name": "stdout",
     "output_type": "stream",
     "text": [
      "Model Accuracy: 0.207\n",
      "The mean squared error (MSE) on test set: 1055.7798\n",
      "  state_code        date  value\n",
      "0         AK  1905-01-01  305.0\n",
      "1         AK  1905-01-02  102.0\n",
      "2         AK  1905-01-03  127.0\n",
      "3         AK  1905-01-04  267.0\n",
      "4         AK  1905-01-05  127.0\n"
     ]
    },
    {
     "name": "stderr",
     "output_type": "stream",
     "text": [
      "/Users/sanilveeravu/opt/anaconda3/envs/mlenv/lib/python3.7/site-packages/sklearn/ensemble/_gb.py:290: FutureWarning: The loss 'ls' was deprecated in v1.0 and will be removed in version 1.2. Use 'squared_error' which is equivalent.\n",
      "  FutureWarning,\n"
     ]
    },
    {
     "name": "stdout",
     "output_type": "stream",
     "text": [
      "Model Accuracy: 0.232\n",
      "The mean squared error (MSE) on test set: 14051.4534\n",
      "Processing CO\n",
      "  state_code        date  value\n",
      "0         AK  1905-01-01    6.1\n",
      "1         AK  1905-01-02    7.2\n",
      "2         AK  1905-01-03    5.0\n",
      "3         AK  1905-01-04    5.6\n",
      "4         AK  1905-01-05    5.6\n"
     ]
    },
    {
     "name": "stderr",
     "output_type": "stream",
     "text": [
      "/Users/sanilveeravu/opt/anaconda3/envs/mlenv/lib/python3.7/site-packages/sklearn/ensemble/_gb.py:290: FutureWarning: The loss 'ls' was deprecated in v1.0 and will be removed in version 1.2. Use 'squared_error' which is equivalent.\n",
      "  FutureWarning,\n"
     ]
    },
    {
     "name": "stdout",
     "output_type": "stream",
     "text": [
      "Model Accuracy: 0.819\n",
      "The mean squared error (MSE) on test set: 15.5716\n",
      "  state_code        date  value\n",
      "0         AK  1905-01-01  -31.1\n",
      "1         AK  1905-01-02  -35.6\n",
      "2         AK  1905-01-03  -34.4\n",
      "3         AK  1905-01-04  -30.0\n",
      "4         AK  1905-01-05  -31.1\n"
     ]
    },
    {
     "name": "stderr",
     "output_type": "stream",
     "text": [
      "/Users/sanilveeravu/opt/anaconda3/envs/mlenv/lib/python3.7/site-packages/sklearn/ensemble/_gb.py:290: FutureWarning: The loss 'ls' was deprecated in v1.0 and will be removed in version 1.2. Use 'squared_error' which is equivalent.\n",
      "  FutureWarning,\n"
     ]
    },
    {
     "name": "stdout",
     "output_type": "stream",
     "text": [
      "Model Accuracy: 0.851\n",
      "The mean squared error (MSE) on test set: 17.6439\n",
      "  state_code        date  value\n",
      "0         AK  1905-01-01   16.0\n",
      "1         AK  1905-01-02   11.9\n",
      "2         AK  1905-01-03   27.9\n",
      "3         AK  1905-01-04   30.5\n",
      "4         AK  1905-01-05   19.1\n"
     ]
    },
    {
     "name": "stderr",
     "output_type": "stream",
     "text": [
      "/Users/sanilveeravu/opt/anaconda3/envs/mlenv/lib/python3.7/site-packages/sklearn/ensemble/_gb.py:290: FutureWarning: The loss 'ls' was deprecated in v1.0 and will be removed in version 1.2. Use 'squared_error' which is equivalent.\n",
      "  FutureWarning,\n"
     ]
    },
    {
     "name": "stdout",
     "output_type": "stream",
     "text": [
      "Model Accuracy: 0.188\n",
      "The mean squared error (MSE) on test set: 275.8676\n",
      "  state_code        date  value\n",
      "0         AK  1905-01-01  305.0\n",
      "1         AK  1905-01-02  102.0\n",
      "2         AK  1905-01-03  127.0\n",
      "3         AK  1905-01-04  267.0\n",
      "4         AK  1905-01-05  127.0\n"
     ]
    },
    {
     "name": "stderr",
     "output_type": "stream",
     "text": [
      "/Users/sanilveeravu/opt/anaconda3/envs/mlenv/lib/python3.7/site-packages/sklearn/ensemble/_gb.py:290: FutureWarning: The loss 'ls' was deprecated in v1.0 and will be removed in version 1.2. Use 'squared_error' which is equivalent.\n",
      "  FutureWarning,\n"
     ]
    },
    {
     "name": "stdout",
     "output_type": "stream",
     "text": [
      "Model Accuracy: 0.243\n",
      "The mean squared error (MSE) on test set: 12659.9549\n",
      "Processing CT\n",
      "  state_code        date  value\n",
      "0         AK  1905-01-01    6.1\n",
      "1         AK  1905-01-02    7.2\n",
      "2         AK  1905-01-03    5.0\n",
      "3         AK  1905-01-04    5.6\n",
      "4         AK  1905-01-05    5.6\n"
     ]
    },
    {
     "name": "stderr",
     "output_type": "stream",
     "text": [
      "/Users/sanilveeravu/opt/anaconda3/envs/mlenv/lib/python3.7/site-packages/sklearn/ensemble/_gb.py:290: FutureWarning: The loss 'ls' was deprecated in v1.0 and will be removed in version 1.2. Use 'squared_error' which is equivalent.\n",
      "  FutureWarning,\n"
     ]
    },
    {
     "name": "stdout",
     "output_type": "stream",
     "text": [
      "Model Accuracy: 0.829\n",
      "The mean squared error (MSE) on test set: 17.3534\n",
      "  state_code        date  value\n",
      "0         AK  1905-01-01  -31.1\n",
      "1         AK  1905-01-02  -35.6\n",
      "2         AK  1905-01-03  -34.4\n",
      "3         AK  1905-01-04  -30.0\n",
      "4         AK  1905-01-05  -31.1\n"
     ]
    },
    {
     "name": "stderr",
     "output_type": "stream",
     "text": [
      "/Users/sanilveeravu/opt/anaconda3/envs/mlenv/lib/python3.7/site-packages/sklearn/ensemble/_gb.py:290: FutureWarning: The loss 'ls' was deprecated in v1.0 and will be removed in version 1.2. Use 'squared_error' which is equivalent.\n",
      "  FutureWarning,\n"
     ]
    },
    {
     "name": "stdout",
     "output_type": "stream",
     "text": [
      "Model Accuracy: 0.796\n",
      "The mean squared error (MSE) on test set: 20.2119\n",
      "  state_code        date  value\n",
      "0         AK  1905-01-01   16.0\n",
      "1         AK  1905-01-02   11.9\n",
      "2         AK  1905-01-03   27.9\n",
      "3         AK  1905-01-04   30.5\n",
      "4         AK  1905-01-05   19.1\n"
     ]
    },
    {
     "name": "stderr",
     "output_type": "stream",
     "text": [
      "/Users/sanilveeravu/opt/anaconda3/envs/mlenv/lib/python3.7/site-packages/sklearn/ensemble/_gb.py:290: FutureWarning: The loss 'ls' was deprecated in v1.0 and will be removed in version 1.2. Use 'squared_error' which is equivalent.\n",
      "  FutureWarning,\n"
     ]
    },
    {
     "name": "stdout",
     "output_type": "stream",
     "text": [
      "Model Accuracy: 0.035\n",
      "The mean squared error (MSE) on test set: 390.8582\n",
      "  state_code        date  value\n",
      "0         AK  1905-01-01  305.0\n",
      "1         AK  1905-01-02  102.0\n",
      "2         AK  1905-01-03  127.0\n",
      "3         AK  1905-01-04  267.0\n",
      "4         AK  1905-01-05  127.0\n"
     ]
    },
    {
     "name": "stderr",
     "output_type": "stream",
     "text": [
      "/Users/sanilveeravu/opt/anaconda3/envs/mlenv/lib/python3.7/site-packages/sklearn/ensemble/_gb.py:290: FutureWarning: The loss 'ls' was deprecated in v1.0 and will be removed in version 1.2. Use 'squared_error' which is equivalent.\n",
      "  FutureWarning,\n"
     ]
    },
    {
     "name": "stdout",
     "output_type": "stream",
     "text": [
      "Model Accuracy: 0.130\n",
      "The mean squared error (MSE) on test set: 1385.4548\n",
      "Processing DE\n",
      "  state_code        date  value\n",
      "0         AK  1905-01-01    6.1\n",
      "1         AK  1905-01-02    7.2\n",
      "2         AK  1905-01-03    5.0\n",
      "3         AK  1905-01-04    5.6\n",
      "4         AK  1905-01-05    5.6\n"
     ]
    },
    {
     "name": "stderr",
     "output_type": "stream",
     "text": [
      "/Users/sanilveeravu/opt/anaconda3/envs/mlenv/lib/python3.7/site-packages/sklearn/ensemble/_gb.py:290: FutureWarning: The loss 'ls' was deprecated in v1.0 and will be removed in version 1.2. Use 'squared_error' which is equivalent.\n",
      "  FutureWarning,\n"
     ]
    },
    {
     "name": "stdout",
     "output_type": "stream",
     "text": [
      "Model Accuracy: 0.776\n",
      "The mean squared error (MSE) on test set: 20.0953\n",
      "  state_code        date  value\n",
      "0         AK  1905-01-01  -31.1\n",
      "1         AK  1905-01-02  -35.6\n",
      "2         AK  1905-01-03  -34.4\n",
      "3         AK  1905-01-04  -30.0\n",
      "4         AK  1905-01-05  -31.1\n"
     ]
    },
    {
     "name": "stderr",
     "output_type": "stream",
     "text": [
      "/Users/sanilveeravu/opt/anaconda3/envs/mlenv/lib/python3.7/site-packages/sklearn/ensemble/_gb.py:290: FutureWarning: The loss 'ls' was deprecated in v1.0 and will be removed in version 1.2. Use 'squared_error' which is equivalent.\n",
      "  FutureWarning,\n"
     ]
    },
    {
     "name": "stdout",
     "output_type": "stream",
     "text": [
      "Model Accuracy: 0.807\n",
      "The mean squared error (MSE) on test set: 16.6261\n",
      "  state_code        date  value\n",
      "0         AK  1905-01-01   16.0\n",
      "1         AK  1905-01-02   11.9\n",
      "2         AK  1905-01-03   27.9\n",
      "3         AK  1905-01-04   30.5\n",
      "4         AK  1905-01-05   19.1\n"
     ]
    },
    {
     "name": "stderr",
     "output_type": "stream",
     "text": [
      "/Users/sanilveeravu/opt/anaconda3/envs/mlenv/lib/python3.7/site-packages/sklearn/ensemble/_gb.py:290: FutureWarning: The loss 'ls' was deprecated in v1.0 and will be removed in version 1.2. Use 'squared_error' which is equivalent.\n",
      "  FutureWarning,\n"
     ]
    },
    {
     "name": "stdout",
     "output_type": "stream",
     "text": [
      "Model Accuracy: 0.041\n",
      "The mean squared error (MSE) on test set: 253.3278\n",
      "  state_code        date  value\n",
      "0         AK  1905-01-01  305.0\n",
      "1         AK  1905-01-02  102.0\n",
      "2         AK  1905-01-03  127.0\n",
      "3         AK  1905-01-04  267.0\n",
      "4         AK  1905-01-05  127.0\n"
     ]
    },
    {
     "name": "stderr",
     "output_type": "stream",
     "text": [
      "/Users/sanilveeravu/opt/anaconda3/envs/mlenv/lib/python3.7/site-packages/sklearn/ensemble/_gb.py:290: FutureWarning: The loss 'ls' was deprecated in v1.0 and will be removed in version 1.2. Use 'squared_error' which is equivalent.\n",
      "  FutureWarning,\n"
     ]
    },
    {
     "name": "stdout",
     "output_type": "stream",
     "text": [
      "Model Accuracy: 0.001\n",
      "The mean squared error (MSE) on test set: 433.0122\n",
      "Processing FL\n",
      "  state_code        date  value\n",
      "0         AK  1905-01-01    6.1\n",
      "1         AK  1905-01-02    7.2\n",
      "2         AK  1905-01-03    5.0\n",
      "3         AK  1905-01-04    5.6\n",
      "4         AK  1905-01-05    5.6\n"
     ]
    },
    {
     "name": "stderr",
     "output_type": "stream",
     "text": [
      "/Users/sanilveeravu/opt/anaconda3/envs/mlenv/lib/python3.7/site-packages/sklearn/ensemble/_gb.py:290: FutureWarning: The loss 'ls' was deprecated in v1.0 and will be removed in version 1.2. Use 'squared_error' which is equivalent.\n",
      "  FutureWarning,\n"
     ]
    },
    {
     "name": "stdout",
     "output_type": "stream",
     "text": [
      "Model Accuracy: 0.757\n",
      "The mean squared error (MSE) on test set: 3.3774\n",
      "  state_code        date  value\n",
      "0         AK  1905-01-01  -31.1\n",
      "1         AK  1905-01-02  -35.6\n",
      "2         AK  1905-01-03  -34.4\n",
      "3         AK  1905-01-04  -30.0\n",
      "4         AK  1905-01-05  -31.1\n"
     ]
    },
    {
     "name": "stderr",
     "output_type": "stream",
     "text": [
      "/Users/sanilveeravu/opt/anaconda3/envs/mlenv/lib/python3.7/site-packages/sklearn/ensemble/_gb.py:290: FutureWarning: The loss 'ls' was deprecated in v1.0 and will be removed in version 1.2. Use 'squared_error' which is equivalent.\n",
      "  FutureWarning,\n"
     ]
    },
    {
     "name": "stdout",
     "output_type": "stream",
     "text": [
      "Model Accuracy: 0.790\n",
      "The mean squared error (MSE) on test set: 13.0835\n",
      "  state_code        date  value\n",
      "0         AK  1905-01-01   16.0\n",
      "1         AK  1905-01-02   11.9\n",
      "2         AK  1905-01-03   27.9\n",
      "3         AK  1905-01-04   30.5\n",
      "4         AK  1905-01-05   19.1\n"
     ]
    },
    {
     "name": "stderr",
     "output_type": "stream",
     "text": [
      "/Users/sanilveeravu/opt/anaconda3/envs/mlenv/lib/python3.7/site-packages/sklearn/ensemble/_gb.py:290: FutureWarning: The loss 'ls' was deprecated in v1.0 and will be removed in version 1.2. Use 'squared_error' which is equivalent.\n",
      "  FutureWarning,\n"
     ]
    },
    {
     "name": "stdout",
     "output_type": "stream",
     "text": [
      "Model Accuracy: 0.221\n",
      "The mean squared error (MSE) on test set: 1457.5829\n",
      "  state_code        date  value\n",
      "0         AK  1905-01-01  305.0\n",
      "1         AK  1905-01-02  102.0\n",
      "2         AK  1905-01-03  127.0\n",
      "3         AK  1905-01-04  267.0\n",
      "4         AK  1905-01-05  127.0\n"
     ]
    },
    {
     "name": "stderr",
     "output_type": "stream",
     "text": [
      "/Users/sanilveeravu/opt/anaconda3/envs/mlenv/lib/python3.7/site-packages/sklearn/ensemble/_gb.py:290: FutureWarning: The loss 'ls' was deprecated in v1.0 and will be removed in version 1.2. Use 'squared_error' which is equivalent.\n",
      "  FutureWarning,\n"
     ]
    },
    {
     "name": "stdout",
     "output_type": "stream",
     "text": [
      "Model Accuracy: -0.048\n",
      "The mean squared error (MSE) on test set: 2.8696\n",
      "Processing GA\n",
      "  state_code        date  value\n",
      "0         AK  1905-01-01    6.1\n",
      "1         AK  1905-01-02    7.2\n",
      "2         AK  1905-01-03    5.0\n",
      "3         AK  1905-01-04    5.6\n",
      "4         AK  1905-01-05    5.6\n"
     ]
    },
    {
     "name": "stderr",
     "output_type": "stream",
     "text": [
      "/Users/sanilveeravu/opt/anaconda3/envs/mlenv/lib/python3.7/site-packages/sklearn/ensemble/_gb.py:290: FutureWarning: The loss 'ls' was deprecated in v1.0 and will be removed in version 1.2. Use 'squared_error' which is equivalent.\n",
      "  FutureWarning,\n"
     ]
    },
    {
     "name": "stdout",
     "output_type": "stream",
     "text": [
      "Model Accuracy: 0.786\n",
      "The mean squared error (MSE) on test set: 8.2108\n",
      "  state_code        date  value\n",
      "0         AK  1905-01-01  -31.1\n",
      "1         AK  1905-01-02  -35.6\n",
      "2         AK  1905-01-03  -34.4\n",
      "3         AK  1905-01-04  -30.0\n",
      "4         AK  1905-01-05  -31.1\n"
     ]
    },
    {
     "name": "stderr",
     "output_type": "stream",
     "text": [
      "/Users/sanilveeravu/opt/anaconda3/envs/mlenv/lib/python3.7/site-packages/sklearn/ensemble/_gb.py:290: FutureWarning: The loss 'ls' was deprecated in v1.0 and will be removed in version 1.2. Use 'squared_error' which is equivalent.\n",
      "  FutureWarning,\n"
     ]
    },
    {
     "name": "stdout",
     "output_type": "stream",
     "text": [
      "Model Accuracy: 0.800\n",
      "The mean squared error (MSE) on test set: 14.9582\n",
      "  state_code        date  value\n",
      "0         AK  1905-01-01   16.0\n",
      "1         AK  1905-01-02   11.9\n",
      "2         AK  1905-01-03   27.9\n",
      "3         AK  1905-01-04   30.5\n",
      "4         AK  1905-01-05   19.1\n"
     ]
    },
    {
     "name": "stderr",
     "output_type": "stream",
     "text": [
      "/Users/sanilveeravu/opt/anaconda3/envs/mlenv/lib/python3.7/site-packages/sklearn/ensemble/_gb.py:290: FutureWarning: The loss 'ls' was deprecated in v1.0 and will be removed in version 1.2. Use 'squared_error' which is equivalent.\n",
      "  FutureWarning,\n"
     ]
    },
    {
     "name": "stdout",
     "output_type": "stream",
     "text": [
      "Model Accuracy: 0.129\n",
      "The mean squared error (MSE) on test set: 1094.0279\n",
      "  state_code        date  value\n",
      "0         AK  1905-01-01  305.0\n",
      "1         AK  1905-01-02  102.0\n",
      "2         AK  1905-01-03  127.0\n",
      "3         AK  1905-01-04  267.0\n",
      "4         AK  1905-01-05  127.0\n"
     ]
    },
    {
     "name": "stderr",
     "output_type": "stream",
     "text": [
      "/Users/sanilveeravu/opt/anaconda3/envs/mlenv/lib/python3.7/site-packages/sklearn/ensemble/_gb.py:290: FutureWarning: The loss 'ls' was deprecated in v1.0 and will be removed in version 1.2. Use 'squared_error' which is equivalent.\n",
      "  FutureWarning,\n"
     ]
    },
    {
     "name": "stdout",
     "output_type": "stream",
     "text": [
      "Model Accuracy: 0.033\n",
      "The mean squared error (MSE) on test set: 111.4896\n",
      "Processing HI\n",
      "  state_code        date  value\n",
      "0         AK  1905-01-01    6.1\n",
      "1         AK  1905-01-02    7.2\n",
      "2         AK  1905-01-03    5.0\n",
      "3         AK  1905-01-04    5.6\n",
      "4         AK  1905-01-05    5.6\n"
     ]
    },
    {
     "name": "stderr",
     "output_type": "stream",
     "text": [
      "/Users/sanilveeravu/opt/anaconda3/envs/mlenv/lib/python3.7/site-packages/sklearn/ensemble/_gb.py:290: FutureWarning: The loss 'ls' was deprecated in v1.0 and will be removed in version 1.2. Use 'squared_error' which is equivalent.\n",
      "  FutureWarning,\n"
     ]
    },
    {
     "name": "stdout",
     "output_type": "stream",
     "text": [
      "Model Accuracy: 0.628\n",
      "The mean squared error (MSE) on test set: 1.3497\n",
      "  state_code        date  value\n",
      "0         AK  1905-01-01  -31.1\n",
      "1         AK  1905-01-02  -35.6\n",
      "2         AK  1905-01-03  -34.4\n",
      "3         AK  1905-01-04  -30.0\n",
      "4         AK  1905-01-05  -31.1\n"
     ]
    },
    {
     "name": "stderr",
     "output_type": "stream",
     "text": [
      "/Users/sanilveeravu/opt/anaconda3/envs/mlenv/lib/python3.7/site-packages/sklearn/ensemble/_gb.py:290: FutureWarning: The loss 'ls' was deprecated in v1.0 and will be removed in version 1.2. Use 'squared_error' which is equivalent.\n",
      "  FutureWarning,\n"
     ]
    },
    {
     "name": "stdout",
     "output_type": "stream",
     "text": [
      "Model Accuracy: 0.804\n",
      "The mean squared error (MSE) on test set: 4.0313\n",
      "  state_code        date  value\n",
      "0         AK  1905-01-01   16.0\n",
      "1         AK  1905-01-02   11.9\n",
      "2         AK  1905-01-03   27.9\n",
      "3         AK  1905-01-04   30.5\n",
      "4         AK  1905-01-05   19.1\n"
     ]
    },
    {
     "name": "stderr",
     "output_type": "stream",
     "text": [
      "/Users/sanilveeravu/opt/anaconda3/envs/mlenv/lib/python3.7/site-packages/sklearn/ensemble/_gb.py:290: FutureWarning: The loss 'ls' was deprecated in v1.0 and will be removed in version 1.2. Use 'squared_error' which is equivalent.\n",
      "  FutureWarning,\n"
     ]
    },
    {
     "name": "stdout",
     "output_type": "stream",
     "text": [
      "Model Accuracy: 0.136\n",
      "The mean squared error (MSE) on test set: 2629.4614\n",
      "  state_code        date  value\n",
      "0         AK  1905-01-01  305.0\n",
      "1         AK  1905-01-02  102.0\n",
      "2         AK  1905-01-03  127.0\n",
      "3         AK  1905-01-04  267.0\n",
      "4         AK  1905-01-05  127.0\n"
     ]
    },
    {
     "name": "stderr",
     "output_type": "stream",
     "text": [
      "/Users/sanilveeravu/opt/anaconda3/envs/mlenv/lib/python3.7/site-packages/sklearn/ensemble/_gb.py:290: FutureWarning: The loss 'ls' was deprecated in v1.0 and will be removed in version 1.2. Use 'squared_error' which is equivalent.\n",
      "  FutureWarning,\n"
     ]
    },
    {
     "name": "stdout",
     "output_type": "stream",
     "text": [
      "Model Accuracy: -12.474\n",
      "The mean squared error (MSE) on test set: 0.1085\n",
      "Processing ID\n",
      "  state_code        date  value\n",
      "0         AK  1905-01-01    6.1\n",
      "1         AK  1905-01-02    7.2\n",
      "2         AK  1905-01-03    5.0\n",
      "3         AK  1905-01-04    5.6\n",
      "4         AK  1905-01-05    5.6\n"
     ]
    },
    {
     "name": "stderr",
     "output_type": "stream",
     "text": [
      "/Users/sanilveeravu/opt/anaconda3/envs/mlenv/lib/python3.7/site-packages/sklearn/ensemble/_gb.py:290: FutureWarning: The loss 'ls' was deprecated in v1.0 and will be removed in version 1.2. Use 'squared_error' which is equivalent.\n",
      "  FutureWarning,\n"
     ]
    },
    {
     "name": "stdout",
     "output_type": "stream",
     "text": [
      "Model Accuracy: 0.875\n",
      "The mean squared error (MSE) on test set: 14.6301\n",
      "  state_code        date  value\n",
      "0         AK  1905-01-01  -31.1\n",
      "1         AK  1905-01-02  -35.6\n",
      "2         AK  1905-01-03  -34.4\n",
      "3         AK  1905-01-04  -30.0\n",
      "4         AK  1905-01-05  -31.1\n"
     ]
    },
    {
     "name": "stderr",
     "output_type": "stream",
     "text": [
      "/Users/sanilveeravu/opt/anaconda3/envs/mlenv/lib/python3.7/site-packages/sklearn/ensemble/_gb.py:290: FutureWarning: The loss 'ls' was deprecated in v1.0 and will be removed in version 1.2. Use 'squared_error' which is equivalent.\n",
      "  FutureWarning,\n"
     ]
    },
    {
     "name": "stdout",
     "output_type": "stream",
     "text": [
      "Model Accuracy: 0.786\n",
      "The mean squared error (MSE) on test set: 20.9725\n",
      "  state_code        date  value\n",
      "0         AK  1905-01-01   16.0\n",
      "1         AK  1905-01-02   11.9\n",
      "2         AK  1905-01-03   27.9\n",
      "3         AK  1905-01-04   30.5\n",
      "4         AK  1905-01-05   19.1\n"
     ]
    },
    {
     "name": "stderr",
     "output_type": "stream",
     "text": [
      "/Users/sanilveeravu/opt/anaconda3/envs/mlenv/lib/python3.7/site-packages/sklearn/ensemble/_gb.py:290: FutureWarning: The loss 'ls' was deprecated in v1.0 and will be removed in version 1.2. Use 'squared_error' which is equivalent.\n",
      "  FutureWarning,\n"
     ]
    },
    {
     "name": "stdout",
     "output_type": "stream",
     "text": [
      "Model Accuracy: 0.149\n",
      "The mean squared error (MSE) on test set: 185.6797\n",
      "  state_code        date  value\n",
      "0         AK  1905-01-01  305.0\n",
      "1         AK  1905-01-02  102.0\n",
      "2         AK  1905-01-03  127.0\n",
      "3         AK  1905-01-04  267.0\n",
      "4         AK  1905-01-05  127.0\n"
     ]
    },
    {
     "name": "stderr",
     "output_type": "stream",
     "text": [
      "/Users/sanilveeravu/opt/anaconda3/envs/mlenv/lib/python3.7/site-packages/sklearn/ensemble/_gb.py:290: FutureWarning: The loss 'ls' was deprecated in v1.0 and will be removed in version 1.2. Use 'squared_error' which is equivalent.\n",
      "  FutureWarning,\n"
     ]
    },
    {
     "name": "stdout",
     "output_type": "stream",
     "text": [
      "Model Accuracy: 0.356\n",
      "The mean squared error (MSE) on test set: 5278.3643\n",
      "Processing IL\n",
      "  state_code        date  value\n",
      "0         AK  1905-01-01    6.1\n",
      "1         AK  1905-01-02    7.2\n",
      "2         AK  1905-01-03    5.0\n",
      "3         AK  1905-01-04    5.6\n",
      "4         AK  1905-01-05    5.6\n"
     ]
    },
    {
     "name": "stderr",
     "output_type": "stream",
     "text": [
      "/Users/sanilveeravu/opt/anaconda3/envs/mlenv/lib/python3.7/site-packages/sklearn/ensemble/_gb.py:290: FutureWarning: The loss 'ls' was deprecated in v1.0 and will be removed in version 1.2. Use 'squared_error' which is equivalent.\n",
      "  FutureWarning,\n"
     ]
    },
    {
     "name": "stdout",
     "output_type": "stream",
     "text": [
      "Model Accuracy: 0.806\n",
      "The mean squared error (MSE) on test set: 20.6116\n",
      "  state_code        date  value\n",
      "0         AK  1905-01-01  -31.1\n",
      "1         AK  1905-01-02  -35.6\n",
      "2         AK  1905-01-03  -34.4\n",
      "3         AK  1905-01-04  -30.0\n",
      "4         AK  1905-01-05  -31.1\n"
     ]
    },
    {
     "name": "stderr",
     "output_type": "stream",
     "text": [
      "/Users/sanilveeravu/opt/anaconda3/envs/mlenv/lib/python3.7/site-packages/sklearn/ensemble/_gb.py:290: FutureWarning: The loss 'ls' was deprecated in v1.0 and will be removed in version 1.2. Use 'squared_error' which is equivalent.\n",
      "  FutureWarning,\n"
     ]
    },
    {
     "name": "stdout",
     "output_type": "stream",
     "text": [
      "Model Accuracy: 0.812\n",
      "The mean squared error (MSE) on test set: 22.3257\n",
      "  state_code        date  value\n",
      "0         AK  1905-01-01   16.0\n",
      "1         AK  1905-01-02   11.9\n",
      "2         AK  1905-01-03   27.9\n",
      "3         AK  1905-01-04   30.5\n",
      "4         AK  1905-01-05   19.1\n"
     ]
    },
    {
     "name": "stderr",
     "output_type": "stream",
     "text": [
      "/Users/sanilveeravu/opt/anaconda3/envs/mlenv/lib/python3.7/site-packages/sklearn/ensemble/_gb.py:290: FutureWarning: The loss 'ls' was deprecated in v1.0 and will be removed in version 1.2. Use 'squared_error' which is equivalent.\n",
      "  FutureWarning,\n"
     ]
    },
    {
     "name": "stdout",
     "output_type": "stream",
     "text": [
      "Model Accuracy: 0.143\n",
      "The mean squared error (MSE) on test set: 701.8513\n",
      "  state_code        date  value\n",
      "0         AK  1905-01-01  305.0\n",
      "1         AK  1905-01-02  102.0\n",
      "2         AK  1905-01-03  127.0\n",
      "3         AK  1905-01-04  267.0\n",
      "4         AK  1905-01-05  127.0\n"
     ]
    },
    {
     "name": "stderr",
     "output_type": "stream",
     "text": [
      "/Users/sanilveeravu/opt/anaconda3/envs/mlenv/lib/python3.7/site-packages/sklearn/ensemble/_gb.py:290: FutureWarning: The loss 'ls' was deprecated in v1.0 and will be removed in version 1.2. Use 'squared_error' which is equivalent.\n",
      "  FutureWarning,\n"
     ]
    },
    {
     "name": "stdout",
     "output_type": "stream",
     "text": [
      "Model Accuracy: 0.229\n",
      "The mean squared error (MSE) on test set: 1549.7262\n",
      "Processing IN\n",
      "  state_code        date  value\n",
      "0         AK  1905-01-01    6.1\n",
      "1         AK  1905-01-02    7.2\n",
      "2         AK  1905-01-03    5.0\n",
      "3         AK  1905-01-04    5.6\n",
      "4         AK  1905-01-05    5.6\n"
     ]
    },
    {
     "name": "stderr",
     "output_type": "stream",
     "text": [
      "/Users/sanilveeravu/opt/anaconda3/envs/mlenv/lib/python3.7/site-packages/sklearn/ensemble/_gb.py:290: FutureWarning: The loss 'ls' was deprecated in v1.0 and will be removed in version 1.2. Use 'squared_error' which is equivalent.\n",
      "  FutureWarning,\n"
     ]
    },
    {
     "name": "stdout",
     "output_type": "stream",
     "text": [
      "Model Accuracy: 0.811\n",
      "The mean squared error (MSE) on test set: 19.3731\n",
      "  state_code        date  value\n",
      "0         AK  1905-01-01  -31.1\n",
      "1         AK  1905-01-02  -35.6\n",
      "2         AK  1905-01-03  -34.4\n",
      "3         AK  1905-01-04  -30.0\n",
      "4         AK  1905-01-05  -31.1\n"
     ]
    },
    {
     "name": "stderr",
     "output_type": "stream",
     "text": [
      "/Users/sanilveeravu/opt/anaconda3/envs/mlenv/lib/python3.7/site-packages/sklearn/ensemble/_gb.py:290: FutureWarning: The loss 'ls' was deprecated in v1.0 and will be removed in version 1.2. Use 'squared_error' which is equivalent.\n",
      "  FutureWarning,\n"
     ]
    },
    {
     "name": "stdout",
     "output_type": "stream",
     "text": [
      "Model Accuracy: 0.812\n",
      "The mean squared error (MSE) on test set: 19.8982\n",
      "  state_code        date  value\n",
      "0         AK  1905-01-01   16.0\n",
      "1         AK  1905-01-02   11.9\n",
      "2         AK  1905-01-03   27.9\n",
      "3         AK  1905-01-04   30.5\n",
      "4         AK  1905-01-05   19.1\n"
     ]
    },
    {
     "name": "stderr",
     "output_type": "stream",
     "text": [
      "/Users/sanilveeravu/opt/anaconda3/envs/mlenv/lib/python3.7/site-packages/sklearn/ensemble/_gb.py:290: FutureWarning: The loss 'ls' was deprecated in v1.0 and will be removed in version 1.2. Use 'squared_error' which is equivalent.\n",
      "  FutureWarning,\n"
     ]
    },
    {
     "name": "stdout",
     "output_type": "stream",
     "text": [
      "Model Accuracy: 0.113\n",
      "The mean squared error (MSE) on test set: 609.7834\n",
      "  state_code        date  value\n",
      "0         AK  1905-01-01  305.0\n",
      "1         AK  1905-01-02  102.0\n",
      "2         AK  1905-01-03  127.0\n",
      "3         AK  1905-01-04  267.0\n",
      "4         AK  1905-01-05  127.0\n"
     ]
    },
    {
     "name": "stderr",
     "output_type": "stream",
     "text": [
      "/Users/sanilveeravu/opt/anaconda3/envs/mlenv/lib/python3.7/site-packages/sklearn/ensemble/_gb.py:290: FutureWarning: The loss 'ls' was deprecated in v1.0 and will be removed in version 1.2. Use 'squared_error' which is equivalent.\n",
      "  FutureWarning,\n"
     ]
    },
    {
     "name": "stdout",
     "output_type": "stream",
     "text": [
      "Model Accuracy: 0.225\n",
      "The mean squared error (MSE) on test set: 1482.4518\n",
      "Processing IA\n",
      "  state_code        date  value\n",
      "0         AK  1905-01-01    6.1\n",
      "1         AK  1905-01-02    7.2\n",
      "2         AK  1905-01-03    5.0\n",
      "3         AK  1905-01-04    5.6\n",
      "4         AK  1905-01-05    5.6\n"
     ]
    },
    {
     "name": "stderr",
     "output_type": "stream",
     "text": [
      "/Users/sanilveeravu/opt/anaconda3/envs/mlenv/lib/python3.7/site-packages/sklearn/ensemble/_gb.py:290: FutureWarning: The loss 'ls' was deprecated in v1.0 and will be removed in version 1.2. Use 'squared_error' which is equivalent.\n",
      "  FutureWarning,\n"
     ]
    },
    {
     "name": "stdout",
     "output_type": "stream",
     "text": [
      "Model Accuracy: 0.813\n",
      "The mean squared error (MSE) on test set: 24.9554\n",
      "  state_code        date  value\n",
      "0         AK  1905-01-01  -31.1\n",
      "1         AK  1905-01-02  -35.6\n",
      "2         AK  1905-01-03  -34.4\n",
      "3         AK  1905-01-04  -30.0\n",
      "4         AK  1905-01-05  -31.1\n"
     ]
    },
    {
     "name": "stderr",
     "output_type": "stream",
     "text": [
      "/Users/sanilveeravu/opt/anaconda3/envs/mlenv/lib/python3.7/site-packages/sklearn/ensemble/_gb.py:290: FutureWarning: The loss 'ls' was deprecated in v1.0 and will be removed in version 1.2. Use 'squared_error' which is equivalent.\n",
      "  FutureWarning,\n"
     ]
    },
    {
     "name": "stdout",
     "output_type": "stream",
     "text": [
      "Model Accuracy: 0.838\n",
      "The mean squared error (MSE) on test set: 24.2335\n",
      "  state_code        date  value\n",
      "0         AK  1905-01-01   16.0\n",
      "1         AK  1905-01-02   11.9\n",
      "2         AK  1905-01-03   27.9\n",
      "3         AK  1905-01-04   30.5\n",
      "4         AK  1905-01-05   19.1\n"
     ]
    },
    {
     "name": "stderr",
     "output_type": "stream",
     "text": [
      "/Users/sanilveeravu/opt/anaconda3/envs/mlenv/lib/python3.7/site-packages/sklearn/ensemble/_gb.py:290: FutureWarning: The loss 'ls' was deprecated in v1.0 and will be removed in version 1.2. Use 'squared_error' which is equivalent.\n",
      "  FutureWarning,\n"
     ]
    },
    {
     "name": "stdout",
     "output_type": "stream",
     "text": [
      "Model Accuracy: 0.190\n",
      "The mean squared error (MSE) on test set: 645.6811\n",
      "  state_code        date  value\n",
      "0         AK  1905-01-01  305.0\n",
      "1         AK  1905-01-02  102.0\n",
      "2         AK  1905-01-03  127.0\n",
      "3         AK  1905-01-04  267.0\n",
      "4         AK  1905-01-05  127.0\n"
     ]
    },
    {
     "name": "stderr",
     "output_type": "stream",
     "text": [
      "/Users/sanilveeravu/opt/anaconda3/envs/mlenv/lib/python3.7/site-packages/sklearn/ensemble/_gb.py:290: FutureWarning: The loss 'ls' was deprecated in v1.0 and will be removed in version 1.2. Use 'squared_error' which is equivalent.\n",
      "  FutureWarning,\n"
     ]
    },
    {
     "name": "stdout",
     "output_type": "stream",
     "text": [
      "Model Accuracy: 0.196\n",
      "The mean squared error (MSE) on test set: 1955.7657\n",
      "Processing KS\n",
      "  state_code        date  value\n",
      "0         AK  1905-01-01    6.1\n",
      "1         AK  1905-01-02    7.2\n",
      "2         AK  1905-01-03    5.0\n",
      "3         AK  1905-01-04    5.6\n",
      "4         AK  1905-01-05    5.6\n"
     ]
    },
    {
     "name": "stderr",
     "output_type": "stream",
     "text": [
      "/Users/sanilveeravu/opt/anaconda3/envs/mlenv/lib/python3.7/site-packages/sklearn/ensemble/_gb.py:290: FutureWarning: The loss 'ls' was deprecated in v1.0 and will be removed in version 1.2. Use 'squared_error' which is equivalent.\n",
      "  FutureWarning,\n"
     ]
    },
    {
     "name": "stdout",
     "output_type": "stream",
     "text": [
      "Model Accuracy: 0.777\n",
      "The mean squared error (MSE) on test set: 22.5736\n",
      "  state_code        date  value\n",
      "0         AK  1905-01-01  -31.1\n",
      "1         AK  1905-01-02  -35.6\n",
      "2         AK  1905-01-03  -34.4\n",
      "3         AK  1905-01-04  -30.0\n",
      "4         AK  1905-01-05  -31.1\n"
     ]
    },
    {
     "name": "stderr",
     "output_type": "stream",
     "text": [
      "/Users/sanilveeravu/opt/anaconda3/envs/mlenv/lib/python3.7/site-packages/sklearn/ensemble/_gb.py:290: FutureWarning: The loss 'ls' was deprecated in v1.0 and will be removed in version 1.2. Use 'squared_error' which is equivalent.\n",
      "  FutureWarning,\n"
     ]
    },
    {
     "name": "stdout",
     "output_type": "stream",
     "text": [
      "Model Accuracy: 0.862\n",
      "The mean squared error (MSE) on test set: 16.4837\n",
      "  state_code        date  value\n",
      "0         AK  1905-01-01   16.0\n",
      "1         AK  1905-01-02   11.9\n",
      "2         AK  1905-01-03   27.9\n",
      "3         AK  1905-01-04   30.5\n",
      "4         AK  1905-01-05   19.1\n"
     ]
    },
    {
     "name": "stderr",
     "output_type": "stream",
     "text": [
      "/Users/sanilveeravu/opt/anaconda3/envs/mlenv/lib/python3.7/site-packages/sklearn/ensemble/_gb.py:290: FutureWarning: The loss 'ls' was deprecated in v1.0 and will be removed in version 1.2. Use 'squared_error' which is equivalent.\n",
      "  FutureWarning,\n"
     ]
    },
    {
     "name": "stdout",
     "output_type": "stream",
     "text": [
      "Model Accuracy: 0.221\n",
      "The mean squared error (MSE) on test set: 816.8973\n",
      "  state_code        date  value\n",
      "0         AK  1905-01-01  305.0\n",
      "1         AK  1905-01-02  102.0\n",
      "2         AK  1905-01-03  127.0\n",
      "3         AK  1905-01-04  267.0\n",
      "4         AK  1905-01-05  127.0\n"
     ]
    },
    {
     "name": "stderr",
     "output_type": "stream",
     "text": [
      "/Users/sanilveeravu/opt/anaconda3/envs/mlenv/lib/python3.7/site-packages/sklearn/ensemble/_gb.py:290: FutureWarning: The loss 'ls' was deprecated in v1.0 and will be removed in version 1.2. Use 'squared_error' which is equivalent.\n",
      "  FutureWarning,\n"
     ]
    },
    {
     "name": "stdout",
     "output_type": "stream",
     "text": [
      "Model Accuracy: 0.168\n",
      "The mean squared error (MSE) on test set: 2008.2079\n",
      "Processing KY\n",
      "  state_code        date  value\n",
      "0         AK  1905-01-01    6.1\n",
      "1         AK  1905-01-02    7.2\n",
      "2         AK  1905-01-03    5.0\n",
      "3         AK  1905-01-04    5.6\n",
      "4         AK  1905-01-05    5.6\n"
     ]
    },
    {
     "name": "stderr",
     "output_type": "stream",
     "text": [
      "/Users/sanilveeravu/opt/anaconda3/envs/mlenv/lib/python3.7/site-packages/sklearn/ensemble/_gb.py:290: FutureWarning: The loss 'ls' was deprecated in v1.0 and will be removed in version 1.2. Use 'squared_error' which is equivalent.\n",
      "  FutureWarning,\n"
     ]
    },
    {
     "name": "stdout",
     "output_type": "stream",
     "text": [
      "Model Accuracy: 0.799\n",
      "The mean squared error (MSE) on test set: 16.0593\n",
      "  state_code        date  value\n",
      "0         AK  1905-01-01  -31.1\n",
      "1         AK  1905-01-02  -35.6\n",
      "2         AK  1905-01-03  -34.4\n",
      "3         AK  1905-01-04  -30.0\n",
      "4         AK  1905-01-05  -31.1\n"
     ]
    },
    {
     "name": "stderr",
     "output_type": "stream",
     "text": [
      "/Users/sanilveeravu/opt/anaconda3/envs/mlenv/lib/python3.7/site-packages/sklearn/ensemble/_gb.py:290: FutureWarning: The loss 'ls' was deprecated in v1.0 and will be removed in version 1.2. Use 'squared_error' which is equivalent.\n",
      "  FutureWarning,\n"
     ]
    },
    {
     "name": "stdout",
     "output_type": "stream",
     "text": [
      "Model Accuracy: 0.810\n",
      "The mean squared error (MSE) on test set: 17.6800\n",
      "  state_code        date  value\n",
      "0         AK  1905-01-01   16.0\n",
      "1         AK  1905-01-02   11.9\n",
      "2         AK  1905-01-03   27.9\n",
      "3         AK  1905-01-04   30.5\n",
      "4         AK  1905-01-05   19.1\n"
     ]
    },
    {
     "name": "stderr",
     "output_type": "stream",
     "text": [
      "/Users/sanilveeravu/opt/anaconda3/envs/mlenv/lib/python3.7/site-packages/sklearn/ensemble/_gb.py:290: FutureWarning: The loss 'ls' was deprecated in v1.0 and will be removed in version 1.2. Use 'squared_error' which is equivalent.\n",
      "  FutureWarning,\n"
     ]
    },
    {
     "name": "stdout",
     "output_type": "stream",
     "text": [
      "Model Accuracy: 0.089\n",
      "The mean squared error (MSE) on test set: 659.7423\n",
      "  state_code        date  value\n",
      "0         AK  1905-01-01  305.0\n",
      "1         AK  1905-01-02  102.0\n",
      "2         AK  1905-01-03  127.0\n",
      "3         AK  1905-01-04  267.0\n",
      "4         AK  1905-01-05  127.0\n"
     ]
    },
    {
     "name": "stderr",
     "output_type": "stream",
     "text": [
      "/Users/sanilveeravu/opt/anaconda3/envs/mlenv/lib/python3.7/site-packages/sklearn/ensemble/_gb.py:290: FutureWarning: The loss 'ls' was deprecated in v1.0 and will be removed in version 1.2. Use 'squared_error' which is equivalent.\n",
      "  FutureWarning,\n"
     ]
    },
    {
     "name": "stdout",
     "output_type": "stream",
     "text": [
      "Model Accuracy: 0.131\n",
      "The mean squared error (MSE) on test set: 809.9656\n",
      "Processing LA\n",
      "  state_code        date  value\n",
      "0         AK  1905-01-01    6.1\n",
      "1         AK  1905-01-02    7.2\n",
      "2         AK  1905-01-03    5.0\n",
      "3         AK  1905-01-04    5.6\n",
      "4         AK  1905-01-05    5.6\n"
     ]
    },
    {
     "name": "stderr",
     "output_type": "stream",
     "text": [
      "/Users/sanilveeravu/opt/anaconda3/envs/mlenv/lib/python3.7/site-packages/sklearn/ensemble/_gb.py:290: FutureWarning: The loss 'ls' was deprecated in v1.0 and will be removed in version 1.2. Use 'squared_error' which is equivalent.\n",
      "  FutureWarning,\n"
     ]
    },
    {
     "name": "stdout",
     "output_type": "stream",
     "text": [
      "Model Accuracy: 0.788\n",
      "The mean squared error (MSE) on test set: 7.7776\n",
      "  state_code        date  value\n",
      "0         AK  1905-01-01  -31.1\n",
      "1         AK  1905-01-02  -35.6\n",
      "2         AK  1905-01-03  -34.4\n",
      "3         AK  1905-01-04  -30.0\n",
      "4         AK  1905-01-05  -31.1\n"
     ]
    },
    {
     "name": "stderr",
     "output_type": "stream",
     "text": [
      "/Users/sanilveeravu/opt/anaconda3/envs/mlenv/lib/python3.7/site-packages/sklearn/ensemble/_gb.py:290: FutureWarning: The loss 'ls' was deprecated in v1.0 and will be removed in version 1.2. Use 'squared_error' which is equivalent.\n",
      "  FutureWarning,\n"
     ]
    },
    {
     "name": "stdout",
     "output_type": "stream",
     "text": [
      "Model Accuracy: 0.803\n",
      "The mean squared error (MSE) on test set: 14.6608\n",
      "  state_code        date  value\n",
      "0         AK  1905-01-01   16.0\n",
      "1         AK  1905-01-02   11.9\n",
      "2         AK  1905-01-03   27.9\n",
      "3         AK  1905-01-04   30.5\n",
      "4         AK  1905-01-05   19.1\n"
     ]
    },
    {
     "name": "stderr",
     "output_type": "stream",
     "text": [
      "/Users/sanilveeravu/opt/anaconda3/envs/mlenv/lib/python3.7/site-packages/sklearn/ensemble/_gb.py:290: FutureWarning: The loss 'ls' was deprecated in v1.0 and will be removed in version 1.2. Use 'squared_error' which is equivalent.\n",
      "  FutureWarning,\n"
     ]
    },
    {
     "name": "stdout",
     "output_type": "stream",
     "text": [
      "Model Accuracy: 0.067\n",
      "The mean squared error (MSE) on test set: 1723.7826\n",
      "  state_code        date  value\n",
      "0         AK  1905-01-01  305.0\n",
      "1         AK  1905-01-02  102.0\n",
      "2         AK  1905-01-03  127.0\n",
      "3         AK  1905-01-04  267.0\n",
      "4         AK  1905-01-05  127.0\n"
     ]
    },
    {
     "name": "stderr",
     "output_type": "stream",
     "text": [
      "/Users/sanilveeravu/opt/anaconda3/envs/mlenv/lib/python3.7/site-packages/sklearn/ensemble/_gb.py:290: FutureWarning: The loss 'ls' was deprecated in v1.0 and will be removed in version 1.2. Use 'squared_error' which is equivalent.\n",
      "  FutureWarning,\n"
     ]
    },
    {
     "name": "stdout",
     "output_type": "stream",
     "text": [
      "Model Accuracy: 0.008\n",
      "The mean squared error (MSE) on test set: 72.4721\n",
      "Processing ME\n",
      "  state_code        date  value\n",
      "0         AK  1905-01-01    6.1\n",
      "1         AK  1905-01-02    7.2\n",
      "2         AK  1905-01-03    5.0\n",
      "3         AK  1905-01-04    5.6\n",
      "4         AK  1905-01-05    5.6\n"
     ]
    },
    {
     "name": "stderr",
     "output_type": "stream",
     "text": [
      "/Users/sanilveeravu/opt/anaconda3/envs/mlenv/lib/python3.7/site-packages/sklearn/ensemble/_gb.py:290: FutureWarning: The loss 'ls' was deprecated in v1.0 and will be removed in version 1.2. Use 'squared_error' which is equivalent.\n",
      "  FutureWarning,\n"
     ]
    },
    {
     "name": "stdout",
     "output_type": "stream",
     "text": [
      "Model Accuracy: 0.851\n",
      "The mean squared error (MSE) on test set: 17.0896\n",
      "  state_code        date  value\n",
      "0         AK  1905-01-01  -31.1\n",
      "1         AK  1905-01-02  -35.6\n",
      "2         AK  1905-01-03  -34.4\n",
      "3         AK  1905-01-04  -30.0\n",
      "4         AK  1905-01-05  -31.1\n"
     ]
    },
    {
     "name": "stderr",
     "output_type": "stream",
     "text": [
      "/Users/sanilveeravu/opt/anaconda3/envs/mlenv/lib/python3.7/site-packages/sklearn/ensemble/_gb.py:290: FutureWarning: The loss 'ls' was deprecated in v1.0 and will be removed in version 1.2. Use 'squared_error' which is equivalent.\n",
      "  FutureWarning,\n"
     ]
    },
    {
     "name": "stdout",
     "output_type": "stream",
     "text": [
      "Model Accuracy: 0.841\n",
      "The mean squared error (MSE) on test set: 24.4721\n",
      "  state_code        date  value\n",
      "0         AK  1905-01-01   16.0\n",
      "1         AK  1905-01-02   11.9\n",
      "2         AK  1905-01-03   27.9\n",
      "3         AK  1905-01-04   30.5\n",
      "4         AK  1905-01-05   19.1\n"
     ]
    },
    {
     "name": "stderr",
     "output_type": "stream",
     "text": [
      "/Users/sanilveeravu/opt/anaconda3/envs/mlenv/lib/python3.7/site-packages/sklearn/ensemble/_gb.py:290: FutureWarning: The loss 'ls' was deprecated in v1.0 and will be removed in version 1.2. Use 'squared_error' which is equivalent.\n",
      "  FutureWarning,\n"
     ]
    },
    {
     "name": "stdout",
     "output_type": "stream",
     "text": [
      "Model Accuracy: 0.048\n",
      "The mean squared error (MSE) on test set: 343.5864\n",
      "  state_code        date  value\n",
      "0         AK  1905-01-01  305.0\n",
      "1         AK  1905-01-02  102.0\n",
      "2         AK  1905-01-03  127.0\n",
      "3         AK  1905-01-04  267.0\n",
      "4         AK  1905-01-05  127.0\n"
     ]
    },
    {
     "name": "stderr",
     "output_type": "stream",
     "text": [
      "/Users/sanilveeravu/opt/anaconda3/envs/mlenv/lib/python3.7/site-packages/sklearn/ensemble/_gb.py:290: FutureWarning: The loss 'ls' was deprecated in v1.0 and will be removed in version 1.2. Use 'squared_error' which is equivalent.\n",
      "  FutureWarning,\n"
     ]
    },
    {
     "name": "stdout",
     "output_type": "stream",
     "text": [
      "Model Accuracy: 0.237\n",
      "The mean squared error (MSE) on test set: 3632.4737\n",
      "Processing MD\n",
      "  state_code        date  value\n",
      "0         AK  1905-01-01    6.1\n",
      "1         AK  1905-01-02    7.2\n",
      "2         AK  1905-01-03    5.0\n",
      "3         AK  1905-01-04    5.6\n",
      "4         AK  1905-01-05    5.6\n"
     ]
    },
    {
     "name": "stderr",
     "output_type": "stream",
     "text": [
      "/Users/sanilveeravu/opt/anaconda3/envs/mlenv/lib/python3.7/site-packages/sklearn/ensemble/_gb.py:290: FutureWarning: The loss 'ls' was deprecated in v1.0 and will be removed in version 1.2. Use 'squared_error' which is equivalent.\n",
      "  FutureWarning,\n"
     ]
    },
    {
     "name": "stdout",
     "output_type": "stream",
     "text": [
      "Model Accuracy: 0.791\n",
      "The mean squared error (MSE) on test set: 17.7901\n",
      "  state_code        date  value\n",
      "0         AK  1905-01-01  -31.1\n",
      "1         AK  1905-01-02  -35.6\n",
      "2         AK  1905-01-03  -34.4\n",
      "3         AK  1905-01-04  -30.0\n",
      "4         AK  1905-01-05  -31.1\n"
     ]
    },
    {
     "name": "stderr",
     "output_type": "stream",
     "text": [
      "/Users/sanilveeravu/opt/anaconda3/envs/mlenv/lib/python3.7/site-packages/sklearn/ensemble/_gb.py:290: FutureWarning: The loss 'ls' was deprecated in v1.0 and will be removed in version 1.2. Use 'squared_error' which is equivalent.\n",
      "  FutureWarning,\n"
     ]
    },
    {
     "name": "stdout",
     "output_type": "stream",
     "text": [
      "Model Accuracy: 0.782\n",
      "The mean squared error (MSE) on test set: 18.9410\n",
      "  state_code        date  value\n",
      "0         AK  1905-01-01   16.0\n",
      "1         AK  1905-01-02   11.9\n",
      "2         AK  1905-01-03   27.9\n",
      "3         AK  1905-01-04   30.5\n",
      "4         AK  1905-01-05   19.1\n"
     ]
    },
    {
     "name": "stderr",
     "output_type": "stream",
     "text": [
      "/Users/sanilveeravu/opt/anaconda3/envs/mlenv/lib/python3.7/site-packages/sklearn/ensemble/_gb.py:290: FutureWarning: The loss 'ls' was deprecated in v1.0 and will be removed in version 1.2. Use 'squared_error' which is equivalent.\n",
      "  FutureWarning,\n"
     ]
    },
    {
     "name": "stdout",
     "output_type": "stream",
     "text": [
      "Model Accuracy: 0.072\n",
      "The mean squared error (MSE) on test set: 469.7093\n",
      "  state_code        date  value\n",
      "0         AK  1905-01-01  305.0\n",
      "1         AK  1905-01-02  102.0\n",
      "2         AK  1905-01-03  127.0\n",
      "3         AK  1905-01-04  267.0\n",
      "4         AK  1905-01-05  127.0\n"
     ]
    },
    {
     "name": "stderr",
     "output_type": "stream",
     "text": [
      "/Users/sanilveeravu/opt/anaconda3/envs/mlenv/lib/python3.7/site-packages/sklearn/ensemble/_gb.py:290: FutureWarning: The loss 'ls' was deprecated in v1.0 and will be removed in version 1.2. Use 'squared_error' which is equivalent.\n",
      "  FutureWarning,\n"
     ]
    },
    {
     "name": "stdout",
     "output_type": "stream",
     "text": [
      "Model Accuracy: 0.181\n",
      "The mean squared error (MSE) on test set: 1507.0879\n",
      "Processing MA\n",
      "  state_code        date  value\n",
      "0         AK  1905-01-01    6.1\n",
      "1         AK  1905-01-02    7.2\n",
      "2         AK  1905-01-03    5.0\n",
      "3         AK  1905-01-04    5.6\n",
      "4         AK  1905-01-05    5.6\n"
     ]
    },
    {
     "name": "stderr",
     "output_type": "stream",
     "text": [
      "/Users/sanilveeravu/opt/anaconda3/envs/mlenv/lib/python3.7/site-packages/sklearn/ensemble/_gb.py:290: FutureWarning: The loss 'ls' was deprecated in v1.0 and will be removed in version 1.2. Use 'squared_error' which is equivalent.\n",
      "  FutureWarning,\n"
     ]
    },
    {
     "name": "stdout",
     "output_type": "stream",
     "text": [
      "Model Accuracy: 0.826\n",
      "The mean squared error (MSE) on test set: 16.9881\n",
      "  state_code        date  value\n",
      "0         AK  1905-01-01  -31.1\n",
      "1         AK  1905-01-02  -35.6\n",
      "2         AK  1905-01-03  -34.4\n",
      "3         AK  1905-01-04  -30.0\n",
      "4         AK  1905-01-05  -31.1\n"
     ]
    },
    {
     "name": "stderr",
     "output_type": "stream",
     "text": [
      "/Users/sanilveeravu/opt/anaconda3/envs/mlenv/lib/python3.7/site-packages/sklearn/ensemble/_gb.py:290: FutureWarning: The loss 'ls' was deprecated in v1.0 and will be removed in version 1.2. Use 'squared_error' which is equivalent.\n",
      "  FutureWarning,\n"
     ]
    },
    {
     "name": "stdout",
     "output_type": "stream",
     "text": [
      "Model Accuracy: 0.802\n",
      "The mean squared error (MSE) on test set: 20.0981\n",
      "  state_code        date  value\n",
      "0         AK  1905-01-01   16.0\n",
      "1         AK  1905-01-02   11.9\n",
      "2         AK  1905-01-03   27.9\n",
      "3         AK  1905-01-04   30.5\n",
      "4         AK  1905-01-05   19.1\n"
     ]
    },
    {
     "name": "stderr",
     "output_type": "stream",
     "text": [
      "/Users/sanilveeravu/opt/anaconda3/envs/mlenv/lib/python3.7/site-packages/sklearn/ensemble/_gb.py:290: FutureWarning: The loss 'ls' was deprecated in v1.0 and will be removed in version 1.2. Use 'squared_error' which is equivalent.\n",
      "  FutureWarning,\n"
     ]
    },
    {
     "name": "stdout",
     "output_type": "stream",
     "text": [
      "Model Accuracy: 0.034\n",
      "The mean squared error (MSE) on test set: 536.4478\n",
      "  state_code        date  value\n",
      "0         AK  1905-01-01  305.0\n",
      "1         AK  1905-01-02  102.0\n",
      "2         AK  1905-01-03  127.0\n",
      "3         AK  1905-01-04  267.0\n",
      "4         AK  1905-01-05  127.0\n"
     ]
    },
    {
     "name": "stderr",
     "output_type": "stream",
     "text": [
      "/Users/sanilveeravu/opt/anaconda3/envs/mlenv/lib/python3.7/site-packages/sklearn/ensemble/_gb.py:290: FutureWarning: The loss 'ls' was deprecated in v1.0 and will be removed in version 1.2. Use 'squared_error' which is equivalent.\n",
      "  FutureWarning,\n"
     ]
    },
    {
     "name": "stdout",
     "output_type": "stream",
     "text": [
      "Model Accuracy: 0.189\n",
      "The mean squared error (MSE) on test set: 2903.9026\n",
      "Processing MI\n",
      "  state_code        date  value\n",
      "0         AK  1905-01-01    6.1\n",
      "1         AK  1905-01-02    7.2\n",
      "2         AK  1905-01-03    5.0\n",
      "3         AK  1905-01-04    5.6\n",
      "4         AK  1905-01-05    5.6\n"
     ]
    },
    {
     "name": "stderr",
     "output_type": "stream",
     "text": [
      "/Users/sanilveeravu/opt/anaconda3/envs/mlenv/lib/python3.7/site-packages/sklearn/ensemble/_gb.py:290: FutureWarning: The loss 'ls' was deprecated in v1.0 and will be removed in version 1.2. Use 'squared_error' which is equivalent.\n",
      "  FutureWarning,\n"
     ]
    },
    {
     "name": "stdout",
     "output_type": "stream",
     "text": [
      "Model Accuracy: 0.852\n",
      "The mean squared error (MSE) on test set: 18.4569\n",
      "  state_code        date  value\n",
      "0         AK  1905-01-01  -31.1\n",
      "1         AK  1905-01-02  -35.6\n",
      "2         AK  1905-01-03  -34.4\n",
      "3         AK  1905-01-04  -30.0\n",
      "4         AK  1905-01-05  -31.1\n"
     ]
    },
    {
     "name": "stderr",
     "output_type": "stream",
     "text": [
      "/Users/sanilveeravu/opt/anaconda3/envs/mlenv/lib/python3.7/site-packages/sklearn/ensemble/_gb.py:290: FutureWarning: The loss 'ls' was deprecated in v1.0 and will be removed in version 1.2. Use 'squared_error' which is equivalent.\n",
      "  FutureWarning,\n"
     ]
    },
    {
     "name": "stdout",
     "output_type": "stream",
     "text": [
      "Model Accuracy: 0.813\n",
      "The mean squared error (MSE) on test set: 24.3736\n",
      "  state_code        date  value\n",
      "0         AK  1905-01-01   16.0\n",
      "1         AK  1905-01-02   11.9\n",
      "2         AK  1905-01-03   27.9\n",
      "3         AK  1905-01-04   30.5\n",
      "4         AK  1905-01-05   19.1\n"
     ]
    },
    {
     "name": "stderr",
     "output_type": "stream",
     "text": [
      "/Users/sanilveeravu/opt/anaconda3/envs/mlenv/lib/python3.7/site-packages/sklearn/ensemble/_gb.py:290: FutureWarning: The loss 'ls' was deprecated in v1.0 and will be removed in version 1.2. Use 'squared_error' which is equivalent.\n",
      "  FutureWarning,\n"
     ]
    },
    {
     "name": "stdout",
     "output_type": "stream",
     "text": [
      "Model Accuracy: 0.129\n",
      "The mean squared error (MSE) on test set: 406.2084\n",
      "  state_code        date  value\n",
      "0         AK  1905-01-01  305.0\n",
      "1         AK  1905-01-02  102.0\n",
      "2         AK  1905-01-03  127.0\n",
      "3         AK  1905-01-04  267.0\n",
      "4         AK  1905-01-05  127.0\n"
     ]
    },
    {
     "name": "stderr",
     "output_type": "stream",
     "text": [
      "/Users/sanilveeravu/opt/anaconda3/envs/mlenv/lib/python3.7/site-packages/sklearn/ensemble/_gb.py:290: FutureWarning: The loss 'ls' was deprecated in v1.0 and will be removed in version 1.2. Use 'squared_error' which is equivalent.\n",
      "  FutureWarning,\n"
     ]
    },
    {
     "name": "stdout",
     "output_type": "stream",
     "text": [
      "Model Accuracy: 0.415\n",
      "The mean squared error (MSE) on test set: 4189.5068\n",
      "Processing MN\n",
      "  state_code        date  value\n",
      "0         AK  1905-01-01    6.1\n",
      "1         AK  1905-01-02    7.2\n",
      "2         AK  1905-01-03    5.0\n",
      "3         AK  1905-01-04    5.6\n",
      "4         AK  1905-01-05    5.6\n"
     ]
    },
    {
     "name": "stderr",
     "output_type": "stream",
     "text": [
      "/Users/sanilveeravu/opt/anaconda3/envs/mlenv/lib/python3.7/site-packages/sklearn/ensemble/_gb.py:290: FutureWarning: The loss 'ls' was deprecated in v1.0 and will be removed in version 1.2. Use 'squared_error' which is equivalent.\n",
      "  FutureWarning,\n"
     ]
    },
    {
     "name": "stdout",
     "output_type": "stream",
     "text": [
      "Model Accuracy: 0.851\n",
      "The mean squared error (MSE) on test set: 23.9886\n",
      "  state_code        date  value\n",
      "0         AK  1905-01-01  -31.1\n",
      "1         AK  1905-01-02  -35.6\n",
      "2         AK  1905-01-03  -34.4\n",
      "3         AK  1905-01-04  -30.0\n",
      "4         AK  1905-01-05  -31.1\n"
     ]
    },
    {
     "name": "stderr",
     "output_type": "stream",
     "text": [
      "/Users/sanilveeravu/opt/anaconda3/envs/mlenv/lib/python3.7/site-packages/sklearn/ensemble/_gb.py:290: FutureWarning: The loss 'ls' was deprecated in v1.0 and will be removed in version 1.2. Use 'squared_error' which is equivalent.\n",
      "  FutureWarning,\n"
     ]
    },
    {
     "name": "stdout",
     "output_type": "stream",
     "text": [
      "Model Accuracy: 0.843\n",
      "The mean squared error (MSE) on test set: 29.1098\n",
      "  state_code        date  value\n",
      "0         AK  1905-01-01   16.0\n",
      "1         AK  1905-01-02   11.9\n",
      "2         AK  1905-01-03   27.9\n",
      "3         AK  1905-01-04   30.5\n",
      "4         AK  1905-01-05   19.1\n"
     ]
    },
    {
     "name": "stderr",
     "output_type": "stream",
     "text": [
      "/Users/sanilveeravu/opt/anaconda3/envs/mlenv/lib/python3.7/site-packages/sklearn/ensemble/_gb.py:290: FutureWarning: The loss 'ls' was deprecated in v1.0 and will be removed in version 1.2. Use 'squared_error' which is equivalent.\n",
      "  FutureWarning,\n"
     ]
    },
    {
     "name": "stdout",
     "output_type": "stream",
     "text": [
      "Model Accuracy: 0.248\n",
      "The mean squared error (MSE) on test set: 430.5634\n",
      "  state_code        date  value\n",
      "0         AK  1905-01-01  305.0\n",
      "1         AK  1905-01-02  102.0\n",
      "2         AK  1905-01-03  127.0\n",
      "3         AK  1905-01-04  267.0\n",
      "4         AK  1905-01-05  127.0\n"
     ]
    },
    {
     "name": "stderr",
     "output_type": "stream",
     "text": [
      "/Users/sanilveeravu/opt/anaconda3/envs/mlenv/lib/python3.7/site-packages/sklearn/ensemble/_gb.py:290: FutureWarning: The loss 'ls' was deprecated in v1.0 and will be removed in version 1.2. Use 'squared_error' which is equivalent.\n",
      "  FutureWarning,\n"
     ]
    },
    {
     "name": "stdout",
     "output_type": "stream",
     "text": [
      "Model Accuracy: 0.248\n",
      "The mean squared error (MSE) on test set: 3158.1783\n",
      "Processing MS\n",
      "  state_code        date  value\n",
      "0         AK  1905-01-01    6.1\n",
      "1         AK  1905-01-02    7.2\n",
      "2         AK  1905-01-03    5.0\n",
      "3         AK  1905-01-04    5.6\n",
      "4         AK  1905-01-05    5.6\n"
     ]
    },
    {
     "name": "stderr",
     "output_type": "stream",
     "text": [
      "/Users/sanilveeravu/opt/anaconda3/envs/mlenv/lib/python3.7/site-packages/sklearn/ensemble/_gb.py:290: FutureWarning: The loss 'ls' was deprecated in v1.0 and will be removed in version 1.2. Use 'squared_error' which is equivalent.\n",
      "  FutureWarning,\n"
     ]
    },
    {
     "name": "stdout",
     "output_type": "stream",
     "text": [
      "Model Accuracy: 0.799\n",
      "The mean squared error (MSE) on test set: 8.5550\n",
      "  state_code        date  value\n",
      "0         AK  1905-01-01  -31.1\n",
      "1         AK  1905-01-02  -35.6\n",
      "2         AK  1905-01-03  -34.4\n",
      "3         AK  1905-01-04  -30.0\n",
      "4         AK  1905-01-05  -31.1\n"
     ]
    },
    {
     "name": "stderr",
     "output_type": "stream",
     "text": [
      "/Users/sanilveeravu/opt/anaconda3/envs/mlenv/lib/python3.7/site-packages/sklearn/ensemble/_gb.py:290: FutureWarning: The loss 'ls' was deprecated in v1.0 and will be removed in version 1.2. Use 'squared_error' which is equivalent.\n",
      "  FutureWarning,\n"
     ]
    },
    {
     "name": "stdout",
     "output_type": "stream",
     "text": [
      "Model Accuracy: 0.824\n",
      "The mean squared error (MSE) on test set: 14.3085\n",
      "  state_code        date  value\n",
      "0         AK  1905-01-01   16.0\n",
      "1         AK  1905-01-02   11.9\n",
      "2         AK  1905-01-03   27.9\n",
      "3         AK  1905-01-04   30.5\n",
      "4         AK  1905-01-05   19.1\n"
     ]
    },
    {
     "name": "stderr",
     "output_type": "stream",
     "text": [
      "/Users/sanilveeravu/opt/anaconda3/envs/mlenv/lib/python3.7/site-packages/sklearn/ensemble/_gb.py:290: FutureWarning: The loss 'ls' was deprecated in v1.0 and will be removed in version 1.2. Use 'squared_error' which is equivalent.\n",
      "  FutureWarning,\n"
     ]
    },
    {
     "name": "stdout",
     "output_type": "stream",
     "text": [
      "Model Accuracy: 0.062\n",
      "The mean squared error (MSE) on test set: 1260.0055\n",
      "  state_code        date  value\n",
      "0         AK  1905-01-01  305.0\n",
      "1         AK  1905-01-02  102.0\n",
      "2         AK  1905-01-03  127.0\n",
      "3         AK  1905-01-04  267.0\n",
      "4         AK  1905-01-05  127.0\n"
     ]
    },
    {
     "name": "stderr",
     "output_type": "stream",
     "text": [
      "/Users/sanilveeravu/opt/anaconda3/envs/mlenv/lib/python3.7/site-packages/sklearn/ensemble/_gb.py:290: FutureWarning: The loss 'ls' was deprecated in v1.0 and will be removed in version 1.2. Use 'squared_error' which is equivalent.\n",
      "  FutureWarning,\n"
     ]
    },
    {
     "name": "stdout",
     "output_type": "stream",
     "text": [
      "Model Accuracy: 0.081\n",
      "The mean squared error (MSE) on test set: 192.2525\n",
      "Processing MO\n",
      "  state_code        date  value\n",
      "0         AK  1905-01-01    6.1\n",
      "1         AK  1905-01-02    7.2\n",
      "2         AK  1905-01-03    5.0\n",
      "3         AK  1905-01-04    5.6\n",
      "4         AK  1905-01-05    5.6\n"
     ]
    },
    {
     "name": "stderr",
     "output_type": "stream",
     "text": [
      "/Users/sanilveeravu/opt/anaconda3/envs/mlenv/lib/python3.7/site-packages/sklearn/ensemble/_gb.py:290: FutureWarning: The loss 'ls' was deprecated in v1.0 and will be removed in version 1.2. Use 'squared_error' which is equivalent.\n",
      "  FutureWarning,\n"
     ]
    },
    {
     "name": "stdout",
     "output_type": "stream",
     "text": [
      "Model Accuracy: 0.798\n",
      "The mean squared error (MSE) on test set: 17.6452\n",
      "  state_code        date  value\n",
      "0         AK  1905-01-01  -31.1\n",
      "1         AK  1905-01-02  -35.6\n",
      "2         AK  1905-01-03  -34.4\n",
      "3         AK  1905-01-04  -30.0\n",
      "4         AK  1905-01-05  -31.1\n"
     ]
    },
    {
     "name": "stderr",
     "output_type": "stream",
     "text": [
      "/Users/sanilveeravu/opt/anaconda3/envs/mlenv/lib/python3.7/site-packages/sklearn/ensemble/_gb.py:290: FutureWarning: The loss 'ls' was deprecated in v1.0 and will be removed in version 1.2. Use 'squared_error' which is equivalent.\n",
      "  FutureWarning,\n"
     ]
    },
    {
     "name": "stdout",
     "output_type": "stream",
     "text": [
      "Model Accuracy: 0.836\n",
      "The mean squared error (MSE) on test set: 19.0959\n",
      "  state_code        date  value\n",
      "0         AK  1905-01-01   16.0\n",
      "1         AK  1905-01-02   11.9\n",
      "2         AK  1905-01-03   27.9\n",
      "3         AK  1905-01-04   30.5\n",
      "4         AK  1905-01-05   19.1\n"
     ]
    },
    {
     "name": "stderr",
     "output_type": "stream",
     "text": [
      "/Users/sanilveeravu/opt/anaconda3/envs/mlenv/lib/python3.7/site-packages/sklearn/ensemble/_gb.py:290: FutureWarning: The loss 'ls' was deprecated in v1.0 and will be removed in version 1.2. Use 'squared_error' which is equivalent.\n",
      "  FutureWarning,\n"
     ]
    },
    {
     "name": "stdout",
     "output_type": "stream",
     "text": [
      "Model Accuracy: 0.136\n",
      "The mean squared error (MSE) on test set: 959.7300\n",
      "  state_code        date  value\n",
      "0         AK  1905-01-01  305.0\n",
      "1         AK  1905-01-02  102.0\n",
      "2         AK  1905-01-03  127.0\n",
      "3         AK  1905-01-04  267.0\n",
      "4         AK  1905-01-05  127.0\n"
     ]
    },
    {
     "name": "stderr",
     "output_type": "stream",
     "text": [
      "/Users/sanilveeravu/opt/anaconda3/envs/mlenv/lib/python3.7/site-packages/sklearn/ensemble/_gb.py:290: FutureWarning: The loss 'ls' was deprecated in v1.0 and will be removed in version 1.2. Use 'squared_error' which is equivalent.\n",
      "  FutureWarning,\n"
     ]
    },
    {
     "name": "stdout",
     "output_type": "stream",
     "text": [
      "Model Accuracy: 0.179\n",
      "The mean squared error (MSE) on test set: 1414.5074\n",
      "Processing MT\n",
      "  state_code        date  value\n",
      "0         AK  1905-01-01    6.1\n",
      "1         AK  1905-01-02    7.2\n",
      "2         AK  1905-01-03    5.0\n",
      "3         AK  1905-01-04    5.6\n",
      "4         AK  1905-01-05    5.6\n"
     ]
    },
    {
     "name": "stderr",
     "output_type": "stream",
     "text": [
      "/Users/sanilveeravu/opt/anaconda3/envs/mlenv/lib/python3.7/site-packages/sklearn/ensemble/_gb.py:290: FutureWarning: The loss 'ls' was deprecated in v1.0 and will be removed in version 1.2. Use 'squared_error' which is equivalent.\n",
      "  FutureWarning,\n"
     ]
    },
    {
     "name": "stdout",
     "output_type": "stream",
     "text": [
      "Model Accuracy: 0.830\n",
      "The mean squared error (MSE) on test set: 19.5259\n",
      "  state_code        date  value\n",
      "0         AK  1905-01-01  -31.1\n",
      "1         AK  1905-01-02  -35.6\n",
      "2         AK  1905-01-03  -34.4\n",
      "3         AK  1905-01-04  -30.0\n",
      "4         AK  1905-01-05  -31.1\n"
     ]
    },
    {
     "name": "stderr",
     "output_type": "stream",
     "text": [
      "/Users/sanilveeravu/opt/anaconda3/envs/mlenv/lib/python3.7/site-packages/sklearn/ensemble/_gb.py:290: FutureWarning: The loss 'ls' was deprecated in v1.0 and will be removed in version 1.2. Use 'squared_error' which is equivalent.\n",
      "  FutureWarning,\n"
     ]
    },
    {
     "name": "stdout",
     "output_type": "stream",
     "text": [
      "Model Accuracy: 0.805\n",
      "The mean squared error (MSE) on test set: 25.8532\n",
      "  state_code        date  value\n",
      "0         AK  1905-01-01   16.0\n",
      "1         AK  1905-01-02   11.9\n",
      "2         AK  1905-01-03   27.9\n",
      "3         AK  1905-01-04   30.5\n",
      "4         AK  1905-01-05   19.1\n"
     ]
    },
    {
     "name": "stderr",
     "output_type": "stream",
     "text": [
      "/Users/sanilveeravu/opt/anaconda3/envs/mlenv/lib/python3.7/site-packages/sklearn/ensemble/_gb.py:290: FutureWarning: The loss 'ls' was deprecated in v1.0 and will be removed in version 1.2. Use 'squared_error' which is equivalent.\n",
      "  FutureWarning,\n"
     ]
    },
    {
     "name": "stdout",
     "output_type": "stream",
     "text": [
      "Model Accuracy: 0.151\n",
      "The mean squared error (MSE) on test set: 235.1500\n",
      "  state_code        date  value\n",
      "0         AK  1905-01-01  305.0\n",
      "1         AK  1905-01-02  102.0\n",
      "2         AK  1905-01-03  127.0\n",
      "3         AK  1905-01-04  267.0\n",
      "4         AK  1905-01-05  127.0\n"
     ]
    },
    {
     "name": "stderr",
     "output_type": "stream",
     "text": [
      "/Users/sanilveeravu/opt/anaconda3/envs/mlenv/lib/python3.7/site-packages/sklearn/ensemble/_gb.py:290: FutureWarning: The loss 'ls' was deprecated in v1.0 and will be removed in version 1.2. Use 'squared_error' which is equivalent.\n",
      "  FutureWarning,\n"
     ]
    },
    {
     "name": "stdout",
     "output_type": "stream",
     "text": [
      "Model Accuracy: 0.272\n",
      "The mean squared error (MSE) on test set: 6929.4441\n",
      "Processing NE\n",
      "  state_code        date  value\n",
      "0         AK  1905-01-01    6.1\n",
      "1         AK  1905-01-02    7.2\n",
      "2         AK  1905-01-03    5.0\n",
      "3         AK  1905-01-04    5.6\n",
      "4         AK  1905-01-05    5.6\n"
     ]
    },
    {
     "name": "stderr",
     "output_type": "stream",
     "text": [
      "/Users/sanilveeravu/opt/anaconda3/envs/mlenv/lib/python3.7/site-packages/sklearn/ensemble/_gb.py:290: FutureWarning: The loss 'ls' was deprecated in v1.0 and will be removed in version 1.2. Use 'squared_error' which is equivalent.\n",
      "  FutureWarning,\n"
     ]
    },
    {
     "name": "stdout",
     "output_type": "stream",
     "text": [
      "Model Accuracy: 0.788\n",
      "The mean squared error (MSE) on test set: 24.8807\n",
      "  state_code        date  value\n",
      "0         AK  1905-01-01  -31.1\n",
      "1         AK  1905-01-02  -35.6\n",
      "2         AK  1905-01-03  -34.4\n",
      "3         AK  1905-01-04  -30.0\n",
      "4         AK  1905-01-05  -31.1\n"
     ]
    },
    {
     "name": "stderr",
     "output_type": "stream",
     "text": [
      "/Users/sanilveeravu/opt/anaconda3/envs/mlenv/lib/python3.7/site-packages/sklearn/ensemble/_gb.py:290: FutureWarning: The loss 'ls' was deprecated in v1.0 and will be removed in version 1.2. Use 'squared_error' which is equivalent.\n",
      "  FutureWarning,\n"
     ]
    },
    {
     "name": "stdout",
     "output_type": "stream",
     "text": [
      "Model Accuracy: 0.833\n",
      "The mean squared error (MSE) on test set: 21.0260\n",
      "  state_code        date  value\n",
      "0         AK  1905-01-01   16.0\n",
      "1         AK  1905-01-02   11.9\n",
      "2         AK  1905-01-03   27.9\n",
      "3         AK  1905-01-04   30.5\n",
      "4         AK  1905-01-05   19.1\n"
     ]
    },
    {
     "name": "stderr",
     "output_type": "stream",
     "text": [
      "/Users/sanilveeravu/opt/anaconda3/envs/mlenv/lib/python3.7/site-packages/sklearn/ensemble/_gb.py:290: FutureWarning: The loss 'ls' was deprecated in v1.0 and will be removed in version 1.2. Use 'squared_error' which is equivalent.\n",
      "  FutureWarning,\n"
     ]
    },
    {
     "name": "stdout",
     "output_type": "stream",
     "text": [
      "Model Accuracy: 0.276\n",
      "The mean squared error (MSE) on test set: 525.8089\n",
      "  state_code        date  value\n",
      "0         AK  1905-01-01  305.0\n",
      "1         AK  1905-01-02  102.0\n",
      "2         AK  1905-01-03  127.0\n",
      "3         AK  1905-01-04  267.0\n",
      "4         AK  1905-01-05  127.0\n"
     ]
    },
    {
     "name": "stderr",
     "output_type": "stream",
     "text": [
      "/Users/sanilveeravu/opt/anaconda3/envs/mlenv/lib/python3.7/site-packages/sklearn/ensemble/_gb.py:290: FutureWarning: The loss 'ls' was deprecated in v1.0 and will be removed in version 1.2. Use 'squared_error' which is equivalent.\n",
      "  FutureWarning,\n"
     ]
    },
    {
     "name": "stdout",
     "output_type": "stream",
     "text": [
      "Model Accuracy: 0.186\n",
      "The mean squared error (MSE) on test set: 3249.1837\n",
      "Processing NV\n",
      "  state_code        date  value\n",
      "0         AK  1905-01-01    6.1\n",
      "1         AK  1905-01-02    7.2\n",
      "2         AK  1905-01-03    5.0\n",
      "3         AK  1905-01-04    5.6\n",
      "4         AK  1905-01-05    5.6\n"
     ]
    },
    {
     "name": "stderr",
     "output_type": "stream",
     "text": [
      "/Users/sanilveeravu/opt/anaconda3/envs/mlenv/lib/python3.7/site-packages/sklearn/ensemble/_gb.py:290: FutureWarning: The loss 'ls' was deprecated in v1.0 and will be removed in version 1.2. Use 'squared_error' which is equivalent.\n",
      "  FutureWarning,\n"
     ]
    },
    {
     "name": "stdout",
     "output_type": "stream",
     "text": [
      "Model Accuracy: 0.881\n",
      "The mean squared error (MSE) on test set: 11.2582\n",
      "  state_code        date  value\n",
      "0         AK  1905-01-01  -31.1\n",
      "1         AK  1905-01-02  -35.6\n",
      "2         AK  1905-01-03  -34.4\n",
      "3         AK  1905-01-04  -30.0\n",
      "4         AK  1905-01-05  -31.1\n"
     ]
    },
    {
     "name": "stderr",
     "output_type": "stream",
     "text": [
      "/Users/sanilveeravu/opt/anaconda3/envs/mlenv/lib/python3.7/site-packages/sklearn/ensemble/_gb.py:290: FutureWarning: The loss 'ls' was deprecated in v1.0 and will be removed in version 1.2. Use 'squared_error' which is equivalent.\n",
      "  FutureWarning,\n"
     ]
    },
    {
     "name": "stdout",
     "output_type": "stream",
     "text": [
      "Model Accuracy: 0.790\n",
      "The mean squared error (MSE) on test set: 16.0415\n",
      "  state_code        date  value\n",
      "0         AK  1905-01-01   16.0\n",
      "1         AK  1905-01-02   11.9\n",
      "2         AK  1905-01-03   27.9\n",
      "3         AK  1905-01-04   30.5\n",
      "4         AK  1905-01-05   19.1\n"
     ]
    },
    {
     "name": "stderr",
     "output_type": "stream",
     "text": [
      "/Users/sanilveeravu/opt/anaconda3/envs/mlenv/lib/python3.7/site-packages/sklearn/ensemble/_gb.py:290: FutureWarning: The loss 'ls' was deprecated in v1.0 and will be removed in version 1.2. Use 'squared_error' which is equivalent.\n",
      "  FutureWarning,\n"
     ]
    },
    {
     "name": "stdout",
     "output_type": "stream",
     "text": [
      "Model Accuracy: 0.113\n",
      "The mean squared error (MSE) on test set: 177.8088\n",
      "  state_code        date  value\n",
      "0         AK  1905-01-01  305.0\n",
      "1         AK  1905-01-02  102.0\n",
      "2         AK  1905-01-03  127.0\n",
      "3         AK  1905-01-04  267.0\n",
      "4         AK  1905-01-05  127.0\n"
     ]
    },
    {
     "name": "stderr",
     "output_type": "stream",
     "text": [
      "/Users/sanilveeravu/opt/anaconda3/envs/mlenv/lib/python3.7/site-packages/sklearn/ensemble/_gb.py:290: FutureWarning: The loss 'ls' was deprecated in v1.0 and will be removed in version 1.2. Use 'squared_error' which is equivalent.\n",
      "  FutureWarning,\n"
     ]
    },
    {
     "name": "stdout",
     "output_type": "stream",
     "text": [
      "Model Accuracy: 0.206\n",
      "The mean squared error (MSE) on test set: 4274.2904\n",
      "Processing NH\n",
      "  state_code        date  value\n",
      "0         AK  1905-01-01    6.1\n",
      "1         AK  1905-01-02    7.2\n",
      "2         AK  1905-01-03    5.0\n",
      "3         AK  1905-01-04    5.6\n",
      "4         AK  1905-01-05    5.6\n"
     ]
    },
    {
     "name": "stderr",
     "output_type": "stream",
     "text": [
      "/Users/sanilveeravu/opt/anaconda3/envs/mlenv/lib/python3.7/site-packages/sklearn/ensemble/_gb.py:290: FutureWarning: The loss 'ls' was deprecated in v1.0 and will be removed in version 1.2. Use 'squared_error' which is equivalent.\n",
      "  FutureWarning,\n"
     ]
    },
    {
     "name": "stdout",
     "output_type": "stream",
     "text": [
      "Model Accuracy: 0.834\n",
      "The mean squared error (MSE) on test set: 19.4944\n",
      "  state_code        date  value\n",
      "0         AK  1905-01-01  -31.1\n",
      "1         AK  1905-01-02  -35.6\n",
      "2         AK  1905-01-03  -34.4\n",
      "3         AK  1905-01-04  -30.0\n",
      "4         AK  1905-01-05  -31.1\n"
     ]
    },
    {
     "name": "stderr",
     "output_type": "stream",
     "text": [
      "/Users/sanilveeravu/opt/anaconda3/envs/mlenv/lib/python3.7/site-packages/sklearn/ensemble/_gb.py:290: FutureWarning: The loss 'ls' was deprecated in v1.0 and will be removed in version 1.2. Use 'squared_error' which is equivalent.\n",
      "  FutureWarning,\n"
     ]
    },
    {
     "name": "stdout",
     "output_type": "stream",
     "text": [
      "Model Accuracy: 0.810\n",
      "The mean squared error (MSE) on test set: 26.9205\n",
      "  state_code        date  value\n",
      "0         AK  1905-01-01   16.0\n",
      "1         AK  1905-01-02   11.9\n",
      "2         AK  1905-01-03   27.9\n",
      "3         AK  1905-01-04   30.5\n",
      "4         AK  1905-01-05   19.1\n"
     ]
    },
    {
     "name": "stderr",
     "output_type": "stream",
     "text": [
      "/Users/sanilveeravu/opt/anaconda3/envs/mlenv/lib/python3.7/site-packages/sklearn/ensemble/_gb.py:290: FutureWarning: The loss 'ls' was deprecated in v1.0 and will be removed in version 1.2. Use 'squared_error' which is equivalent.\n",
      "  FutureWarning,\n"
     ]
    },
    {
     "name": "stdout",
     "output_type": "stream",
     "text": [
      "Model Accuracy: 0.056\n",
      "The mean squared error (MSE) on test set: 316.4050\n",
      "  state_code        date  value\n",
      "0         AK  1905-01-01  305.0\n",
      "1         AK  1905-01-02  102.0\n",
      "2         AK  1905-01-03  127.0\n",
      "3         AK  1905-01-04  267.0\n",
      "4         AK  1905-01-05  127.0\n"
     ]
    },
    {
     "name": "stderr",
     "output_type": "stream",
     "text": [
      "/Users/sanilveeravu/opt/anaconda3/envs/mlenv/lib/python3.7/site-packages/sklearn/ensemble/_gb.py:290: FutureWarning: The loss 'ls' was deprecated in v1.0 and will be removed in version 1.2. Use 'squared_error' which is equivalent.\n",
      "  FutureWarning,\n"
     ]
    },
    {
     "name": "stdout",
     "output_type": "stream",
     "text": [
      "Model Accuracy: 0.227\n",
      "The mean squared error (MSE) on test set: 3880.8290\n",
      "Processing NJ\n",
      "  state_code        date  value\n",
      "0         AK  1905-01-01    6.1\n",
      "1         AK  1905-01-02    7.2\n",
      "2         AK  1905-01-03    5.0\n",
      "3         AK  1905-01-04    5.6\n",
      "4         AK  1905-01-05    5.6\n"
     ]
    },
    {
     "name": "stderr",
     "output_type": "stream",
     "text": [
      "/Users/sanilveeravu/opt/anaconda3/envs/mlenv/lib/python3.7/site-packages/sklearn/ensemble/_gb.py:290: FutureWarning: The loss 'ls' was deprecated in v1.0 and will be removed in version 1.2. Use 'squared_error' which is equivalent.\n",
      "  FutureWarning,\n"
     ]
    },
    {
     "name": "stdout",
     "output_type": "stream",
     "text": [
      "Model Accuracy: 0.813\n",
      "The mean squared error (MSE) on test set: 17.3111\n",
      "  state_code        date  value\n",
      "0         AK  1905-01-01  -31.1\n",
      "1         AK  1905-01-02  -35.6\n",
      "2         AK  1905-01-03  -34.4\n",
      "3         AK  1905-01-04  -30.0\n",
      "4         AK  1905-01-05  -31.1\n"
     ]
    },
    {
     "name": "stderr",
     "output_type": "stream",
     "text": [
      "/Users/sanilveeravu/opt/anaconda3/envs/mlenv/lib/python3.7/site-packages/sklearn/ensemble/_gb.py:290: FutureWarning: The loss 'ls' was deprecated in v1.0 and will be removed in version 1.2. Use 'squared_error' which is equivalent.\n",
      "  FutureWarning,\n"
     ]
    },
    {
     "name": "stdout",
     "output_type": "stream",
     "text": [
      "Model Accuracy: 0.805\n",
      "The mean squared error (MSE) on test set: 17.9847\n",
      "  state_code        date  value\n",
      "0         AK  1905-01-01   16.0\n",
      "1         AK  1905-01-02   11.9\n",
      "2         AK  1905-01-03   27.9\n",
      "3         AK  1905-01-04   30.5\n",
      "4         AK  1905-01-05   19.1\n"
     ]
    },
    {
     "name": "stderr",
     "output_type": "stream",
     "text": [
      "/Users/sanilveeravu/opt/anaconda3/envs/mlenv/lib/python3.7/site-packages/sklearn/ensemble/_gb.py:290: FutureWarning: The loss 'ls' was deprecated in v1.0 and will be removed in version 1.2. Use 'squared_error' which is equivalent.\n",
      "  FutureWarning,\n"
     ]
    },
    {
     "name": "stdout",
     "output_type": "stream",
     "text": [
      "Model Accuracy: 0.058\n",
      "The mean squared error (MSE) on test set: 546.4499\n",
      "  state_code        date  value\n",
      "0         AK  1905-01-01  305.0\n",
      "1         AK  1905-01-02  102.0\n",
      "2         AK  1905-01-03  127.0\n",
      "3         AK  1905-01-04  267.0\n",
      "4         AK  1905-01-05  127.0\n"
     ]
    },
    {
     "name": "stderr",
     "output_type": "stream",
     "text": [
      "/Users/sanilveeravu/opt/anaconda3/envs/mlenv/lib/python3.7/site-packages/sklearn/ensemble/_gb.py:290: FutureWarning: The loss 'ls' was deprecated in v1.0 and will be removed in version 1.2. Use 'squared_error' which is equivalent.\n",
      "  FutureWarning,\n"
     ]
    },
    {
     "name": "stdout",
     "output_type": "stream",
     "text": [
      "Model Accuracy: 0.088\n",
      "The mean squared error (MSE) on test set: 1415.4860\n",
      "Processing NM\n",
      "  state_code        date  value\n",
      "0         AK  1905-01-01    6.1\n",
      "1         AK  1905-01-02    7.2\n",
      "2         AK  1905-01-03    5.0\n",
      "3         AK  1905-01-04    5.6\n",
      "4         AK  1905-01-05    5.6\n"
     ]
    },
    {
     "name": "stderr",
     "output_type": "stream",
     "text": [
      "/Users/sanilveeravu/opt/anaconda3/envs/mlenv/lib/python3.7/site-packages/sklearn/ensemble/_gb.py:290: FutureWarning: The loss 'ls' was deprecated in v1.0 and will be removed in version 1.2. Use 'squared_error' which is equivalent.\n",
      "  FutureWarning,\n"
     ]
    },
    {
     "name": "stdout",
     "output_type": "stream",
     "text": [
      "Model Accuracy: 0.862\n",
      "The mean squared error (MSE) on test set: 7.6983\n",
      "  state_code        date  value\n",
      "0         AK  1905-01-01  -31.1\n",
      "1         AK  1905-01-02  -35.6\n",
      "2         AK  1905-01-03  -34.4\n",
      "3         AK  1905-01-04  -30.0\n",
      "4         AK  1905-01-05  -31.1\n"
     ]
    },
    {
     "name": "stderr",
     "output_type": "stream",
     "text": [
      "/Users/sanilveeravu/opt/anaconda3/envs/mlenv/lib/python3.7/site-packages/sklearn/ensemble/_gb.py:290: FutureWarning: The loss 'ls' was deprecated in v1.0 and will be removed in version 1.2. Use 'squared_error' which is equivalent.\n",
      "  FutureWarning,\n"
     ]
    },
    {
     "name": "stdout",
     "output_type": "stream",
     "text": [
      "Model Accuracy: 0.845\n",
      "The mean squared error (MSE) on test set: 13.9755\n",
      "  state_code        date  value\n",
      "0         AK  1905-01-01   16.0\n",
      "1         AK  1905-01-02   11.9\n",
      "2         AK  1905-01-03   27.9\n",
      "3         AK  1905-01-04   30.5\n",
      "4         AK  1905-01-05   19.1\n"
     ]
    },
    {
     "name": "stderr",
     "output_type": "stream",
     "text": [
      "/Users/sanilveeravu/opt/anaconda3/envs/mlenv/lib/python3.7/site-packages/sklearn/ensemble/_gb.py:290: FutureWarning: The loss 'ls' was deprecated in v1.0 and will be removed in version 1.2. Use 'squared_error' which is equivalent.\n",
      "  FutureWarning,\n"
     ]
    },
    {
     "name": "stdout",
     "output_type": "stream",
     "text": [
      "Model Accuracy: 0.265\n",
      "The mean squared error (MSE) on test set: 314.0833\n",
      "  state_code        date  value\n",
      "0         AK  1905-01-01  305.0\n",
      "1         AK  1905-01-02  102.0\n",
      "2         AK  1905-01-03  127.0\n",
      "3         AK  1905-01-04  267.0\n",
      "4         AK  1905-01-05  127.0\n"
     ]
    },
    {
     "name": "stderr",
     "output_type": "stream",
     "text": [
      "/Users/sanilveeravu/opt/anaconda3/envs/mlenv/lib/python3.7/site-packages/sklearn/ensemble/_gb.py:290: FutureWarning: The loss 'ls' was deprecated in v1.0 and will be removed in version 1.2. Use 'squared_error' which is equivalent.\n",
      "  FutureWarning,\n"
     ]
    },
    {
     "name": "stdout",
     "output_type": "stream",
     "text": [
      "Model Accuracy: 0.217\n",
      "The mean squared error (MSE) on test set: 5720.3111\n",
      "Processing NY\n",
      "  state_code        date  value\n",
      "0         AK  1905-01-01    6.1\n",
      "1         AK  1905-01-02    7.2\n",
      "2         AK  1905-01-03    5.0\n",
      "3         AK  1905-01-04    5.6\n",
      "4         AK  1905-01-05    5.6\n"
     ]
    },
    {
     "name": "stderr",
     "output_type": "stream",
     "text": [
      "/Users/sanilveeravu/opt/anaconda3/envs/mlenv/lib/python3.7/site-packages/sklearn/ensemble/_gb.py:290: FutureWarning: The loss 'ls' was deprecated in v1.0 and will be removed in version 1.2. Use 'squared_error' which is equivalent.\n",
      "  FutureWarning,\n"
     ]
    },
    {
     "name": "stdout",
     "output_type": "stream",
     "text": [
      "Model Accuracy: 0.836\n",
      "The mean squared error (MSE) on test set: 16.5993\n",
      "  state_code        date  value\n",
      "0         AK  1905-01-01  -31.1\n",
      "1         AK  1905-01-02  -35.6\n",
      "2         AK  1905-01-03  -34.4\n",
      "3         AK  1905-01-04  -30.0\n",
      "4         AK  1905-01-05  -31.1\n"
     ]
    },
    {
     "name": "stderr",
     "output_type": "stream",
     "text": [
      "/Users/sanilveeravu/opt/anaconda3/envs/mlenv/lib/python3.7/site-packages/sklearn/ensemble/_gb.py:290: FutureWarning: The loss 'ls' was deprecated in v1.0 and will be removed in version 1.2. Use 'squared_error' which is equivalent.\n",
      "  FutureWarning,\n"
     ]
    },
    {
     "name": "stdout",
     "output_type": "stream",
     "text": [
      "Model Accuracy: 0.807\n",
      "The mean squared error (MSE) on test set: 25.7304\n",
      "  state_code        date  value\n",
      "0         AK  1905-01-01   16.0\n",
      "1         AK  1905-01-02   11.9\n",
      "2         AK  1905-01-03   27.9\n",
      "3         AK  1905-01-04   30.5\n",
      "4         AK  1905-01-05   19.1\n"
     ]
    },
    {
     "name": "stderr",
     "output_type": "stream",
     "text": [
      "/Users/sanilveeravu/opt/anaconda3/envs/mlenv/lib/python3.7/site-packages/sklearn/ensemble/_gb.py:290: FutureWarning: The loss 'ls' was deprecated in v1.0 and will be removed in version 1.2. Use 'squared_error' which is equivalent.\n",
      "  FutureWarning,\n"
     ]
    },
    {
     "name": "stdout",
     "output_type": "stream",
     "text": [
      "Model Accuracy: 0.086\n",
      "The mean squared error (MSE) on test set: 531.5694\n",
      "  state_code        date  value\n",
      "0         AK  1905-01-01  305.0\n",
      "1         AK  1905-01-02  102.0\n",
      "2         AK  1905-01-03  127.0\n",
      "3         AK  1905-01-04  267.0\n",
      "4         AK  1905-01-05  127.0\n"
     ]
    },
    {
     "name": "stderr",
     "output_type": "stream",
     "text": [
      "/Users/sanilveeravu/opt/anaconda3/envs/mlenv/lib/python3.7/site-packages/sklearn/ensemble/_gb.py:290: FutureWarning: The loss 'ls' was deprecated in v1.0 and will be removed in version 1.2. Use 'squared_error' which is equivalent.\n",
      "  FutureWarning,\n"
     ]
    },
    {
     "name": "stdout",
     "output_type": "stream",
     "text": [
      "Model Accuracy: 0.391\n",
      "The mean squared error (MSE) on test set: 6533.5454\n",
      "Processing NC\n",
      "  state_code        date  value\n",
      "0         AK  1905-01-01    6.1\n",
      "1         AK  1905-01-02    7.2\n",
      "2         AK  1905-01-03    5.0\n",
      "3         AK  1905-01-04    5.6\n",
      "4         AK  1905-01-05    5.6\n"
     ]
    },
    {
     "name": "stderr",
     "output_type": "stream",
     "text": [
      "/Users/sanilveeravu/opt/anaconda3/envs/mlenv/lib/python3.7/site-packages/sklearn/ensemble/_gb.py:290: FutureWarning: The loss 'ls' was deprecated in v1.0 and will be removed in version 1.2. Use 'squared_error' which is equivalent.\n",
      "  FutureWarning,\n"
     ]
    },
    {
     "name": "stdout",
     "output_type": "stream",
     "text": [
      "Model Accuracy: 0.783\n",
      "The mean squared error (MSE) on test set: 10.8187\n",
      "  state_code        date  value\n",
      "0         AK  1905-01-01  -31.1\n",
      "1         AK  1905-01-02  -35.6\n",
      "2         AK  1905-01-03  -34.4\n",
      "3         AK  1905-01-04  -30.0\n",
      "4         AK  1905-01-05  -31.1\n"
     ]
    },
    {
     "name": "stderr",
     "output_type": "stream",
     "text": [
      "/Users/sanilveeravu/opt/anaconda3/envs/mlenv/lib/python3.7/site-packages/sklearn/ensemble/_gb.py:290: FutureWarning: The loss 'ls' was deprecated in v1.0 and will be removed in version 1.2. Use 'squared_error' which is equivalent.\n",
      "  FutureWarning,\n"
     ]
    },
    {
     "name": "stdout",
     "output_type": "stream",
     "text": [
      "Model Accuracy: 0.783\n",
      "The mean squared error (MSE) on test set: 16.8882\n",
      "  state_code        date  value\n",
      "0         AK  1905-01-01   16.0\n",
      "1         AK  1905-01-02   11.9\n",
      "2         AK  1905-01-03   27.9\n",
      "3         AK  1905-01-04   30.5\n",
      "4         AK  1905-01-05   19.1\n"
     ]
    },
    {
     "name": "stderr",
     "output_type": "stream",
     "text": [
      "/Users/sanilveeravu/opt/anaconda3/envs/mlenv/lib/python3.7/site-packages/sklearn/ensemble/_gb.py:290: FutureWarning: The loss 'ls' was deprecated in v1.0 and will be removed in version 1.2. Use 'squared_error' which is equivalent.\n",
      "  FutureWarning,\n"
     ]
    },
    {
     "name": "stdout",
     "output_type": "stream",
     "text": [
      "Model Accuracy: 0.142\n",
      "The mean squared error (MSE) on test set: 1106.1945\n",
      "  state_code        date  value\n",
      "0         AK  1905-01-01  305.0\n",
      "1         AK  1905-01-02  102.0\n",
      "2         AK  1905-01-03  127.0\n",
      "3         AK  1905-01-04  267.0\n",
      "4         AK  1905-01-05  127.0\n"
     ]
    },
    {
     "name": "stderr",
     "output_type": "stream",
     "text": [
      "/Users/sanilveeravu/opt/anaconda3/envs/mlenv/lib/python3.7/site-packages/sklearn/ensemble/_gb.py:290: FutureWarning: The loss 'ls' was deprecated in v1.0 and will be removed in version 1.2. Use 'squared_error' which is equivalent.\n",
      "  FutureWarning,\n"
     ]
    },
    {
     "name": "stdout",
     "output_type": "stream",
     "text": [
      "Model Accuracy: 0.130\n",
      "The mean squared error (MSE) on test set: 1398.6006\n",
      "Processing ND\n",
      "  state_code        date  value\n",
      "0         AK  1905-01-01    6.1\n",
      "1         AK  1905-01-02    7.2\n",
      "2         AK  1905-01-03    5.0\n",
      "3         AK  1905-01-04    5.6\n",
      "4         AK  1905-01-05    5.6\n"
     ]
    },
    {
     "name": "stderr",
     "output_type": "stream",
     "text": [
      "/Users/sanilveeravu/opt/anaconda3/envs/mlenv/lib/python3.7/site-packages/sklearn/ensemble/_gb.py:290: FutureWarning: The loss 'ls' was deprecated in v1.0 and will be removed in version 1.2. Use 'squared_error' which is equivalent.\n",
      "  FutureWarning,\n"
     ]
    },
    {
     "name": "stdout",
     "output_type": "stream",
     "text": [
      "Model Accuracy: 0.827\n",
      "The mean squared error (MSE) on test set: 29.9243\n",
      "  state_code        date  value\n",
      "0         AK  1905-01-01  -31.1\n",
      "1         AK  1905-01-02  -35.6\n",
      "2         AK  1905-01-03  -34.4\n",
      "3         AK  1905-01-04  -30.0\n",
      "4         AK  1905-01-05  -31.1\n"
     ]
    },
    {
     "name": "stderr",
     "output_type": "stream",
     "text": [
      "/Users/sanilveeravu/opt/anaconda3/envs/mlenv/lib/python3.7/site-packages/sklearn/ensemble/_gb.py:290: FutureWarning: The loss 'ls' was deprecated in v1.0 and will be removed in version 1.2. Use 'squared_error' which is equivalent.\n",
      "  FutureWarning,\n"
     ]
    },
    {
     "name": "stdout",
     "output_type": "stream",
     "text": [
      "Model Accuracy: 0.859\n",
      "The mean squared error (MSE) on test set: 25.5174\n",
      "  state_code        date  value\n",
      "0         AK  1905-01-01   16.0\n",
      "1         AK  1905-01-02   11.9\n",
      "2         AK  1905-01-03   27.9\n",
      "3         AK  1905-01-04   30.5\n",
      "4         AK  1905-01-05   19.1\n"
     ]
    },
    {
     "name": "stderr",
     "output_type": "stream",
     "text": [
      "/Users/sanilveeravu/opt/anaconda3/envs/mlenv/lib/python3.7/site-packages/sklearn/ensemble/_gb.py:290: FutureWarning: The loss 'ls' was deprecated in v1.0 and will be removed in version 1.2. Use 'squared_error' which is equivalent.\n",
      "  FutureWarning,\n"
     ]
    },
    {
     "name": "stdout",
     "output_type": "stream",
     "text": [
      "Model Accuracy: 0.218\n",
      "The mean squared error (MSE) on test set: 252.4763\n",
      "  state_code        date  value\n",
      "0         AK  1905-01-01  305.0\n",
      "1         AK  1905-01-02  102.0\n",
      "2         AK  1905-01-03  127.0\n",
      "3         AK  1905-01-04  267.0\n",
      "4         AK  1905-01-05  127.0\n"
     ]
    },
    {
     "name": "stderr",
     "output_type": "stream",
     "text": [
      "/Users/sanilveeravu/opt/anaconda3/envs/mlenv/lib/python3.7/site-packages/sklearn/ensemble/_gb.py:290: FutureWarning: The loss 'ls' was deprecated in v1.0 and will be removed in version 1.2. Use 'squared_error' which is equivalent.\n",
      "  FutureWarning,\n"
     ]
    },
    {
     "name": "stdout",
     "output_type": "stream",
     "text": [
      "Model Accuracy: 0.231\n",
      "The mean squared error (MSE) on test set: 2415.8027\n",
      "Processing OH\n",
      "  state_code        date  value\n",
      "0         AK  1905-01-01    6.1\n",
      "1         AK  1905-01-02    7.2\n",
      "2         AK  1905-01-03    5.0\n",
      "3         AK  1905-01-04    5.6\n",
      "4         AK  1905-01-05    5.6\n"
     ]
    },
    {
     "name": "stderr",
     "output_type": "stream",
     "text": [
      "/Users/sanilveeravu/opt/anaconda3/envs/mlenv/lib/python3.7/site-packages/sklearn/ensemble/_gb.py:290: FutureWarning: The loss 'ls' was deprecated in v1.0 and will be removed in version 1.2. Use 'squared_error' which is equivalent.\n",
      "  FutureWarning,\n"
     ]
    },
    {
     "name": "stdout",
     "output_type": "stream",
     "text": [
      "Model Accuracy: 0.798\n",
      "The mean squared error (MSE) on test set: 20.0005\n",
      "  state_code        date  value\n",
      "0         AK  1905-01-01  -31.1\n",
      "1         AK  1905-01-02  -35.6\n",
      "2         AK  1905-01-03  -34.4\n",
      "3         AK  1905-01-04  -30.0\n",
      "4         AK  1905-01-05  -31.1\n"
     ]
    },
    {
     "name": "stderr",
     "output_type": "stream",
     "text": [
      "/Users/sanilveeravu/opt/anaconda3/envs/mlenv/lib/python3.7/site-packages/sklearn/ensemble/_gb.py:290: FutureWarning: The loss 'ls' was deprecated in v1.0 and will be removed in version 1.2. Use 'squared_error' which is equivalent.\n",
      "  FutureWarning,\n"
     ]
    },
    {
     "name": "stdout",
     "output_type": "stream",
     "text": [
      "Model Accuracy: 0.805\n",
      "The mean squared error (MSE) on test set: 19.0438\n",
      "  state_code        date  value\n",
      "0         AK  1905-01-01   16.0\n",
      "1         AK  1905-01-02   11.9\n",
      "2         AK  1905-01-03   27.9\n",
      "3         AK  1905-01-04   30.5\n",
      "4         AK  1905-01-05   19.1\n"
     ]
    },
    {
     "name": "stderr",
     "output_type": "stream",
     "text": [
      "/Users/sanilveeravu/opt/anaconda3/envs/mlenv/lib/python3.7/site-packages/sklearn/ensemble/_gb.py:290: FutureWarning: The loss 'ls' was deprecated in v1.0 and will be removed in version 1.2. Use 'squared_error' which is equivalent.\n",
      "  FutureWarning,\n"
     ]
    },
    {
     "name": "stdout",
     "output_type": "stream",
     "text": [
      "Model Accuracy: 0.126\n",
      "The mean squared error (MSE) on test set: 425.9817\n",
      "  state_code        date  value\n",
      "0         AK  1905-01-01  305.0\n",
      "1         AK  1905-01-02  102.0\n",
      "2         AK  1905-01-03  127.0\n",
      "3         AK  1905-01-04  267.0\n",
      "4         AK  1905-01-05  127.0\n"
     ]
    },
    {
     "name": "stderr",
     "output_type": "stream",
     "text": [
      "/Users/sanilveeravu/opt/anaconda3/envs/mlenv/lib/python3.7/site-packages/sklearn/ensemble/_gb.py:290: FutureWarning: The loss 'ls' was deprecated in v1.0 and will be removed in version 1.2. Use 'squared_error' which is equivalent.\n",
      "  FutureWarning,\n"
     ]
    },
    {
     "name": "stdout",
     "output_type": "stream",
     "text": [
      "Model Accuracy: 0.256\n",
      "The mean squared error (MSE) on test set: 1720.1417\n",
      "Processing OK\n",
      "  state_code        date  value\n",
      "0         AK  1905-01-01    6.1\n",
      "1         AK  1905-01-02    7.2\n",
      "2         AK  1905-01-03    5.0\n",
      "3         AK  1905-01-04    5.6\n",
      "4         AK  1905-01-05    5.6\n"
     ]
    },
    {
     "name": "stderr",
     "output_type": "stream",
     "text": [
      "/Users/sanilveeravu/opt/anaconda3/envs/mlenv/lib/python3.7/site-packages/sklearn/ensemble/_gb.py:290: FutureWarning: The loss 'ls' was deprecated in v1.0 and will be removed in version 1.2. Use 'squared_error' which is equivalent.\n",
      "  FutureWarning,\n"
     ]
    },
    {
     "name": "stdout",
     "output_type": "stream",
     "text": [
      "Model Accuracy: 0.788\n",
      "The mean squared error (MSE) on test set: 15.6719\n",
      "  state_code        date  value\n",
      "0         AK  1905-01-01  -31.1\n",
      "1         AK  1905-01-02  -35.6\n",
      "2         AK  1905-01-03  -34.4\n",
      "3         AK  1905-01-04  -30.0\n",
      "4         AK  1905-01-05  -31.1\n"
     ]
    },
    {
     "name": "stderr",
     "output_type": "stream",
     "text": [
      "/Users/sanilveeravu/opt/anaconda3/envs/mlenv/lib/python3.7/site-packages/sklearn/ensemble/_gb.py:290: FutureWarning: The loss 'ls' was deprecated in v1.0 and will be removed in version 1.2. Use 'squared_error' which is equivalent.\n",
      "  FutureWarning,\n"
     ]
    },
    {
     "name": "stdout",
     "output_type": "stream",
     "text": [
      "Model Accuracy: 0.872\n",
      "The mean squared error (MSE) on test set: 13.1576\n",
      "  state_code        date  value\n",
      "0         AK  1905-01-01   16.0\n",
      "1         AK  1905-01-02   11.9\n",
      "2         AK  1905-01-03   27.9\n",
      "3         AK  1905-01-04   30.5\n",
      "4         AK  1905-01-05   19.1\n"
     ]
    },
    {
     "name": "stderr",
     "output_type": "stream",
     "text": [
      "/Users/sanilveeravu/opt/anaconda3/envs/mlenv/lib/python3.7/site-packages/sklearn/ensemble/_gb.py:290: FutureWarning: The loss 'ls' was deprecated in v1.0 and will be removed in version 1.2. Use 'squared_error' which is equivalent.\n",
      "  FutureWarning,\n"
     ]
    },
    {
     "name": "stdout",
     "output_type": "stream",
     "text": [
      "Model Accuracy: 0.126\n",
      "The mean squared error (MSE) on test set: 1006.3474\n",
      "  state_code        date  value\n",
      "0         AK  1905-01-01  305.0\n",
      "1         AK  1905-01-02  102.0\n",
      "2         AK  1905-01-03  127.0\n",
      "3         AK  1905-01-04  267.0\n",
      "4         AK  1905-01-05  127.0\n"
     ]
    },
    {
     "name": "stderr",
     "output_type": "stream",
     "text": [
      "/Users/sanilveeravu/opt/anaconda3/envs/mlenv/lib/python3.7/site-packages/sklearn/ensemble/_gb.py:290: FutureWarning: The loss 'ls' was deprecated in v1.0 and will be removed in version 1.2. Use 'squared_error' which is equivalent.\n",
      "  FutureWarning,\n"
     ]
    },
    {
     "name": "stdout",
     "output_type": "stream",
     "text": [
      "Model Accuracy: 0.128\n",
      "The mean squared error (MSE) on test set: 1010.6261\n",
      "Processing OR\n",
      "  state_code        date  value\n",
      "0         AK  1905-01-01    6.1\n",
      "1         AK  1905-01-02    7.2\n",
      "2         AK  1905-01-03    5.0\n",
      "3         AK  1905-01-04    5.6\n",
      "4         AK  1905-01-05    5.6\n"
     ]
    },
    {
     "name": "stderr",
     "output_type": "stream",
     "text": [
      "/Users/sanilveeravu/opt/anaconda3/envs/mlenv/lib/python3.7/site-packages/sklearn/ensemble/_gb.py:290: FutureWarning: The loss 'ls' was deprecated in v1.0 and will be removed in version 1.2. Use 'squared_error' which is equivalent.\n",
      "  FutureWarning,\n"
     ]
    },
    {
     "name": "stdout",
     "output_type": "stream",
     "text": [
      "Model Accuracy: 0.838\n",
      "The mean squared error (MSE) on test set: 12.4404\n",
      "  state_code        date  value\n",
      "0         AK  1905-01-01  -31.1\n",
      "1         AK  1905-01-02  -35.6\n",
      "2         AK  1905-01-03  -34.4\n",
      "3         AK  1905-01-04  -30.0\n",
      "4         AK  1905-01-05  -31.1\n"
     ]
    },
    {
     "name": "stderr",
     "output_type": "stream",
     "text": [
      "/Users/sanilveeravu/opt/anaconda3/envs/mlenv/lib/python3.7/site-packages/sklearn/ensemble/_gb.py:290: FutureWarning: The loss 'ls' was deprecated in v1.0 and will be removed in version 1.2. Use 'squared_error' which is equivalent.\n",
      "  FutureWarning,\n"
     ]
    },
    {
     "name": "stdout",
     "output_type": "stream",
     "text": [
      "Model Accuracy: 0.683\n",
      "The mean squared error (MSE) on test set: 17.6018\n",
      "  state_code        date  value\n",
      "0         AK  1905-01-01   16.0\n",
      "1         AK  1905-01-02   11.9\n",
      "2         AK  1905-01-03   27.9\n",
      "3         AK  1905-01-04   30.5\n",
      "4         AK  1905-01-05   19.1\n"
     ]
    },
    {
     "name": "stderr",
     "output_type": "stream",
     "text": [
      "/Users/sanilveeravu/opt/anaconda3/envs/mlenv/lib/python3.7/site-packages/sklearn/ensemble/_gb.py:290: FutureWarning: The loss 'ls' was deprecated in v1.0 and will be removed in version 1.2. Use 'squared_error' which is equivalent.\n",
      "  FutureWarning,\n"
     ]
    },
    {
     "name": "stdout",
     "output_type": "stream",
     "text": [
      "Model Accuracy: 0.228\n",
      "The mean squared error (MSE) on test set: 523.0372\n",
      "  state_code        date  value\n",
      "0         AK  1905-01-01  305.0\n",
      "1         AK  1905-01-02  102.0\n",
      "2         AK  1905-01-03  127.0\n",
      "3         AK  1905-01-04  267.0\n",
      "4         AK  1905-01-05  127.0\n"
     ]
    },
    {
     "name": "stderr",
     "output_type": "stream",
     "text": [
      "/Users/sanilveeravu/opt/anaconda3/envs/mlenv/lib/python3.7/site-packages/sklearn/ensemble/_gb.py:290: FutureWarning: The loss 'ls' was deprecated in v1.0 and will be removed in version 1.2. Use 'squared_error' which is equivalent.\n",
      "  FutureWarning,\n"
     ]
    },
    {
     "name": "stdout",
     "output_type": "stream",
     "text": [
      "Model Accuracy: 0.287\n",
      "The mean squared error (MSE) on test set: 8886.8837\n",
      "Processing PA\n",
      "  state_code        date  value\n",
      "0         AK  1905-01-01    6.1\n",
      "1         AK  1905-01-02    7.2\n",
      "2         AK  1905-01-03    5.0\n",
      "3         AK  1905-01-04    5.6\n",
      "4         AK  1905-01-05    5.6\n"
     ]
    },
    {
     "name": "stderr",
     "output_type": "stream",
     "text": [
      "/Users/sanilveeravu/opt/anaconda3/envs/mlenv/lib/python3.7/site-packages/sklearn/ensemble/_gb.py:290: FutureWarning: The loss 'ls' was deprecated in v1.0 and will be removed in version 1.2. Use 'squared_error' which is equivalent.\n",
      "  FutureWarning,\n"
     ]
    },
    {
     "name": "stdout",
     "output_type": "stream",
     "text": [
      "Model Accuracy: 0.811\n",
      "The mean squared error (MSE) on test set: 17.9396\n",
      "  state_code        date  value\n",
      "0         AK  1905-01-01  -31.1\n",
      "1         AK  1905-01-02  -35.6\n",
      "2         AK  1905-01-03  -34.4\n",
      "3         AK  1905-01-04  -30.0\n",
      "4         AK  1905-01-05  -31.1\n"
     ]
    },
    {
     "name": "stderr",
     "output_type": "stream",
     "text": [
      "/Users/sanilveeravu/opt/anaconda3/envs/mlenv/lib/python3.7/site-packages/sklearn/ensemble/_gb.py:290: FutureWarning: The loss 'ls' was deprecated in v1.0 and will be removed in version 1.2. Use 'squared_error' which is equivalent.\n",
      "  FutureWarning,\n"
     ]
    },
    {
     "name": "stdout",
     "output_type": "stream",
     "text": [
      "Model Accuracy: 0.796\n",
      "The mean squared error (MSE) on test set: 19.3225\n",
      "  state_code        date  value\n",
      "0         AK  1905-01-01   16.0\n",
      "1         AK  1905-01-02   11.9\n",
      "2         AK  1905-01-03   27.9\n",
      "3         AK  1905-01-04   30.5\n",
      "4         AK  1905-01-05   19.1\n"
     ]
    },
    {
     "name": "stderr",
     "output_type": "stream",
     "text": [
      "/Users/sanilveeravu/opt/anaconda3/envs/mlenv/lib/python3.7/site-packages/sklearn/ensemble/_gb.py:290: FutureWarning: The loss 'ls' was deprecated in v1.0 and will be removed in version 1.2. Use 'squared_error' which is equivalent.\n",
      "  FutureWarning,\n"
     ]
    },
    {
     "name": "stdout",
     "output_type": "stream",
     "text": [
      "Model Accuracy: 0.095\n",
      "The mean squared error (MSE) on test set: 563.2103\n",
      "  state_code        date  value\n",
      "0         AK  1905-01-01  305.0\n",
      "1         AK  1905-01-02  102.0\n",
      "2         AK  1905-01-03  127.0\n",
      "3         AK  1905-01-04  267.0\n",
      "4         AK  1905-01-05  127.0\n"
     ]
    },
    {
     "name": "stderr",
     "output_type": "stream",
     "text": [
      "/Users/sanilveeravu/opt/anaconda3/envs/mlenv/lib/python3.7/site-packages/sklearn/ensemble/_gb.py:290: FutureWarning: The loss 'ls' was deprecated in v1.0 and will be removed in version 1.2. Use 'squared_error' which is equivalent.\n",
      "  FutureWarning,\n"
     ]
    },
    {
     "name": "stdout",
     "output_type": "stream",
     "text": [
      "Model Accuracy: 0.285\n",
      "The mean squared error (MSE) on test set: 3383.7280\n",
      "Processing RI\n",
      "  state_code        date  value\n",
      "0         AK  1905-01-01    6.1\n",
      "1         AK  1905-01-02    7.2\n",
      "2         AK  1905-01-03    5.0\n",
      "3         AK  1905-01-04    5.6\n",
      "4         AK  1905-01-05    5.6\n"
     ]
    },
    {
     "name": "stderr",
     "output_type": "stream",
     "text": [
      "/Users/sanilveeravu/opt/anaconda3/envs/mlenv/lib/python3.7/site-packages/sklearn/ensemble/_gb.py:290: FutureWarning: The loss 'ls' was deprecated in v1.0 and will be removed in version 1.2. Use 'squared_error' which is equivalent.\n",
      "  FutureWarning,\n"
     ]
    },
    {
     "name": "stdout",
     "output_type": "stream",
     "text": [
      "Model Accuracy: 0.816\n",
      "The mean squared error (MSE) on test set: 17.2371\n",
      "  state_code        date  value\n",
      "0         AK  1905-01-01  -31.1\n",
      "1         AK  1905-01-02  -35.6\n",
      "2         AK  1905-01-03  -34.4\n",
      "3         AK  1905-01-04  -30.0\n",
      "4         AK  1905-01-05  -31.1\n"
     ]
    },
    {
     "name": "stderr",
     "output_type": "stream",
     "text": [
      "/Users/sanilveeravu/opt/anaconda3/envs/mlenv/lib/python3.7/site-packages/sklearn/ensemble/_gb.py:290: FutureWarning: The loss 'ls' was deprecated in v1.0 and will be removed in version 1.2. Use 'squared_error' which is equivalent.\n",
      "  FutureWarning,\n"
     ]
    },
    {
     "name": "stdout",
     "output_type": "stream",
     "text": [
      "Model Accuracy: 0.777\n",
      "The mean squared error (MSE) on test set: 19.6257\n",
      "  state_code        date  value\n",
      "0         AK  1905-01-01   16.0\n",
      "1         AK  1905-01-02   11.9\n",
      "2         AK  1905-01-03   27.9\n",
      "3         AK  1905-01-04   30.5\n",
      "4         AK  1905-01-05   19.1\n"
     ]
    },
    {
     "name": "stderr",
     "output_type": "stream",
     "text": [
      "/Users/sanilveeravu/opt/anaconda3/envs/mlenv/lib/python3.7/site-packages/sklearn/ensemble/_gb.py:290: FutureWarning: The loss 'ls' was deprecated in v1.0 and will be removed in version 1.2. Use 'squared_error' which is equivalent.\n",
      "  FutureWarning,\n"
     ]
    },
    {
     "name": "stdout",
     "output_type": "stream",
     "text": [
      "Model Accuracy: 0.016\n",
      "The mean squared error (MSE) on test set: 236.4504\n",
      "  state_code        date  value\n",
      "0         AK  1905-01-01  305.0\n",
      "1         AK  1905-01-02  102.0\n",
      "2         AK  1905-01-03  127.0\n",
      "3         AK  1905-01-04  267.0\n",
      "4         AK  1905-01-05  127.0\n"
     ]
    },
    {
     "name": "stderr",
     "output_type": "stream",
     "text": [
      "/Users/sanilveeravu/opt/anaconda3/envs/mlenv/lib/python3.7/site-packages/sklearn/ensemble/_gb.py:290: FutureWarning: The loss 'ls' was deprecated in v1.0 and will be removed in version 1.2. Use 'squared_error' which is equivalent.\n",
      "  FutureWarning,\n"
     ]
    },
    {
     "name": "stdout",
     "output_type": "stream",
     "text": [
      "Model Accuracy: 0.083\n",
      "The mean squared error (MSE) on test set: 994.4495\n",
      "Processing SC\n",
      "  state_code        date  value\n",
      "0         AK  1905-01-01    6.1\n",
      "1         AK  1905-01-02    7.2\n",
      "2         AK  1905-01-03    5.0\n",
      "3         AK  1905-01-04    5.6\n",
      "4         AK  1905-01-05    5.6\n"
     ]
    },
    {
     "name": "stderr",
     "output_type": "stream",
     "text": [
      "/Users/sanilveeravu/opt/anaconda3/envs/mlenv/lib/python3.7/site-packages/sklearn/ensemble/_gb.py:290: FutureWarning: The loss 'ls' was deprecated in v1.0 and will be removed in version 1.2. Use 'squared_error' which is equivalent.\n",
      "  FutureWarning,\n"
     ]
    },
    {
     "name": "stdout",
     "output_type": "stream",
     "text": [
      "Model Accuracy: 0.783\n",
      "The mean squared error (MSE) on test set: 10.1407\n",
      "  state_code        date  value\n",
      "0         AK  1905-01-01  -31.1\n",
      "1         AK  1905-01-02  -35.6\n",
      "2         AK  1905-01-03  -34.4\n",
      "3         AK  1905-01-04  -30.0\n",
      "4         AK  1905-01-05  -31.1\n"
     ]
    },
    {
     "name": "stderr",
     "output_type": "stream",
     "text": [
      "/Users/sanilveeravu/opt/anaconda3/envs/mlenv/lib/python3.7/site-packages/sklearn/ensemble/_gb.py:290: FutureWarning: The loss 'ls' was deprecated in v1.0 and will be removed in version 1.2. Use 'squared_error' which is equivalent.\n",
      "  FutureWarning,\n"
     ]
    },
    {
     "name": "stdout",
     "output_type": "stream",
     "text": [
      "Model Accuracy: 0.822\n",
      "The mean squared error (MSE) on test set: 13.6858\n",
      "  state_code        date  value\n",
      "0         AK  1905-01-01   16.0\n",
      "1         AK  1905-01-02   11.9\n",
      "2         AK  1905-01-03   27.9\n",
      "3         AK  1905-01-04   30.5\n",
      "4         AK  1905-01-05   19.1\n"
     ]
    },
    {
     "name": "stderr",
     "output_type": "stream",
     "text": [
      "/Users/sanilveeravu/opt/anaconda3/envs/mlenv/lib/python3.7/site-packages/sklearn/ensemble/_gb.py:290: FutureWarning: The loss 'ls' was deprecated in v1.0 and will be removed in version 1.2. Use 'squared_error' which is equivalent.\n",
      "  FutureWarning,\n"
     ]
    },
    {
     "name": "stdout",
     "output_type": "stream",
     "text": [
      "Model Accuracy: 0.144\n",
      "The mean squared error (MSE) on test set: 846.1943\n",
      "  state_code        date  value\n",
      "0         AK  1905-01-01  305.0\n",
      "1         AK  1905-01-02  102.0\n",
      "2         AK  1905-01-03  127.0\n",
      "3         AK  1905-01-04  267.0\n",
      "4         AK  1905-01-05  127.0\n"
     ]
    },
    {
     "name": "stderr",
     "output_type": "stream",
     "text": [
      "/Users/sanilveeravu/opt/anaconda3/envs/mlenv/lib/python3.7/site-packages/sklearn/ensemble/_gb.py:290: FutureWarning: The loss 'ls' was deprecated in v1.0 and will be removed in version 1.2. Use 'squared_error' which is equivalent.\n",
      "  FutureWarning,\n"
     ]
    },
    {
     "name": "stdout",
     "output_type": "stream",
     "text": [
      "Model Accuracy: 0.059\n",
      "The mean squared error (MSE) on test set: 268.9162\n",
      "Processing SD\n",
      "  state_code        date  value\n",
      "0         AK  1905-01-01    6.1\n",
      "1         AK  1905-01-02    7.2\n",
      "2         AK  1905-01-03    5.0\n",
      "3         AK  1905-01-04    5.6\n",
      "4         AK  1905-01-05    5.6\n"
     ]
    },
    {
     "name": "stderr",
     "output_type": "stream",
     "text": [
      "/Users/sanilveeravu/opt/anaconda3/envs/mlenv/lib/python3.7/site-packages/sklearn/ensemble/_gb.py:290: FutureWarning: The loss 'ls' was deprecated in v1.0 and will be removed in version 1.2. Use 'squared_error' which is equivalent.\n",
      "  FutureWarning,\n"
     ]
    },
    {
     "name": "stdout",
     "output_type": "stream",
     "text": [
      "Model Accuracy: 0.792\n",
      "The mean squared error (MSE) on test set: 28.3718\n",
      "  state_code        date  value\n",
      "0         AK  1905-01-01  -31.1\n",
      "1         AK  1905-01-02  -35.6\n",
      "2         AK  1905-01-03  -34.4\n",
      "3         AK  1905-01-04  -30.0\n",
      "4         AK  1905-01-05  -31.1\n"
     ]
    },
    {
     "name": "stderr",
     "output_type": "stream",
     "text": [
      "/Users/sanilveeravu/opt/anaconda3/envs/mlenv/lib/python3.7/site-packages/sklearn/ensemble/_gb.py:290: FutureWarning: The loss 'ls' was deprecated in v1.0 and will be removed in version 1.2. Use 'squared_error' which is equivalent.\n",
      "  FutureWarning,\n"
     ]
    },
    {
     "name": "stdout",
     "output_type": "stream",
     "text": [
      "Model Accuracy: 0.831\n",
      "The mean squared error (MSE) on test set: 24.1061\n",
      "  state_code        date  value\n",
      "0         AK  1905-01-01   16.0\n",
      "1         AK  1905-01-02   11.9\n",
      "2         AK  1905-01-03   27.9\n",
      "3         AK  1905-01-04   30.5\n",
      "4         AK  1905-01-05   19.1\n"
     ]
    },
    {
     "name": "stderr",
     "output_type": "stream",
     "text": [
      "/Users/sanilveeravu/opt/anaconda3/envs/mlenv/lib/python3.7/site-packages/sklearn/ensemble/_gb.py:290: FutureWarning: The loss 'ls' was deprecated in v1.0 and will be removed in version 1.2. Use 'squared_error' which is equivalent.\n",
      "  FutureWarning,\n"
     ]
    },
    {
     "name": "stdout",
     "output_type": "stream",
     "text": [
      "Model Accuracy: 0.246\n",
      "The mean squared error (MSE) on test set: 339.1435\n",
      "  state_code        date  value\n",
      "0         AK  1905-01-01  305.0\n",
      "1         AK  1905-01-02  102.0\n",
      "2         AK  1905-01-03  127.0\n",
      "3         AK  1905-01-04  267.0\n",
      "4         AK  1905-01-05  127.0\n"
     ]
    },
    {
     "name": "stderr",
     "output_type": "stream",
     "text": [
      "/Users/sanilveeravu/opt/anaconda3/envs/mlenv/lib/python3.7/site-packages/sklearn/ensemble/_gb.py:290: FutureWarning: The loss 'ls' was deprecated in v1.0 and will be removed in version 1.2. Use 'squared_error' which is equivalent.\n",
      "  FutureWarning,\n"
     ]
    },
    {
     "name": "stdout",
     "output_type": "stream",
     "text": [
      "Model Accuracy: 0.177\n",
      "The mean squared error (MSE) on test set: 4390.8411\n",
      "Processing TN\n",
      "  state_code        date  value\n",
      "0         AK  1905-01-01    6.1\n",
      "1         AK  1905-01-02    7.2\n",
      "2         AK  1905-01-03    5.0\n",
      "3         AK  1905-01-04    5.6\n",
      "4         AK  1905-01-05    5.6\n"
     ]
    },
    {
     "name": "stderr",
     "output_type": "stream",
     "text": [
      "/Users/sanilveeravu/opt/anaconda3/envs/mlenv/lib/python3.7/site-packages/sklearn/ensemble/_gb.py:290: FutureWarning: The loss 'ls' was deprecated in v1.0 and will be removed in version 1.2. Use 'squared_error' which is equivalent.\n",
      "  FutureWarning,\n"
     ]
    },
    {
     "name": "stdout",
     "output_type": "stream",
     "text": [
      "Model Accuracy: 0.807\n",
      "The mean squared error (MSE) on test set: 13.0595\n",
      "  state_code        date  value\n",
      "0         AK  1905-01-01  -31.1\n",
      "1         AK  1905-01-02  -35.6\n",
      "2         AK  1905-01-03  -34.4\n",
      "3         AK  1905-01-04  -30.0\n",
      "4         AK  1905-01-05  -31.1\n"
     ]
    },
    {
     "name": "stderr",
     "output_type": "stream",
     "text": [
      "/Users/sanilveeravu/opt/anaconda3/envs/mlenv/lib/python3.7/site-packages/sklearn/ensemble/_gb.py:290: FutureWarning: The loss 'ls' was deprecated in v1.0 and will be removed in version 1.2. Use 'squared_error' which is equivalent.\n",
      "  FutureWarning,\n"
     ]
    },
    {
     "name": "stdout",
     "output_type": "stream",
     "text": [
      "Model Accuracy: 0.799\n",
      "The mean squared error (MSE) on test set: 16.8609\n",
      "  state_code        date  value\n",
      "0         AK  1905-01-01   16.0\n",
      "1         AK  1905-01-02   11.9\n",
      "2         AK  1905-01-03   27.9\n",
      "3         AK  1905-01-04   30.5\n",
      "4         AK  1905-01-05   19.1\n"
     ]
    },
    {
     "name": "stderr",
     "output_type": "stream",
     "text": [
      "/Users/sanilveeravu/opt/anaconda3/envs/mlenv/lib/python3.7/site-packages/sklearn/ensemble/_gb.py:290: FutureWarning: The loss 'ls' was deprecated in v1.0 and will be removed in version 1.2. Use 'squared_error' which is equivalent.\n",
      "  FutureWarning,\n"
     ]
    },
    {
     "name": "stdout",
     "output_type": "stream",
     "text": [
      "Model Accuracy: 0.087\n",
      "The mean squared error (MSE) on test set: 801.8037\n",
      "  state_code        date  value\n",
      "0         AK  1905-01-01  305.0\n",
      "1         AK  1905-01-02  102.0\n",
      "2         AK  1905-01-03  127.0\n",
      "3         AK  1905-01-04  267.0\n",
      "4         AK  1905-01-05  127.0\n"
     ]
    },
    {
     "name": "stderr",
     "output_type": "stream",
     "text": [
      "/Users/sanilveeravu/opt/anaconda3/envs/mlenv/lib/python3.7/site-packages/sklearn/ensemble/_gb.py:290: FutureWarning: The loss 'ls' was deprecated in v1.0 and will be removed in version 1.2. Use 'squared_error' which is equivalent.\n",
      "  FutureWarning,\n"
     ]
    },
    {
     "name": "stdout",
     "output_type": "stream",
     "text": [
      "Model Accuracy: 0.100\n",
      "The mean squared error (MSE) on test set: 637.7709\n",
      "Processing TX\n",
      "  state_code        date  value\n",
      "0         AK  1905-01-01    6.1\n",
      "1         AK  1905-01-02    7.2\n",
      "2         AK  1905-01-03    5.0\n",
      "3         AK  1905-01-04    5.6\n",
      "4         AK  1905-01-05    5.6\n"
     ]
    },
    {
     "name": "stderr",
     "output_type": "stream",
     "text": [
      "/Users/sanilveeravu/opt/anaconda3/envs/mlenv/lib/python3.7/site-packages/sklearn/ensemble/_gb.py:290: FutureWarning: The loss 'ls' was deprecated in v1.0 and will be removed in version 1.2. Use 'squared_error' which is equivalent.\n",
      "  FutureWarning,\n"
     ]
    },
    {
     "name": "stdout",
     "output_type": "stream",
     "text": [
      "Model Accuracy: 0.788\n",
      "The mean squared error (MSE) on test set: 7.6854\n",
      "  state_code        date  value\n",
      "0         AK  1905-01-01  -31.1\n",
      "1         AK  1905-01-02  -35.6\n",
      "2         AK  1905-01-03  -34.4\n",
      "3         AK  1905-01-04  -30.0\n",
      "4         AK  1905-01-05  -31.1\n"
     ]
    },
    {
     "name": "stderr",
     "output_type": "stream",
     "text": [
      "/Users/sanilveeravu/opt/anaconda3/envs/mlenv/lib/python3.7/site-packages/sklearn/ensemble/_gb.py:290: FutureWarning: The loss 'ls' was deprecated in v1.0 and will be removed in version 1.2. Use 'squared_error' which is equivalent.\n",
      "  FutureWarning,\n"
     ]
    },
    {
     "name": "stdout",
     "output_type": "stream",
     "text": [
      "Model Accuracy: 0.877\n",
      "The mean squared error (MSE) on test set: 11.2025\n",
      "  state_code        date  value\n",
      "0         AK  1905-01-01   16.0\n",
      "1         AK  1905-01-02   11.9\n",
      "2         AK  1905-01-03   27.9\n",
      "3         AK  1905-01-04   30.5\n",
      "4         AK  1905-01-05   19.1\n"
     ]
    },
    {
     "name": "stderr",
     "output_type": "stream",
     "text": [
      "/Users/sanilveeravu/opt/anaconda3/envs/mlenv/lib/python3.7/site-packages/sklearn/ensemble/_gb.py:290: FutureWarning: The loss 'ls' was deprecated in v1.0 and will be removed in version 1.2. Use 'squared_error' which is equivalent.\n",
      "  FutureWarning,\n"
     ]
    },
    {
     "name": "stdout",
     "output_type": "stream",
     "text": [
      "Model Accuracy: 0.156\n",
      "The mean squared error (MSE) on test set: 2114.9618\n",
      "  state_code        date  value\n",
      "0         AK  1905-01-01  305.0\n",
      "1         AK  1905-01-02  102.0\n",
      "2         AK  1905-01-03  127.0\n",
      "3         AK  1905-01-04  267.0\n",
      "4         AK  1905-01-05  127.0\n"
     ]
    },
    {
     "name": "stderr",
     "output_type": "stream",
     "text": [
      "/Users/sanilveeravu/opt/anaconda3/envs/mlenv/lib/python3.7/site-packages/sklearn/ensemble/_gb.py:290: FutureWarning: The loss 'ls' was deprecated in v1.0 and will be removed in version 1.2. Use 'squared_error' which is equivalent.\n",
      "  FutureWarning,\n"
     ]
    },
    {
     "name": "stdout",
     "output_type": "stream",
     "text": [
      "Model Accuracy: 0.140\n",
      "The mean squared error (MSE) on test set: 1026.7446\n",
      "Processing UT\n",
      "  state_code        date  value\n",
      "0         AK  1905-01-01    6.1\n",
      "1         AK  1905-01-02    7.2\n",
      "2         AK  1905-01-03    5.0\n",
      "3         AK  1905-01-04    5.6\n",
      "4         AK  1905-01-05    5.6\n"
     ]
    },
    {
     "name": "stderr",
     "output_type": "stream",
     "text": [
      "/Users/sanilveeravu/opt/anaconda3/envs/mlenv/lib/python3.7/site-packages/sklearn/ensemble/_gb.py:290: FutureWarning: The loss 'ls' was deprecated in v1.0 and will be removed in version 1.2. Use 'squared_error' which is equivalent.\n",
      "  FutureWarning,\n"
     ]
    },
    {
     "name": "stdout",
     "output_type": "stream",
     "text": [
      "Model Accuracy: 0.891\n",
      "The mean squared error (MSE) on test set: 10.6381\n",
      "  state_code        date  value\n",
      "0         AK  1905-01-01  -31.1\n",
      "1         AK  1905-01-02  -35.6\n",
      "2         AK  1905-01-03  -34.4\n",
      "3         AK  1905-01-04  -30.0\n",
      "4         AK  1905-01-05  -31.1\n"
     ]
    },
    {
     "name": "stderr",
     "output_type": "stream",
     "text": [
      "/Users/sanilveeravu/opt/anaconda3/envs/mlenv/lib/python3.7/site-packages/sklearn/ensemble/_gb.py:290: FutureWarning: The loss 'ls' was deprecated in v1.0 and will be removed in version 1.2. Use 'squared_error' which is equivalent.\n",
      "  FutureWarning,\n"
     ]
    },
    {
     "name": "stdout",
     "output_type": "stream",
     "text": [
      "Model Accuracy: 0.828\n",
      "The mean squared error (MSE) on test set: 17.1795\n",
      "  state_code        date  value\n",
      "0         AK  1905-01-01   16.0\n",
      "1         AK  1905-01-02   11.9\n",
      "2         AK  1905-01-03   27.9\n",
      "3         AK  1905-01-04   30.5\n",
      "4         AK  1905-01-05   19.1\n"
     ]
    },
    {
     "name": "stderr",
     "output_type": "stream",
     "text": [
      "/Users/sanilveeravu/opt/anaconda3/envs/mlenv/lib/python3.7/site-packages/sklearn/ensemble/_gb.py:290: FutureWarning: The loss 'ls' was deprecated in v1.0 and will be removed in version 1.2. Use 'squared_error' which is equivalent.\n",
      "  FutureWarning,\n"
     ]
    },
    {
     "name": "stdout",
     "output_type": "stream",
     "text": [
      "Model Accuracy: 0.124\n",
      "The mean squared error (MSE) on test set: 230.9730\n",
      "  state_code        date  value\n",
      "0         AK  1905-01-01  305.0\n",
      "1         AK  1905-01-02  102.0\n",
      "2         AK  1905-01-03  127.0\n",
      "3         AK  1905-01-04  267.0\n",
      "4         AK  1905-01-05  127.0\n"
     ]
    },
    {
     "name": "stderr",
     "output_type": "stream",
     "text": [
      "/Users/sanilveeravu/opt/anaconda3/envs/mlenv/lib/python3.7/site-packages/sklearn/ensemble/_gb.py:290: FutureWarning: The loss 'ls' was deprecated in v1.0 and will be removed in version 1.2. Use 'squared_error' which is equivalent.\n",
      "  FutureWarning,\n"
     ]
    },
    {
     "name": "stdout",
     "output_type": "stream",
     "text": [
      "Model Accuracy: 0.241\n",
      "The mean squared error (MSE) on test set: 8638.4132\n",
      "Processing VT\n",
      "  state_code        date  value\n",
      "0         AK  1905-01-01    6.1\n",
      "1         AK  1905-01-02    7.2\n",
      "2         AK  1905-01-03    5.0\n",
      "3         AK  1905-01-04    5.6\n",
      "4         AK  1905-01-05    5.6\n"
     ]
    },
    {
     "name": "stderr",
     "output_type": "stream",
     "text": [
      "/Users/sanilveeravu/opt/anaconda3/envs/mlenv/lib/python3.7/site-packages/sklearn/ensemble/_gb.py:290: FutureWarning: The loss 'ls' was deprecated in v1.0 and will be removed in version 1.2. Use 'squared_error' which is equivalent.\n",
      "  FutureWarning,\n"
     ]
    },
    {
     "name": "stdout",
     "output_type": "stream",
     "text": [
      "Model Accuracy: 0.841\n",
      "The mean squared error (MSE) on test set: 19.2783\n",
      "  state_code        date  value\n",
      "0         AK  1905-01-01  -31.1\n",
      "1         AK  1905-01-02  -35.6\n",
      "2         AK  1905-01-03  -34.4\n",
      "3         AK  1905-01-04  -30.0\n",
      "4         AK  1905-01-05  -31.1\n"
     ]
    },
    {
     "name": "stderr",
     "output_type": "stream",
     "text": [
      "/Users/sanilveeravu/opt/anaconda3/envs/mlenv/lib/python3.7/site-packages/sklearn/ensemble/_gb.py:290: FutureWarning: The loss 'ls' was deprecated in v1.0 and will be removed in version 1.2. Use 'squared_error' which is equivalent.\n",
      "  FutureWarning,\n"
     ]
    },
    {
     "name": "stdout",
     "output_type": "stream",
     "text": [
      "Model Accuracy: 0.808\n",
      "The mean squared error (MSE) on test set: 26.6300\n",
      "  state_code        date  value\n",
      "0         AK  1905-01-01   16.0\n",
      "1         AK  1905-01-02   11.9\n",
      "2         AK  1905-01-03   27.9\n",
      "3         AK  1905-01-04   30.5\n",
      "4         AK  1905-01-05   19.1\n"
     ]
    },
    {
     "name": "stderr",
     "output_type": "stream",
     "text": [
      "/Users/sanilveeravu/opt/anaconda3/envs/mlenv/lib/python3.7/site-packages/sklearn/ensemble/_gb.py:290: FutureWarning: The loss 'ls' was deprecated in v1.0 and will be removed in version 1.2. Use 'squared_error' which is equivalent.\n",
      "  FutureWarning,\n"
     ]
    },
    {
     "name": "stdout",
     "output_type": "stream",
     "text": [
      "Model Accuracy: 0.076\n",
      "The mean squared error (MSE) on test set: 243.0854\n",
      "  state_code        date  value\n",
      "0         AK  1905-01-01  305.0\n",
      "1         AK  1905-01-02  102.0\n",
      "2         AK  1905-01-03  127.0\n",
      "3         AK  1905-01-04  267.0\n",
      "4         AK  1905-01-05  127.0\n"
     ]
    },
    {
     "name": "stderr",
     "output_type": "stream",
     "text": [
      "/Users/sanilveeravu/opt/anaconda3/envs/mlenv/lib/python3.7/site-packages/sklearn/ensemble/_gb.py:290: FutureWarning: The loss 'ls' was deprecated in v1.0 and will be removed in version 1.2. Use 'squared_error' which is equivalent.\n",
      "  FutureWarning,\n"
     ]
    },
    {
     "name": "stdout",
     "output_type": "stream",
     "text": [
      "Model Accuracy: 0.229\n",
      "The mean squared error (MSE) on test set: 3544.1735\n",
      "Processing VA\n",
      "  state_code        date  value\n",
      "0         AK  1905-01-01    6.1\n",
      "1         AK  1905-01-02    7.2\n",
      "2         AK  1905-01-03    5.0\n",
      "3         AK  1905-01-04    5.6\n",
      "4         AK  1905-01-05    5.6\n"
     ]
    },
    {
     "name": "stderr",
     "output_type": "stream",
     "text": [
      "/Users/sanilveeravu/opt/anaconda3/envs/mlenv/lib/python3.7/site-packages/sklearn/ensemble/_gb.py:290: FutureWarning: The loss 'ls' was deprecated in v1.0 and will be removed in version 1.2. Use 'squared_error' which is equivalent.\n",
      "  FutureWarning,\n"
     ]
    },
    {
     "name": "stdout",
     "output_type": "stream",
     "text": [
      "Model Accuracy: 0.787\n",
      "The mean squared error (MSE) on test set: 14.2168\n",
      "  state_code        date  value\n",
      "0         AK  1905-01-01  -31.1\n",
      "1         AK  1905-01-02  -35.6\n",
      "2         AK  1905-01-03  -34.4\n",
      "3         AK  1905-01-04  -30.0\n",
      "4         AK  1905-01-05  -31.1\n"
     ]
    },
    {
     "name": "stderr",
     "output_type": "stream",
     "text": [
      "/Users/sanilveeravu/opt/anaconda3/envs/mlenv/lib/python3.7/site-packages/sklearn/ensemble/_gb.py:290: FutureWarning: The loss 'ls' was deprecated in v1.0 and will be removed in version 1.2. Use 'squared_error' which is equivalent.\n",
      "  FutureWarning,\n"
     ]
    },
    {
     "name": "stdout",
     "output_type": "stream",
     "text": [
      "Model Accuracy: 0.806\n",
      "The mean squared error (MSE) on test set: 15.7270\n",
      "  state_code        date  value\n",
      "0         AK  1905-01-01   16.0\n",
      "1         AK  1905-01-02   11.9\n",
      "2         AK  1905-01-03   27.9\n",
      "3         AK  1905-01-04   30.5\n",
      "4         AK  1905-01-05   19.1\n"
     ]
    },
    {
     "name": "stderr",
     "output_type": "stream",
     "text": [
      "/Users/sanilveeravu/opt/anaconda3/envs/mlenv/lib/python3.7/site-packages/sklearn/ensemble/_gb.py:290: FutureWarning: The loss 'ls' was deprecated in v1.0 and will be removed in version 1.2. Use 'squared_error' which is equivalent.\n",
      "  FutureWarning,\n"
     ]
    },
    {
     "name": "stdout",
     "output_type": "stream",
     "text": [
      "Model Accuracy: 0.105\n",
      "The mean squared error (MSE) on test set: 683.1667\n",
      "  state_code        date  value\n",
      "0         AK  1905-01-01  305.0\n",
      "1         AK  1905-01-02  102.0\n",
      "2         AK  1905-01-03  127.0\n",
      "3         AK  1905-01-04  267.0\n",
      "4         AK  1905-01-05  127.0\n"
     ]
    },
    {
     "name": "stderr",
     "output_type": "stream",
     "text": [
      "/Users/sanilveeravu/opt/anaconda3/envs/mlenv/lib/python3.7/site-packages/sklearn/ensemble/_gb.py:290: FutureWarning: The loss 'ls' was deprecated in v1.0 and will be removed in version 1.2. Use 'squared_error' which is equivalent.\n",
      "  FutureWarning,\n"
     ]
    },
    {
     "name": "stdout",
     "output_type": "stream",
     "text": [
      "Model Accuracy: 0.178\n",
      "The mean squared error (MSE) on test set: 1608.9069\n",
      "Processing WA\n",
      "  state_code        date  value\n",
      "0         AK  1905-01-01    6.1\n",
      "1         AK  1905-01-02    7.2\n",
      "2         AK  1905-01-03    5.0\n",
      "3         AK  1905-01-04    5.6\n",
      "4         AK  1905-01-05    5.6\n"
     ]
    },
    {
     "name": "stderr",
     "output_type": "stream",
     "text": [
      "/Users/sanilveeravu/opt/anaconda3/envs/mlenv/lib/python3.7/site-packages/sklearn/ensemble/_gb.py:290: FutureWarning: The loss 'ls' was deprecated in v1.0 and will be removed in version 1.2. Use 'squared_error' which is equivalent.\n",
      "  FutureWarning,\n"
     ]
    },
    {
     "name": "stdout",
     "output_type": "stream",
     "text": [
      "Model Accuracy: 0.860\n",
      "The mean squared error (MSE) on test set: 12.1181\n",
      "  state_code        date  value\n",
      "0         AK  1905-01-01  -31.1\n",
      "1         AK  1905-01-02  -35.6\n",
      "2         AK  1905-01-03  -34.4\n",
      "3         AK  1905-01-04  -30.0\n",
      "4         AK  1905-01-05  -31.1\n"
     ]
    },
    {
     "name": "stderr",
     "output_type": "stream",
     "text": [
      "/Users/sanilveeravu/opt/anaconda3/envs/mlenv/lib/python3.7/site-packages/sklearn/ensemble/_gb.py:290: FutureWarning: The loss 'ls' was deprecated in v1.0 and will be removed in version 1.2. Use 'squared_error' which is equivalent.\n",
      "  FutureWarning,\n"
     ]
    },
    {
     "name": "stdout",
     "output_type": "stream",
     "text": [
      "Model Accuracy: 0.745\n",
      "The mean squared error (MSE) on test set: 15.1207\n",
      "  state_code        date  value\n",
      "0         AK  1905-01-01   16.0\n",
      "1         AK  1905-01-02   11.9\n",
      "2         AK  1905-01-03   27.9\n",
      "3         AK  1905-01-04   30.5\n",
      "4         AK  1905-01-05   19.1\n"
     ]
    },
    {
     "name": "stderr",
     "output_type": "stream",
     "text": [
      "/Users/sanilveeravu/opt/anaconda3/envs/mlenv/lib/python3.7/site-packages/sklearn/ensemble/_gb.py:290: FutureWarning: The loss 'ls' was deprecated in v1.0 and will be removed in version 1.2. Use 'squared_error' which is equivalent.\n",
      "  FutureWarning,\n"
     ]
    },
    {
     "name": "stdout",
     "output_type": "stream",
     "text": [
      "Model Accuracy: 0.202\n",
      "The mean squared error (MSE) on test set: 673.5491\n",
      "  state_code        date  value\n",
      "0         AK  1905-01-01  305.0\n",
      "1         AK  1905-01-02  102.0\n",
      "2         AK  1905-01-03  127.0\n",
      "3         AK  1905-01-04  267.0\n",
      "4         AK  1905-01-05  127.0\n"
     ]
    },
    {
     "name": "stderr",
     "output_type": "stream",
     "text": [
      "/Users/sanilveeravu/opt/anaconda3/envs/mlenv/lib/python3.7/site-packages/sklearn/ensemble/_gb.py:290: FutureWarning: The loss 'ls' was deprecated in v1.0 and will be removed in version 1.2. Use 'squared_error' which is equivalent.\n",
      "  FutureWarning,\n"
     ]
    },
    {
     "name": "stdout",
     "output_type": "stream",
     "text": [
      "Model Accuracy: 0.339\n",
      "The mean squared error (MSE) on test set: 10243.5350\n",
      "Processing WV\n",
      "  state_code        date  value\n",
      "0         AK  1905-01-01    6.1\n",
      "1         AK  1905-01-02    7.2\n",
      "2         AK  1905-01-03    5.0\n",
      "3         AK  1905-01-04    5.6\n",
      "4         AK  1905-01-05    5.6\n"
     ]
    },
    {
     "name": "stderr",
     "output_type": "stream",
     "text": [
      "/Users/sanilveeravu/opt/anaconda3/envs/mlenv/lib/python3.7/site-packages/sklearn/ensemble/_gb.py:290: FutureWarning: The loss 'ls' was deprecated in v1.0 and will be removed in version 1.2. Use 'squared_error' which is equivalent.\n",
      "  FutureWarning,\n"
     ]
    },
    {
     "name": "stdout",
     "output_type": "stream",
     "text": [
      "Model Accuracy: 0.780\n",
      "The mean squared error (MSE) on test set: 17.9710\n",
      "  state_code        date  value\n",
      "0         AK  1905-01-01  -31.1\n",
      "1         AK  1905-01-02  -35.6\n",
      "2         AK  1905-01-03  -34.4\n",
      "3         AK  1905-01-04  -30.0\n",
      "4         AK  1905-01-05  -31.1\n"
     ]
    },
    {
     "name": "stderr",
     "output_type": "stream",
     "text": [
      "/Users/sanilveeravu/opt/anaconda3/envs/mlenv/lib/python3.7/site-packages/sklearn/ensemble/_gb.py:290: FutureWarning: The loss 'ls' was deprecated in v1.0 and will be removed in version 1.2. Use 'squared_error' which is equivalent.\n",
      "  FutureWarning,\n"
     ]
    },
    {
     "name": "stdout",
     "output_type": "stream",
     "text": [
      "Model Accuracy: 0.785\n",
      "The mean squared error (MSE) on test set: 18.8692\n",
      "  state_code        date  value\n",
      "0         AK  1905-01-01   16.0\n",
      "1         AK  1905-01-02   11.9\n",
      "2         AK  1905-01-03   27.9\n",
      "3         AK  1905-01-04   30.5\n",
      "4         AK  1905-01-05   19.1\n"
     ]
    },
    {
     "name": "stderr",
     "output_type": "stream",
     "text": [
      "/Users/sanilveeravu/opt/anaconda3/envs/mlenv/lib/python3.7/site-packages/sklearn/ensemble/_gb.py:290: FutureWarning: The loss 'ls' was deprecated in v1.0 and will be removed in version 1.2. Use 'squared_error' which is equivalent.\n",
      "  FutureWarning,\n"
     ]
    },
    {
     "name": "stdout",
     "output_type": "stream",
     "text": [
      "Model Accuracy: 0.095\n",
      "The mean squared error (MSE) on test set: 388.9521\n",
      "  state_code        date  value\n",
      "0         AK  1905-01-01  305.0\n",
      "1         AK  1905-01-02  102.0\n",
      "2         AK  1905-01-03  127.0\n",
      "3         AK  1905-01-04  267.0\n",
      "4         AK  1905-01-05  127.0\n"
     ]
    },
    {
     "name": "stderr",
     "output_type": "stream",
     "text": [
      "/Users/sanilveeravu/opt/anaconda3/envs/mlenv/lib/python3.7/site-packages/sklearn/ensemble/_gb.py:290: FutureWarning: The loss 'ls' was deprecated in v1.0 and will be removed in version 1.2. Use 'squared_error' which is equivalent.\n",
      "  FutureWarning,\n"
     ]
    },
    {
     "name": "stdout",
     "output_type": "stream",
     "text": [
      "Model Accuracy: 0.208\n",
      "The mean squared error (MSE) on test set: 3678.6956\n",
      "Processing WI\n",
      "  state_code        date  value\n",
      "0         AK  1905-01-01    6.1\n",
      "1         AK  1905-01-02    7.2\n",
      "2         AK  1905-01-03    5.0\n",
      "3         AK  1905-01-04    5.6\n",
      "4         AK  1905-01-05    5.6\n"
     ]
    },
    {
     "name": "stderr",
     "output_type": "stream",
     "text": [
      "/Users/sanilveeravu/opt/anaconda3/envs/mlenv/lib/python3.7/site-packages/sklearn/ensemble/_gb.py:290: FutureWarning: The loss 'ls' was deprecated in v1.0 and will be removed in version 1.2. Use 'squared_error' which is equivalent.\n",
      "  FutureWarning,\n"
     ]
    },
    {
     "name": "stdout",
     "output_type": "stream",
     "text": [
      "Model Accuracy: 0.856\n",
      "The mean squared error (MSE) on test set: 20.0724\n",
      "  state_code        date  value\n",
      "0         AK  1905-01-01  -31.1\n",
      "1         AK  1905-01-02  -35.6\n",
      "2         AK  1905-01-03  -34.4\n",
      "3         AK  1905-01-04  -30.0\n",
      "4         AK  1905-01-05  -31.1\n"
     ]
    },
    {
     "name": "stderr",
     "output_type": "stream",
     "text": [
      "/Users/sanilveeravu/opt/anaconda3/envs/mlenv/lib/python3.7/site-packages/sklearn/ensemble/_gb.py:290: FutureWarning: The loss 'ls' was deprecated in v1.0 and will be removed in version 1.2. Use 'squared_error' which is equivalent.\n",
      "  FutureWarning,\n"
     ]
    },
    {
     "name": "stdout",
     "output_type": "stream",
     "text": [
      "Model Accuracy: 0.829\n",
      "The mean squared error (MSE) on test set: 26.7909\n",
      "  state_code        date  value\n",
      "0         AK  1905-01-01   16.0\n",
      "1         AK  1905-01-02   11.9\n",
      "2         AK  1905-01-03   27.9\n",
      "3         AK  1905-01-04   30.5\n",
      "4         AK  1905-01-05   19.1\n"
     ]
    },
    {
     "name": "stderr",
     "output_type": "stream",
     "text": [
      "/Users/sanilveeravu/opt/anaconda3/envs/mlenv/lib/python3.7/site-packages/sklearn/ensemble/_gb.py:290: FutureWarning: The loss 'ls' was deprecated in v1.0 and will be removed in version 1.2. Use 'squared_error' which is equivalent.\n",
      "  FutureWarning,\n"
     ]
    },
    {
     "name": "stdout",
     "output_type": "stream",
     "text": [
      "Model Accuracy: 0.189\n",
      "The mean squared error (MSE) on test set: 454.3948\n",
      "  state_code        date  value\n",
      "0         AK  1905-01-01  305.0\n",
      "1         AK  1905-01-02  102.0\n",
      "2         AK  1905-01-03  127.0\n",
      "3         AK  1905-01-04  267.0\n",
      "4         AK  1905-01-05  127.0\n"
     ]
    },
    {
     "name": "stderr",
     "output_type": "stream",
     "text": [
      "/Users/sanilveeravu/opt/anaconda3/envs/mlenv/lib/python3.7/site-packages/sklearn/ensemble/_gb.py:290: FutureWarning: The loss 'ls' was deprecated in v1.0 and will be removed in version 1.2. Use 'squared_error' which is equivalent.\n",
      "  FutureWarning,\n"
     ]
    },
    {
     "name": "stdout",
     "output_type": "stream",
     "text": [
      "Model Accuracy: 0.291\n",
      "The mean squared error (MSE) on test set: 2957.6301\n",
      "Processing WY\n",
      "  state_code        date  value\n",
      "0         AK  1905-01-01    6.1\n",
      "1         AK  1905-01-02    7.2\n",
      "2         AK  1905-01-03    5.0\n",
      "3         AK  1905-01-04    5.6\n",
      "4         AK  1905-01-05    5.6\n"
     ]
    },
    {
     "name": "stderr",
     "output_type": "stream",
     "text": [
      "/Users/sanilveeravu/opt/anaconda3/envs/mlenv/lib/python3.7/site-packages/sklearn/ensemble/_gb.py:290: FutureWarning: The loss 'ls' was deprecated in v1.0 and will be removed in version 1.2. Use 'squared_error' which is equivalent.\n",
      "  FutureWarning,\n"
     ]
    },
    {
     "name": "stdout",
     "output_type": "stream",
     "text": [
      "Model Accuracy: 0.826\n",
      "The mean squared error (MSE) on test set: 18.2424\n",
      "  state_code        date  value\n",
      "0         AK  1905-01-01  -31.1\n",
      "1         AK  1905-01-02  -35.6\n",
      "2         AK  1905-01-03  -34.4\n",
      "3         AK  1905-01-04  -30.0\n",
      "4         AK  1905-01-05  -31.1\n"
     ]
    },
    {
     "name": "stderr",
     "output_type": "stream",
     "text": [
      "/Users/sanilveeravu/opt/anaconda3/envs/mlenv/lib/python3.7/site-packages/sklearn/ensemble/_gb.py:290: FutureWarning: The loss 'ls' was deprecated in v1.0 and will be removed in version 1.2. Use 'squared_error' which is equivalent.\n",
      "  FutureWarning,\n"
     ]
    },
    {
     "name": "stdout",
     "output_type": "stream",
     "text": [
      "Model Accuracy: 0.816\n",
      "The mean squared error (MSE) on test set: 22.1419\n",
      "  state_code        date  value\n",
      "0         AK  1905-01-01   16.0\n",
      "1         AK  1905-01-02   11.9\n",
      "2         AK  1905-01-03   27.9\n",
      "3         AK  1905-01-04   30.5\n",
      "4         AK  1905-01-05   19.1\n"
     ]
    },
    {
     "name": "stderr",
     "output_type": "stream",
     "text": [
      "/Users/sanilveeravu/opt/anaconda3/envs/mlenv/lib/python3.7/site-packages/sklearn/ensemble/_gb.py:290: FutureWarning: The loss 'ls' was deprecated in v1.0 and will be removed in version 1.2. Use 'squared_error' which is equivalent.\n",
      "  FutureWarning,\n"
     ]
    },
    {
     "name": "stdout",
     "output_type": "stream",
     "text": [
      "Model Accuracy: 0.140\n",
      "The mean squared error (MSE) on test set: 165.1206\n",
      "  state_code        date  value\n",
      "0         AK  1905-01-01  305.0\n",
      "1         AK  1905-01-02  102.0\n",
      "2         AK  1905-01-03  127.0\n",
      "3         AK  1905-01-04  267.0\n",
      "4         AK  1905-01-05  127.0\n"
     ]
    },
    {
     "name": "stderr",
     "output_type": "stream",
     "text": [
      "/Users/sanilveeravu/opt/anaconda3/envs/mlenv/lib/python3.7/site-packages/sklearn/ensemble/_gb.py:290: FutureWarning: The loss 'ls' was deprecated in v1.0 and will be removed in version 1.2. Use 'squared_error' which is equivalent.\n",
      "  FutureWarning,\n"
     ]
    },
    {
     "name": "stdout",
     "output_type": "stream",
     "text": [
      "Model Accuracy: 0.256\n",
      "The mean squared error (MSE) on test set: 7008.7414\n"
     ]
    }
   ],
   "source": [
    "tmax_df = pd.read_csv('../../data/cleaned_data/tmaxdata.csv',names=[\"state_code\", \"date\", \"value\"])\n",
    "tmin_df = pd.read_csv('../../data/cleaned_data/tmindata.csv',names=[\"state_code\", \"date\", \"value\"])\n",
    "prcp_df = pd.read_csv('../../data/cleaned_data/prcpdata.csv',names=[\"state_code\", \"date\", \"value\"])\n",
    "snow_df = pd.read_csv('../../data/cleaned_data/snowdata.csv',names=[\"state_code\", \"date\", \"value\"])\n",
    "\n",
    "for index, row in states_df.iterrows():\n",
    "    state_code = row[\"state_code\"]\n",
    "    print(f\"Processing {state_code}\")\n",
    "    buildModel(tmax_df,state_code,\"TMAX\")\n",
    "    buildModel(tmin_df,state_code,\"TMIN\")\n",
    "    buildModel(prcp_df,state_code,\"PRCP\")\n",
    "    buildModel(snow_df,state_code,\"SNOW\")\n",
    "    \n"
   ]
  },
  {
   "cell_type": "code",
   "execution_count": null,
   "id": "509799ab",
   "metadata": {},
   "outputs": [],
   "source": []
  }
 ],
 "metadata": {
  "kernelspec": {
   "display_name": "mlenv",
   "language": "python",
   "name": "mlenv"
  },
  "language_info": {
   "codemirror_mode": {
    "name": "ipython",
    "version": 3
   },
   "file_extension": ".py",
   "mimetype": "text/x-python",
   "name": "python",
   "nbconvert_exporter": "python",
   "pygments_lexer": "ipython3",
   "version": "3.7.13"
  }
 },
 "nbformat": 4,
 "nbformat_minor": 5
}
