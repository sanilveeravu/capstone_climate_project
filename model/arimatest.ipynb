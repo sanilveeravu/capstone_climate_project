{
 "cells": [
  {
   "cell_type": "code",
   "execution_count": 18,
   "id": "743f7787",
   "metadata": {},
   "outputs": [],
   "source": [
    "#/Users/sanilveeravu/Documents/DataVisualizationCourse/gitlab/projectrepo/capstone_climate_project/data/cleaned_data/test/mntmaxdata.csv"
   ]
  },
  {
   "cell_type": "code",
   "execution_count": 35,
   "id": "a967e3de",
   "metadata": {},
   "outputs": [
    {
     "name": "stdout",
     "output_type": "stream",
     "text": [
      "Shape of data (2088316, 3)\n"
     ]
    },
    {
     "data": {
      "text/html": [
       "<div>\n",
       "<style scoped>\n",
       "    .dataframe tbody tr th:only-of-type {\n",
       "        vertical-align: middle;\n",
       "    }\n",
       "\n",
       "    .dataframe tbody tr th {\n",
       "        vertical-align: top;\n",
       "    }\n",
       "\n",
       "    .dataframe thead th {\n",
       "        text-align: right;\n",
       "    }\n",
       "</style>\n",
       "<table border=\"1\" class=\"dataframe\">\n",
       "  <thead>\n",
       "    <tr style=\"text-align: right;\">\n",
       "      <th></th>\n",
       "      <th>state_code</th>\n",
       "      <th>metric</th>\n",
       "      <th>value</th>\n",
       "    </tr>\n",
       "    <tr>\n",
       "      <th>date</th>\n",
       "      <th></th>\n",
       "      <th></th>\n",
       "      <th></th>\n",
       "    </tr>\n",
       "  </thead>\n",
       "  <tbody>\n",
       "    <tr>\n",
       "      <th>1905-01-01</th>\n",
       "      <td>MN</td>\n",
       "      <td>TMAX</td>\n",
       "      <td>10.0</td>\n",
       "    </tr>\n",
       "    <tr>\n",
       "      <th>1905-01-02</th>\n",
       "      <td>MN</td>\n",
       "      <td>TMAX</td>\n",
       "      <td>10.0</td>\n",
       "    </tr>\n",
       "    <tr>\n",
       "      <th>1905-01-03</th>\n",
       "      <td>MN</td>\n",
       "      <td>TMAX</td>\n",
       "      <td>7.2</td>\n",
       "    </tr>\n",
       "    <tr>\n",
       "      <th>1905-01-04</th>\n",
       "      <td>MN</td>\n",
       "      <td>TMAX</td>\n",
       "      <td>5.0</td>\n",
       "    </tr>\n",
       "    <tr>\n",
       "      <th>1905-01-05</th>\n",
       "      <td>MN</td>\n",
       "      <td>TMAX</td>\n",
       "      <td>1.1</td>\n",
       "    </tr>\n",
       "    <tr>\n",
       "      <th>...</th>\n",
       "      <td>...</td>\n",
       "      <td>...</td>\n",
       "      <td>...</td>\n",
       "    </tr>\n",
       "    <tr>\n",
       "      <th>2018-12-27</th>\n",
       "      <td>MN</td>\n",
       "      <td>TMAX</td>\n",
       "      <td>4.4</td>\n",
       "    </tr>\n",
       "    <tr>\n",
       "      <th>2018-12-28</th>\n",
       "      <td>MN</td>\n",
       "      <td>TMAX</td>\n",
       "      <td>7.8</td>\n",
       "    </tr>\n",
       "    <tr>\n",
       "      <th>2018-12-29</th>\n",
       "      <td>MN</td>\n",
       "      <td>TMAX</td>\n",
       "      <td>7.2</td>\n",
       "    </tr>\n",
       "    <tr>\n",
       "      <th>2018-12-30</th>\n",
       "      <td>MN</td>\n",
       "      <td>TMAX</td>\n",
       "      <td>1.7</td>\n",
       "    </tr>\n",
       "    <tr>\n",
       "      <th>2018-12-31</th>\n",
       "      <td>MN</td>\n",
       "      <td>TMAX</td>\n",
       "      <td>2.2</td>\n",
       "    </tr>\n",
       "  </tbody>\n",
       "</table>\n",
       "<p>41638 rows × 3 columns</p>\n",
       "</div>"
      ],
      "text/plain": [
       "           state_code metric  value\n",
       "date                               \n",
       "1905-01-01         MN   TMAX   10.0\n",
       "1905-01-02         MN   TMAX   10.0\n",
       "1905-01-03         MN   TMAX    7.2\n",
       "1905-01-04         MN   TMAX    5.0\n",
       "1905-01-05         MN   TMAX    1.1\n",
       "...               ...    ...    ...\n",
       "2018-12-27         MN   TMAX    4.4\n",
       "2018-12-28         MN   TMAX    7.8\n",
       "2018-12-29         MN   TMAX    7.2\n",
       "2018-12-30         MN   TMAX    1.7\n",
       "2018-12-31         MN   TMAX    2.2\n",
       "\n",
       "[41638 rows x 3 columns]"
      ]
     },
     "execution_count": 35,
     "metadata": {},
     "output_type": "execute_result"
    }
   ],
   "source": [
    "import pandas as pd\n",
    "df=pd.read_csv('../data/cleaned_data/tmaxdata.csv',names=[\"state_code\", \"date\", \"value\"],index_col='date',parse_dates=True)\n",
    "print('Shape of data',df.shape)\n",
    "df = df[df['state_code']=='MN']\n",
    "df"
   ]
  },
  {
   "cell_type": "code",
   "execution_count": 36,
   "id": "c8c98279",
   "metadata": {},
   "outputs": [
    {
     "name": "stdout",
     "output_type": "stream",
     "text": [
      "<class 'pandas.core.frame.DataFrame'>\n",
      "DatetimeIndex: 41638 entries, 1905-01-01 to 2018-12-31\n",
      "Data columns (total 3 columns):\n",
      " #   Column      Non-Null Count  Dtype  \n",
      "---  ------      --------------  -----  \n",
      " 0   state_code  41638 non-null  object \n",
      " 1   metric      41638 non-null  object \n",
      " 2   value       41638 non-null  float64\n",
      "dtypes: float64(1), object(2)\n",
      "memory usage: 1.3+ MB\n"
     ]
    }
   ],
   "source": [
    "df.info()"
   ]
  },
  {
   "cell_type": "code",
   "execution_count": 37,
   "id": "74115a94",
   "metadata": {},
   "outputs": [
    {
     "data": {
      "text/plain": [
       "<AxesSubplot:xlabel='date'>"
      ]
     },
     "execution_count": 37,
     "metadata": {},
     "output_type": "execute_result"
    },
    {
     "data": {
      "image/png": "[encoded data removed]",
      "text/plain": [
       "<Figure size 864x360 with 1 Axes>"
      ]
     },
     "metadata": {
      "needs_background": "light"
     },
     "output_type": "display_data"
    }
   ],
   "source": [
    "df['value'].plot(figsize=(12,5))"
   ]
  },
  {
   "cell_type": "code",
   "execution_count": 40,
   "id": "06f957a2",
   "metadata": {},
   "outputs": [],
   "source": [
    "from statsmodels.tsa.stattools import adfuller\n",
    "def adf_test(dataset):\n",
    "     dftest = adfuller(dataset, autolag = 'AIC')\n",
    "     print(\"1. ADF : \",dftest[0])\n",
    "     print(\"2. P-Value : \", dftest[1])\n",
    "     print(\"3. Num Of Lags : \", dftest[2])\n",
    "     print(\"4. Num Of Observations Used For ADF Regression:\",      dftest[3])\n",
    "     print(\"5. Critical Values :\")\n",
    "     for key, val in dftest[4].items():\n",
    "         print(\"\\t\",key, \": \", val)"
   ]
  },
  {
   "cell_type": "code",
   "execution_count": 41,
   "id": "c87103e3",
   "metadata": {},
   "outputs": [
    {
     "name": "stdout",
     "output_type": "stream",
     "text": [
      "1. ADF :  -20.209002111099164\n",
      "2. P-Value :  0.0\n",
      "3. Num Of Lags :  55\n",
      "4. Num Of Observations Used For ADF Regression: 41582\n",
      "5. Critical Values :\n",
      "\t 1% :  -3.4305072724671786\n",
      "\t 5% :  -2.861609510890435\n",
      "\t 10% :  -2.5668069984020314\n"
     ]
    }
   ],
   "source": [
    "adf_test(df['value'])"
   ]
  },
  {
   "cell_type": "code",
   "execution_count": 42,
   "id": "56933200",
   "metadata": {},
   "outputs": [
    {
     "name": "stdout",
     "output_type": "stream",
     "text": [
      "Performing stepwise search to minimize aic\n",
      " ARIMA(2,0,2)(0,0,0)[0] intercept   : AIC=216745.426, Time=16.71 sec\n",
      " ARIMA(0,0,0)(0,0,0)[0] intercept   : AIC=330308.893, Time=0.47 sec\n"
     ]
    },
    {
     "name": "stderr",
     "output_type": "stream",
     "text": [
      "/Users/sanilveeravu/opt/anaconda3/envs/mlenv/lib/python3.7/site-packages/statsmodels/tsa/statespace/sarimax.py:1899: RuntimeWarning: invalid value encountered in reciprocal\n",
      "  return np.roots(self.polynomial_reduced_ar)**-1\n"
     ]
    },
    {
     "name": "stdout",
     "output_type": "stream",
     "text": [
      " ARIMA(1,0,0)(0,0,0)[0] intercept   : AIC=219234.133, Time=1.00 sec\n"
     ]
    },
    {
     "name": "stderr",
     "output_type": "stream",
     "text": [
      "/Users/sanilveeravu/opt/anaconda3/envs/mlenv/lib/python3.7/site-packages/statsmodels/tsa/statespace/sarimax.py:1906: RuntimeWarning: invalid value encountered in reciprocal\n",
      "  return np.roots(self.polynomial_reduced_ma)**-1\n"
     ]
    },
    {
     "name": "stdout",
     "output_type": "stream",
     "text": [
      " ARIMA(0,0,1)(0,0,0)[0] intercept   : AIC=286179.724, Time=3.68 sec\n",
      " ARIMA(0,0,0)(0,0,0)[0]             : AIC=377579.809, Time=0.31 sec\n"
     ]
    },
    {
     "name": "stderr",
     "output_type": "stream",
     "text": [
      "/Users/sanilveeravu/opt/anaconda3/envs/mlenv/lib/python3.7/site-packages/statsmodels/tsa/statespace/sarimax.py:1899: RuntimeWarning: invalid value encountered in reciprocal\n",
      "  return np.roots(self.polynomial_reduced_ar)**-1\n"
     ]
    },
    {
     "name": "stdout",
     "output_type": "stream",
     "text": [
      " ARIMA(1,0,2)(0,0,0)[0] intercept   : AIC=218254.885, Time=6.60 sec\n"
     ]
    },
    {
     "name": "stderr",
     "output_type": "stream",
     "text": [
      "/Users/sanilveeravu/opt/anaconda3/envs/mlenv/lib/python3.7/site-packages/statsmodels/tsa/statespace/sarimax.py:1906: RuntimeWarning: invalid value encountered in reciprocal\n",
      "  return np.roots(self.polynomial_reduced_ma)**-1\n"
     ]
    },
    {
     "name": "stdout",
     "output_type": "stream",
     "text": [
      " ARIMA(2,0,1)(0,0,0)[0] intercept   : AIC=219037.227, Time=10.45 sec\n",
      " ARIMA(3,0,2)(0,0,0)[0] intercept   : AIC=216703.787, Time=24.60 sec\n"
     ]
    },
    {
     "name": "stderr",
     "output_type": "stream",
     "text": [
      "/Users/sanilveeravu/opt/anaconda3/envs/mlenv/lib/python3.7/site-packages/statsmodels/tsa/statespace/sarimax.py:1906: RuntimeWarning: invalid value encountered in reciprocal\n",
      "  return np.roots(self.polynomial_reduced_ma)**-1\n"
     ]
    },
    {
     "name": "stdout",
     "output_type": "stream",
     "text": [
      " ARIMA(3,0,1)(0,0,0)[0] intercept   : AIC=216701.810, Time=18.68 sec\n",
      " ARIMA(3,0,0)(0,0,0)[0] intercept   : AIC=218397.042, Time=1.80 sec\n"
     ]
    },
    {
     "name": "stderr",
     "output_type": "stream",
     "text": [
      "/Users/sanilveeravu/opt/anaconda3/envs/mlenv/lib/python3.7/site-packages/statsmodels/tsa/statespace/sarimax.py:1906: RuntimeWarning: invalid value encountered in reciprocal\n",
      "  return np.roots(self.polynomial_reduced_ma)**-1\n"
     ]
    },
    {
     "name": "stdout",
     "output_type": "stream",
     "text": [
      " ARIMA(4,0,1)(0,0,0)[0] intercept   : AIC=216703.789, Time=24.86 sec\n",
      " ARIMA(2,0,0)(0,0,0)[0] intercept   : AIC=219196.265, Time=1.40 sec\n",
      " ARIMA(4,0,0)(0,0,0)[0] intercept   : AIC=217912.442, Time=2.66 sec\n",
      " ARIMA(4,0,2)(0,0,0)[0] intercept   : AIC=216705.591, Time=18.11 sec\n",
      " ARIMA(3,0,1)(0,0,0)[0]             : AIC=216794.489, Time=11.86 sec\n",
      "\n",
      "Best model:  ARIMA(3,0,1)(0,0,0)[0] intercept\n",
      "Total fit time: 143.247 seconds\n"
     ]
    },
    {
     "name": "stderr",
     "output_type": "stream",
     "text": [
      "/Users/sanilveeravu/opt/anaconda3/envs/mlenv/lib/python3.7/site-packages/statsmodels/tsa/statespace/sarimax.py:1906: RuntimeWarning: invalid value encountered in reciprocal\n",
      "  return np.roots(self.polynomial_reduced_ma)**-1\n"
     ]
    }
   ],
   "source": [
    "from pmdarima import auto_arima\n",
    "stepwise_fit = auto_arima(df['value'], trace=True, suppress_warnings=True)"
   ]
  },
  {
   "cell_type": "code",
   "execution_count": 43,
   "id": "6ec4f6c6",
   "metadata": {},
   "outputs": [
    {
     "name": "stdout",
     "output_type": "stream",
     "text": [
      "(41638, 3)\n",
      "(41288, 3) (350, 3)\n"
     ]
    }
   ],
   "source": [
    "print(df.shape)\n",
    "train=df.iloc[:-350]\n",
    "test=df.iloc[-350:]\n",
    "print(train.shape,test.shape)"
   ]
  },
  {
   "cell_type": "code",
   "execution_count": 44,
   "id": "c63f9102",
   "metadata": {},
   "outputs": [
    {
     "name": "stderr",
     "output_type": "stream",
     "text": [
      "/Users/sanilveeravu/opt/anaconda3/envs/mlenv/lib/python3.7/site-packages/statsmodels/tsa/base/tsa_model.py:471: ValueWarning: No frequency information was provided, so inferred frequency D will be used.\n",
      "  self._init_dates(dates, freq)\n",
      "/Users/sanilveeravu/opt/anaconda3/envs/mlenv/lib/python3.7/site-packages/statsmodels/tsa/base/tsa_model.py:471: ValueWarning: No frequency information was provided, so inferred frequency D will be used.\n",
      "  self._init_dates(dates, freq)\n",
      "/Users/sanilveeravu/opt/anaconda3/envs/mlenv/lib/python3.7/site-packages/statsmodels/tsa/base/tsa_model.py:471: ValueWarning: No frequency information was provided, so inferred frequency D will be used.\n",
      "  self._init_dates(dates, freq)\n"
     ]
    },
    {
     "data": {
      "text/html": [
       "<table class=\"simpletable\">\n",
       "<caption>SARIMAX Results</caption>\n",
       "<tr>\n",
       "  <th>Dep. Variable:</th>         <td>value</td>      <th>  No. Observations:  </th>    <td>41288</td>   \n",
       "</tr>\n",
       "<tr>\n",
       "  <th>Model:</th>            <td>ARIMA(10, 0, 1)</td> <th>  Log Likelihood     </th> <td>-107447.222</td>\n",
       "</tr>\n",
       "<tr>\n",
       "  <th>Date:</th>            <td>Sat, 13 Aug 2022</td> <th>  AIC                </th> <td>214920.444</td> \n",
       "</tr>\n",
       "<tr>\n",
       "  <th>Time:</th>                <td>14:56:04</td>     <th>  BIC                </th> <td>215032.612</td> \n",
       "</tr>\n",
       "<tr>\n",
       "  <th>Sample:</th>             <td>01-01-1905</td>    <th>  HQIC               </th> <td>214955.896</td> \n",
       "</tr>\n",
       "<tr>\n",
       "  <th></th>                   <td>- 01-15-2018</td>   <th>                     </th>      <td> </td>     \n",
       "</tr>\n",
       "<tr>\n",
       "  <th>Covariance Type:</th>        <td>opg</td>       <th>                     </th>      <td> </td>     \n",
       "</tr>\n",
       "</table>\n",
       "<table class=\"simpletable\">\n",
       "<tr>\n",
       "     <td></td>       <th>coef</th>     <th>std err</th>      <th>z</th>      <th>P>|z|</th>  <th>[0.025</th>    <th>0.975]</th>  \n",
       "</tr>\n",
       "<tr>\n",
       "  <th>const</th>  <td>   18.4679</td> <td>    1.081</td> <td>   17.084</td> <td> 0.000</td> <td>   16.349</td> <td>   20.587</td>\n",
       "</tr>\n",
       "<tr>\n",
       "  <th>ar.L1</th>  <td>    1.7350</td> <td>    0.024</td> <td>   73.537</td> <td> 0.000</td> <td>    1.689</td> <td>    1.781</td>\n",
       "</tr>\n",
       "<tr>\n",
       "  <th>ar.L2</th>  <td>   -0.9039</td> <td>    0.024</td> <td>  -38.139</td> <td> 0.000</td> <td>   -0.950</td> <td>   -0.857</td>\n",
       "</tr>\n",
       "<tr>\n",
       "  <th>ar.L3</th>  <td>    0.1548</td> <td>    0.011</td> <td>   14.513</td> <td> 0.000</td> <td>    0.134</td> <td>    0.176</td>\n",
       "</tr>\n",
       "<tr>\n",
       "  <th>ar.L4</th>  <td>    0.0108</td> <td>    0.010</td> <td>    1.084</td> <td> 0.279</td> <td>   -0.009</td> <td>    0.030</td>\n",
       "</tr>\n",
       "<tr>\n",
       "  <th>ar.L5</th>  <td>   -0.0207</td> <td>    0.010</td> <td>   -2.099</td> <td> 0.036</td> <td>   -0.040</td> <td>   -0.001</td>\n",
       "</tr>\n",
       "<tr>\n",
       "  <th>ar.L6</th>  <td>    0.0039</td> <td>    0.010</td> <td>    0.398</td> <td> 0.691</td> <td>   -0.015</td> <td>    0.023</td>\n",
       "</tr>\n",
       "<tr>\n",
       "  <th>ar.L7</th>  <td>    0.0105</td> <td>    0.010</td> <td>    1.046</td> <td> 0.295</td> <td>   -0.009</td> <td>    0.030</td>\n",
       "</tr>\n",
       "<tr>\n",
       "  <th>ar.L8</th>  <td>    0.0076</td> <td>    0.010</td> <td>    0.741</td> <td> 0.459</td> <td>   -0.012</td> <td>    0.028</td>\n",
       "</tr>\n",
       "<tr>\n",
       "  <th>ar.L9</th>  <td>   -0.0120</td> <td>    0.010</td> <td>   -1.266</td> <td> 0.206</td> <td>   -0.031</td> <td>    0.007</td>\n",
       "</tr>\n",
       "<tr>\n",
       "  <th>ar.L10</th> <td>    0.0108</td> <td>    0.006</td> <td>    1.911</td> <td> 0.056</td> <td>   -0.000</td> <td>    0.022</td>\n",
       "</tr>\n",
       "<tr>\n",
       "  <th>ma.L1</th>  <td>   -0.7862</td> <td>    0.023</td> <td>  -33.834</td> <td> 0.000</td> <td>   -0.832</td> <td>   -0.741</td>\n",
       "</tr>\n",
       "<tr>\n",
       "  <th>sigma2</th> <td>   10.6633</td> <td>    0.054</td> <td>  197.845</td> <td> 0.000</td> <td>   10.558</td> <td>   10.769</td>\n",
       "</tr>\n",
       "</table>\n",
       "<table class=\"simpletable\">\n",
       "<tr>\n",
       "  <th>Ljung-Box (L1) (Q):</th>     <td>0.00</td> <th>  Jarque-Bera (JB):  </th> <td>7577.82</td>\n",
       "</tr>\n",
       "<tr>\n",
       "  <th>Prob(Q):</th>                <td>0.98</td> <th>  Prob(JB):          </th>  <td>0.00</td>  \n",
       "</tr>\n",
       "<tr>\n",
       "  <th>Heteroskedasticity (H):</th> <td>0.85</td> <th>  Skew:              </th>  <td>-0.20</td> \n",
       "</tr>\n",
       "<tr>\n",
       "  <th>Prob(H) (two-sided):</th>    <td>0.00</td> <th>  Kurtosis:          </th>  <td>5.06</td>  \n",
       "</tr>\n",
       "</table><br/><br/>Warnings:<br/>[1] Covariance matrix calculated using the outer product of gradients (complex-step)."
      ],
      "text/plain": [
       "<class 'statsmodels.iolib.summary.Summary'>\n",
       "\"\"\"\n",
       "                               SARIMAX Results                                \n",
       "==============================================================================\n",
       "Dep. Variable:                  value   No. Observations:                41288\n",
       "Model:                ARIMA(10, 0, 1)   Log Likelihood             -107447.222\n",
       "Date:                Sat, 13 Aug 2022   AIC                         214920.444\n",
       "Time:                        14:56:04   BIC                         215032.612\n",
       "Sample:                    01-01-1905   HQIC                        214955.896\n",
       "                         - 01-15-2018                                         \n",
       "Covariance Type:                  opg                                         \n",
       "==============================================================================\n",
       "                 coef    std err          z      P>|z|      [0.025      0.975]\n",
       "------------------------------------------------------------------------------\n",
       "const         18.4679      1.081     17.084      0.000      16.349      20.587\n",
       "ar.L1          1.7350      0.024     73.537      0.000       1.689       1.781\n",
       "ar.L2         -0.9039      0.024    -38.139      0.000      -0.950      -0.857\n",
       "ar.L3          0.1548      0.011     14.513      0.000       0.134       0.176\n",
       "ar.L4          0.0108      0.010      1.084      0.279      -0.009       0.030\n",
       "ar.L5         -0.0207      0.010     -2.099      0.036      -0.040      -0.001\n",
       "ar.L6          0.0039      0.010      0.398      0.691      -0.015       0.023\n",
       "ar.L7          0.0105      0.010      1.046      0.295      -0.009       0.030\n",
       "ar.L8          0.0076      0.010      0.741      0.459      -0.012       0.028\n",
       "ar.L9         -0.0120      0.010     -1.266      0.206      -0.031       0.007\n",
       "ar.L10         0.0108      0.006      1.911      0.056      -0.000       0.022\n",
       "ma.L1         -0.7862      0.023    -33.834      0.000      -0.832      -0.741\n",
       "sigma2        10.6633      0.054    197.845      0.000      10.558      10.769\n",
       "===================================================================================\n",
       "Ljung-Box (L1) (Q):                   0.00   Jarque-Bera (JB):              7577.82\n",
       "Prob(Q):                              0.98   Prob(JB):                         0.00\n",
       "Heteroskedasticity (H):               0.85   Skew:                            -0.20\n",
       "Prob(H) (two-sided):                  0.00   Kurtosis:                         5.06\n",
       "===================================================================================\n",
       "\n",
       "Warnings:\n",
       "[1] Covariance matrix calculated using the outer product of gradients (complex-step).\n",
       "\"\"\""
      ]
     },
     "execution_count": 44,
     "metadata": {},
     "output_type": "execute_result"
    }
   ],
   "source": [
    "from statsmodels.tsa.arima.model import ARIMA\n",
    "model=ARIMA(train['value'],order=(10,0,1))\n",
    "model=model.fit()\n",
    "model.summary()"
   ]
  },
  {
   "cell_type": "code",
   "execution_count": 45,
   "id": "0e4e34c7",
   "metadata": {},
   "outputs": [
    {
     "data": {
      "text/plain": [
       "<AxesSubplot:xlabel='date'>"
      ]
     },
     "execution_count": 45,
     "metadata": {},
     "output_type": "execute_result"
    },
    {
     "data": {
      "image/png": "[encoded data removed]",
      "text/plain": [
       "<Figure size 432x288 with 1 Axes>"
      ]
     },
     "metadata": {
      "needs_background": "light"
     },
     "output_type": "display_data"
    }
   ],
   "source": [
    "start=len(train)\n",
    "end=len(train)+len(test)-1\n",
    "pred=model.predict(start=start,end=end,typ='levels').rename('ARIMA Predictions')\n",
    "pred.plot(legend=True)\n",
    "test['value'].plot(legend=True)"
   ]
  },
  {
   "cell_type": "code",
   "execution_count": 33,
   "id": "90ac30bc",
   "metadata": {},
   "outputs": [
    {
     "name": "stdout",
     "output_type": "stream",
     "text": [
      "16.95578798988516\n"
     ]
    }
   ],
   "source": [
    "from sklearn.metrics import mean_squared_error\n",
    "from math import sqrt\n",
    "test['value'].mean()\n",
    "rmse=sqrt(mean_squared_error(pred,test['value']))\n",
    "print(rmse)"
   ]
  },
  {
   "cell_type": "code",
   "execution_count": null,
   "id": "4960f1ad",
   "metadata": {},
   "outputs": [],
   "source": []
  }
 ],
 "metadata": {
  "kernelspec": {
   "display_name": "mlenv",
   "language": "python",
   "name": "mlenv"
  },
  "language_info": {
   "codemirror_mode": {
    "name": "ipython",
    "version": 3
   },
   "file_extension": ".py",
   "mimetype": "text/x-python",
   "name": "python",
   "nbconvert_exporter": "python",
   "pygments_lexer": "ipython3",
   "version": "3.7.13"
  }
 },
 "nbformat": 4,
 "nbformat_minor": 5
}
