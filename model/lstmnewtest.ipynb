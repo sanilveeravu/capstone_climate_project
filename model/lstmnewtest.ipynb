{
  "nbformat": 4,
  "nbformat_minor": 0,
  "metadata": {
    "colab": {
      "name": "lstmnewtest.ipynb",
      "provenance": [],
      "collapsed_sections": [],
      "mount_file_id": "1xKEQtF4U9FctGcQe9ZAxMOXzcJdYt79L",
      "authorship_tag": "ABX9TyOIx5T+DHP/2pqkwZwfTF7K"
    },
    "kernelspec": {
      "name": "python3",
      "display_name": "Python 3"
    },
    "language_info": {
      "name": "python"
    }
  },
  "cells": [
    {
      "cell_type": "code",
      "execution_count": 1,
      "metadata": {
        "id": "VKj4AiRuauV-"
      },
      "outputs": [],
      "source": [
        "import numpy as np\n",
        "import pandas as pd\n",
        "import matplotlib.pyplot as plt\n",
        "from statsmodels.tools.eval_measures import rmse\n",
        "from sklearn.preprocessing import MinMaxScaler\n",
        "from keras.preprocessing.sequence import TimeseriesGenerator\n",
        "from keras.models import Sequential\n",
        "from keras.layers import Dense\n",
        "from keras.layers import LSTM\n",
        "from keras.layers import Dropout\n",
        "import warnings\n",
        "warnings.filterwarnings(\"ignore\")\n",
        "import datetime\n"
      ]
    },
    {
      "cell_type": "code",
      "source": [
        "#,names=[\"state_code\", \"date\", \"value\",\"state_name\",\"latitude\",\"longitude\"]\n",
        "df = pd.read_csv('/content/drive/MyDrive/bootcampdata/tmaxdata_avg_with_lat_long_monthly.csv',parse_dates=True)\n",
        "df = df[df['state_code'] == 'CA']\n",
        "df['date'] = pd.to_datetime(df['date']).dt.strftime('%Y-%m')\n",
        "df.drop([\"state_code\",\"state_name\",\"latitude\",\"longitude\"],inplace=True,axis=1)\n",
        "#df.groupby(by=[df.index.year,df.index.month]).agg(\"mean\")\n",
        "#df['year_month'] = pd.to_datetime(df['date']).dt.to_period('M')\n",
        "#df.info()\n",
        "#df.groupby([\"year_month\"]).mean()\n",
        "#df.groupby(pd.Grouper(freq='M', key='date')).mean()\n",
        "#out = df.groupby(pd.to_datetime(df['dt']).dt.to_period('M')).mean()\n",
        "#df = df.groupby([pd.to_datetime(df['date']).dt.strftime('%Y-%m')]).mean().reset_index()\n",
        "#df.info()\n",
        "#df.date = pd.to_datetime(df.date)\n",
        "#df.info()\n",
        "df.date = pd.to_datetime(df.date, format='%Y-%m')\n",
        "df = df.set_index(\"date\")\n",
        "df"
      ],
      "metadata": {
        "colab": {
          "base_uri": "https://localhost:8080/",
          "height": 450
        },
        "id": "HIkjKYWOi7C_",
        "outputId": "cc0cd4ad-630b-43af-813e-e64266e5dd78"
      },
      "execution_count": 2,
      "outputs": [
        {
          "output_type": "execute_result",
          "data": {
            "text/plain": [
              "                value\n",
              "date                 \n",
              "1905-01-01  24.677419\n",
              "1905-02-01  24.717857\n",
              "1905-03-01  28.764516\n",
              "1905-04-01  31.403333\n",
              "1905-05-01  34.574194\n",
              "...               ...\n",
              "2022-04-01  35.860000\n",
              "2022-05-01  39.429032\n",
              "2022-06-01  45.350000\n",
              "2022-07-01  47.612903\n",
              "2022-08-01  45.318182\n",
              "\n",
              "[1412 rows x 1 columns]"
            ],
            "text/html": [
              "\n",
              "  <div id=\"df-1a75b7a2-69bd-42c3-b63a-e0fe60d01270\">\n",
              "    <div class=\"colab-df-container\">\n",
              "      <div>\n",
              "<style scoped>\n",
              "    .dataframe tbody tr th:only-of-type {\n",
              "        vertical-align: middle;\n",
              "    }\n",
              "\n",
              "    .dataframe tbody tr th {\n",
              "        vertical-align: top;\n",
              "    }\n",
              "\n",
              "    .dataframe thead th {\n",
              "        text-align: right;\n",
              "    }\n",
              "</style>\n",
              "<table border=\"1\" class=\"dataframe\">\n",
              "  <thead>\n",
              "    <tr style=\"text-align: right;\">\n",
              "      <th></th>\n",
              "      <th>value</th>\n",
              "    </tr>\n",
              "    <tr>\n",
              "      <th>date</th>\n",
              "      <th></th>\n",
              "    </tr>\n",
              "  </thead>\n",
              "  <tbody>\n",
              "    <tr>\n",
              "      <th>1905-01-01</th>\n",
              "      <td>24.677419</td>\n",
              "    </tr>\n",
              "    <tr>\n",
              "      <th>1905-02-01</th>\n",
              "      <td>24.717857</td>\n",
              "    </tr>\n",
              "    <tr>\n",
              "      <th>1905-03-01</th>\n",
              "      <td>28.764516</td>\n",
              "    </tr>\n",
              "    <tr>\n",
              "      <th>1905-04-01</th>\n",
              "      <td>31.403333</td>\n",
              "    </tr>\n",
              "    <tr>\n",
              "      <th>1905-05-01</th>\n",
              "      <td>34.574194</td>\n",
              "    </tr>\n",
              "    <tr>\n",
              "      <th>...</th>\n",
              "      <td>...</td>\n",
              "    </tr>\n",
              "    <tr>\n",
              "      <th>2022-04-01</th>\n",
              "      <td>35.860000</td>\n",
              "    </tr>\n",
              "    <tr>\n",
              "      <th>2022-05-01</th>\n",
              "      <td>39.429032</td>\n",
              "    </tr>\n",
              "    <tr>\n",
              "      <th>2022-06-01</th>\n",
              "      <td>45.350000</td>\n",
              "    </tr>\n",
              "    <tr>\n",
              "      <th>2022-07-01</th>\n",
              "      <td>47.612903</td>\n",
              "    </tr>\n",
              "    <tr>\n",
              "      <th>2022-08-01</th>\n",
              "      <td>45.318182</td>\n",
              "    </tr>\n",
              "  </tbody>\n",
              "</table>\n",
              "<p>1412 rows × 1 columns</p>\n",
              "</div>\n",
              "      <button class=\"colab-df-convert\" onclick=\"convertToInteractive('df-1a75b7a2-69bd-42c3-b63a-e0fe60d01270')\"\n",
              "              title=\"Convert this dataframe to an interactive table.\"\n",
              "              style=\"display:none;\">\n",
              "        \n",
              "  <svg xmlns=\"http://www.w3.org/2000/svg\" height=\"24px\"viewBox=\"0 0 24 24\"\n",
              "       width=\"24px\">\n",
              "    <path d=\"M0 0h24v24H0V0z\" fill=\"none\"/>\n",
              "    <path d=\"M18.56 5.44l.94 2.06.94-2.06 2.06-.94-2.06-.94-.94-2.06-.94 2.06-2.06.94zm-11 1L8.5 8.5l.94-2.06 2.06-.94-2.06-.94L8.5 2.5l-.94 2.06-2.06.94zm10 10l.94 2.06.94-2.06 2.06-.94-2.06-.94-.94-2.06-.94 2.06-2.06.94z\"/><path d=\"M17.41 7.96l-1.37-1.37c-.4-.4-.92-.59-1.43-.59-.52 0-1.04.2-1.43.59L10.3 9.45l-7.72 7.72c-.78.78-.78 2.05 0 2.83L4 21.41c.39.39.9.59 1.41.59.51 0 1.02-.2 1.41-.59l7.78-7.78 2.81-2.81c.8-.78.8-2.07 0-2.86zM5.41 20L4 18.59l7.72-7.72 1.47 1.35L5.41 20z\"/>\n",
              "  </svg>\n",
              "      </button>\n",
              "      \n",
              "  <style>\n",
              "    .colab-df-container {\n",
              "      display:flex;\n",
              "      flex-wrap:wrap;\n",
              "      gap: 12px;\n",
              "    }\n",
              "\n",
              "    .colab-df-convert {\n",
              "      background-color: #E8F0FE;\n",
              "      border: none;\n",
              "      border-radius: 50%;\n",
              "      cursor: pointer;\n",
              "      display: none;\n",
              "      fill: #1967D2;\n",
              "      height: 32px;\n",
              "      padding: 0 0 0 0;\n",
              "      width: 32px;\n",
              "    }\n",
              "\n",
              "    .colab-df-convert:hover {\n",
              "      background-color: #E2EBFA;\n",
              "      box-shadow: 0px 1px 2px rgba(60, 64, 67, 0.3), 0px 1px 3px 1px rgba(60, 64, 67, 0.15);\n",
              "      fill: #174EA6;\n",
              "    }\n",
              "\n",
              "    [theme=dark] .colab-df-convert {\n",
              "      background-color: #3B4455;\n",
              "      fill: #D2E3FC;\n",
              "    }\n",
              "\n",
              "    [theme=dark] .colab-df-convert:hover {\n",
              "      background-color: #434B5C;\n",
              "      box-shadow: 0px 1px 3px 1px rgba(0, 0, 0, 0.15);\n",
              "      filter: drop-shadow(0px 1px 2px rgba(0, 0, 0, 0.3));\n",
              "      fill: #FFFFFF;\n",
              "    }\n",
              "  </style>\n",
              "\n",
              "      <script>\n",
              "        const buttonEl =\n",
              "          document.querySelector('#df-1a75b7a2-69bd-42c3-b63a-e0fe60d01270 button.colab-df-convert');\n",
              "        buttonEl.style.display =\n",
              "          google.colab.kernel.accessAllowed ? 'block' : 'none';\n",
              "\n",
              "        async function convertToInteractive(key) {\n",
              "          const element = document.querySelector('#df-1a75b7a2-69bd-42c3-b63a-e0fe60d01270');\n",
              "          const dataTable =\n",
              "            await google.colab.kernel.invokeFunction('convertToInteractive',\n",
              "                                                     [key], {});\n",
              "          if (!dataTable) return;\n",
              "\n",
              "          const docLinkHtml = 'Like what you see? Visit the ' +\n",
              "            '<a target=\"_blank\" href=https://colab.research.google.com/notebooks/data_table.ipynb>data table notebook</a>'\n",
              "            + ' to learn more about interactive tables.';\n",
              "          element.innerHTML = '';\n",
              "          dataTable['output_type'] = 'display_data';\n",
              "          await google.colab.output.renderOutput(dataTable, element);\n",
              "          const docLink = document.createElement('div');\n",
              "          docLink.innerHTML = docLinkHtml;\n",
              "          element.appendChild(docLink);\n",
              "        }\n",
              "      </script>\n",
              "    </div>\n",
              "  </div>\n",
              "  "
            ]
          },
          "metadata": {},
          "execution_count": 2
        }
      ]
    },
    {
      "cell_type": "code",
      "source": [
        "df.info()"
      ],
      "metadata": {
        "colab": {
          "base_uri": "https://localhost:8080/"
        },
        "id": "zziLrZigR0r0",
        "outputId": "1a559204-72a3-4bbe-ea89-10e2d8153b5d"
      },
      "execution_count": 3,
      "outputs": [
        {
          "output_type": "stream",
          "name": "stdout",
          "text": [
            "<class 'pandas.core.frame.DataFrame'>\n",
            "DatetimeIndex: 1412 entries, 1905-01-01 to 2022-08-01\n",
            "Data columns (total 1 columns):\n",
            " #   Column  Non-Null Count  Dtype  \n",
            "---  ------  --------------  -----  \n",
            " 0   value   1412 non-null   float64\n",
            "dtypes: float64(1)\n",
            "memory usage: 22.1 KB\n"
          ]
        }
      ]
    },
    {
      "cell_type": "code",
      "source": [
        "train, test = df[:-12], df[-12:]\n",
        "train"
      ],
      "metadata": {
        "colab": {
          "base_uri": "https://localhost:8080/",
          "height": 450
        },
        "id": "irf-tO3Eb1bi",
        "outputId": "1fe58479-b2fd-4060-f16c-7ea0d27dc66f"
      },
      "execution_count": 4,
      "outputs": [
        {
          "output_type": "execute_result",
          "data": {
            "text/plain": [
              "                value\n",
              "date                 \n",
              "1905-01-01  24.677419\n",
              "1905-02-01  24.717857\n",
              "1905-03-01  28.764516\n",
              "1905-04-01  31.403333\n",
              "1905-05-01  34.574194\n",
              "...               ...\n",
              "2021-04-01  36.373333\n",
              "2021-05-01  40.012903\n",
              "2021-06-01  47.336667\n",
              "2021-07-01  48.529032\n",
              "2021-08-01  47.012903\n",
              "\n",
              "[1400 rows x 1 columns]"
            ],
            "text/html": [
              "\n",
              "  <div id=\"df-a6b9e1c3-36f5-4757-b655-f25d21b8ca5c\">\n",
              "    <div class=\"colab-df-container\">\n",
              "      <div>\n",
              "<style scoped>\n",
              "    .dataframe tbody tr th:only-of-type {\n",
              "        vertical-align: middle;\n",
              "    }\n",
              "\n",
              "    .dataframe tbody tr th {\n",
              "        vertical-align: top;\n",
              "    }\n",
              "\n",
              "    .dataframe thead th {\n",
              "        text-align: right;\n",
              "    }\n",
              "</style>\n",
              "<table border=\"1\" class=\"dataframe\">\n",
              "  <thead>\n",
              "    <tr style=\"text-align: right;\">\n",
              "      <th></th>\n",
              "      <th>value</th>\n",
              "    </tr>\n",
              "    <tr>\n",
              "      <th>date</th>\n",
              "      <th></th>\n",
              "    </tr>\n",
              "  </thead>\n",
              "  <tbody>\n",
              "    <tr>\n",
              "      <th>1905-01-01</th>\n",
              "      <td>24.677419</td>\n",
              "    </tr>\n",
              "    <tr>\n",
              "      <th>1905-02-01</th>\n",
              "      <td>24.717857</td>\n",
              "    </tr>\n",
              "    <tr>\n",
              "      <th>1905-03-01</th>\n",
              "      <td>28.764516</td>\n",
              "    </tr>\n",
              "    <tr>\n",
              "      <th>1905-04-01</th>\n",
              "      <td>31.403333</td>\n",
              "    </tr>\n",
              "    <tr>\n",
              "      <th>1905-05-01</th>\n",
              "      <td>34.574194</td>\n",
              "    </tr>\n",
              "    <tr>\n",
              "      <th>...</th>\n",
              "      <td>...</td>\n",
              "    </tr>\n",
              "    <tr>\n",
              "      <th>2021-04-01</th>\n",
              "      <td>36.373333</td>\n",
              "    </tr>\n",
              "    <tr>\n",
              "      <th>2021-05-01</th>\n",
              "      <td>40.012903</td>\n",
              "    </tr>\n",
              "    <tr>\n",
              "      <th>2021-06-01</th>\n",
              "      <td>47.336667</td>\n",
              "    </tr>\n",
              "    <tr>\n",
              "      <th>2021-07-01</th>\n",
              "      <td>48.529032</td>\n",
              "    </tr>\n",
              "    <tr>\n",
              "      <th>2021-08-01</th>\n",
              "      <td>47.012903</td>\n",
              "    </tr>\n",
              "  </tbody>\n",
              "</table>\n",
              "<p>1400 rows × 1 columns</p>\n",
              "</div>\n",
              "      <button class=\"colab-df-convert\" onclick=\"convertToInteractive('df-a6b9e1c3-36f5-4757-b655-f25d21b8ca5c')\"\n",
              "              title=\"Convert this dataframe to an interactive table.\"\n",
              "              style=\"display:none;\">\n",
              "        \n",
              "  <svg xmlns=\"http://www.w3.org/2000/svg\" height=\"24px\"viewBox=\"0 0 24 24\"\n",
              "       width=\"24px\">\n",
              "    <path d=\"M0 0h24v24H0V0z\" fill=\"none\"/>\n",
              "    <path d=\"M18.56 5.44l.94 2.06.94-2.06 2.06-.94-2.06-.94-.94-2.06-.94 2.06-2.06.94zm-11 1L8.5 8.5l.94-2.06 2.06-.94-2.06-.94L8.5 2.5l-.94 2.06-2.06.94zm10 10l.94 2.06.94-2.06 2.06-.94-2.06-.94-.94-2.06-.94 2.06-2.06.94z\"/><path d=\"M17.41 7.96l-1.37-1.37c-.4-.4-.92-.59-1.43-.59-.52 0-1.04.2-1.43.59L10.3 9.45l-7.72 7.72c-.78.78-.78 2.05 0 2.83L4 21.41c.39.39.9.59 1.41.59.51 0 1.02-.2 1.41-.59l7.78-7.78 2.81-2.81c.8-.78.8-2.07 0-2.86zM5.41 20L4 18.59l7.72-7.72 1.47 1.35L5.41 20z\"/>\n",
              "  </svg>\n",
              "      </button>\n",
              "      \n",
              "  <style>\n",
              "    .colab-df-container {\n",
              "      display:flex;\n",
              "      flex-wrap:wrap;\n",
              "      gap: 12px;\n",
              "    }\n",
              "\n",
              "    .colab-df-convert {\n",
              "      background-color: #E8F0FE;\n",
              "      border: none;\n",
              "      border-radius: 50%;\n",
              "      cursor: pointer;\n",
              "      display: none;\n",
              "      fill: #1967D2;\n",
              "      height: 32px;\n",
              "      padding: 0 0 0 0;\n",
              "      width: 32px;\n",
              "    }\n",
              "\n",
              "    .colab-df-convert:hover {\n",
              "      background-color: #E2EBFA;\n",
              "      box-shadow: 0px 1px 2px rgba(60, 64, 67, 0.3), 0px 1px 3px 1px rgba(60, 64, 67, 0.15);\n",
              "      fill: #174EA6;\n",
              "    }\n",
              "\n",
              "    [theme=dark] .colab-df-convert {\n",
              "      background-color: #3B4455;\n",
              "      fill: #D2E3FC;\n",
              "    }\n",
              "\n",
              "    [theme=dark] .colab-df-convert:hover {\n",
              "      background-color: #434B5C;\n",
              "      box-shadow: 0px 1px 3px 1px rgba(0, 0, 0, 0.15);\n",
              "      filter: drop-shadow(0px 1px 2px rgba(0, 0, 0, 0.3));\n",
              "      fill: #FFFFFF;\n",
              "    }\n",
              "  </style>\n",
              "\n",
              "      <script>\n",
              "        const buttonEl =\n",
              "          document.querySelector('#df-a6b9e1c3-36f5-4757-b655-f25d21b8ca5c button.colab-df-convert');\n",
              "        buttonEl.style.display =\n",
              "          google.colab.kernel.accessAllowed ? 'block' : 'none';\n",
              "\n",
              "        async function convertToInteractive(key) {\n",
              "          const element = document.querySelector('#df-a6b9e1c3-36f5-4757-b655-f25d21b8ca5c');\n",
              "          const dataTable =\n",
              "            await google.colab.kernel.invokeFunction('convertToInteractive',\n",
              "                                                     [key], {});\n",
              "          if (!dataTable) return;\n",
              "\n",
              "          const docLinkHtml = 'Like what you see? Visit the ' +\n",
              "            '<a target=\"_blank\" href=https://colab.research.google.com/notebooks/data_table.ipynb>data table notebook</a>'\n",
              "            + ' to learn more about interactive tables.';\n",
              "          element.innerHTML = '';\n",
              "          dataTable['output_type'] = 'display_data';\n",
              "          await google.colab.output.renderOutput(dataTable, element);\n",
              "          const docLink = document.createElement('div');\n",
              "          docLink.innerHTML = docLinkHtml;\n",
              "          element.appendChild(docLink);\n",
              "        }\n",
              "      </script>\n",
              "    </div>\n",
              "  </div>\n",
              "  "
            ]
          },
          "metadata": {},
          "execution_count": 4
        }
      ]
    },
    {
      "cell_type": "code",
      "source": [
        "test"
      ],
      "metadata": {
        "colab": {
          "base_uri": "https://localhost:8080/",
          "height": 452
        },
        "id": "oNDk8dT3b1er",
        "outputId": "737829cc-af5c-4894-d963-810457abe0c1"
      },
      "execution_count": 5,
      "outputs": [
        {
          "output_type": "execute_result",
          "data": {
            "text/plain": [
              "                value\n",
              "date                 \n",
              "2021-09-01  43.390000\n",
              "2021-10-01  34.280645\n",
              "2021-11-01  32.226667\n",
              "2021-12-01  24.458065\n",
              "2022-01-01  25.448387\n",
              "2022-02-01  27.850000\n",
              "2022-03-01  31.625806\n",
              "2022-04-01  35.860000\n",
              "2022-05-01  39.429032\n",
              "2022-06-01  45.350000\n",
              "2022-07-01  47.612903\n",
              "2022-08-01  45.318182"
            ],
            "text/html": [
              "\n",
              "  <div id=\"df-55deb7e0-8565-4aa0-aa4a-65bea17041af\">\n",
              "    <div class=\"colab-df-container\">\n",
              "      <div>\n",
              "<style scoped>\n",
              "    .dataframe tbody tr th:only-of-type {\n",
              "        vertical-align: middle;\n",
              "    }\n",
              "\n",
              "    .dataframe tbody tr th {\n",
              "        vertical-align: top;\n",
              "    }\n",
              "\n",
              "    .dataframe thead th {\n",
              "        text-align: right;\n",
              "    }\n",
              "</style>\n",
              "<table border=\"1\" class=\"dataframe\">\n",
              "  <thead>\n",
              "    <tr style=\"text-align: right;\">\n",
              "      <th></th>\n",
              "      <th>value</th>\n",
              "    </tr>\n",
              "    <tr>\n",
              "      <th>date</th>\n",
              "      <th></th>\n",
              "    </tr>\n",
              "  </thead>\n",
              "  <tbody>\n",
              "    <tr>\n",
              "      <th>2021-09-01</th>\n",
              "      <td>43.390000</td>\n",
              "    </tr>\n",
              "    <tr>\n",
              "      <th>2021-10-01</th>\n",
              "      <td>34.280645</td>\n",
              "    </tr>\n",
              "    <tr>\n",
              "      <th>2021-11-01</th>\n",
              "      <td>32.226667</td>\n",
              "    </tr>\n",
              "    <tr>\n",
              "      <th>2021-12-01</th>\n",
              "      <td>24.458065</td>\n",
              "    </tr>\n",
              "    <tr>\n",
              "      <th>2022-01-01</th>\n",
              "      <td>25.448387</td>\n",
              "    </tr>\n",
              "    <tr>\n",
              "      <th>2022-02-01</th>\n",
              "      <td>27.850000</td>\n",
              "    </tr>\n",
              "    <tr>\n",
              "      <th>2022-03-01</th>\n",
              "      <td>31.625806</td>\n",
              "    </tr>\n",
              "    <tr>\n",
              "      <th>2022-04-01</th>\n",
              "      <td>35.860000</td>\n",
              "    </tr>\n",
              "    <tr>\n",
              "      <th>2022-05-01</th>\n",
              "      <td>39.429032</td>\n",
              "    </tr>\n",
              "    <tr>\n",
              "      <th>2022-06-01</th>\n",
              "      <td>45.350000</td>\n",
              "    </tr>\n",
              "    <tr>\n",
              "      <th>2022-07-01</th>\n",
              "      <td>47.612903</td>\n",
              "    </tr>\n",
              "    <tr>\n",
              "      <th>2022-08-01</th>\n",
              "      <td>45.318182</td>\n",
              "    </tr>\n",
              "  </tbody>\n",
              "</table>\n",
              "</div>\n",
              "      <button class=\"colab-df-convert\" onclick=\"convertToInteractive('df-55deb7e0-8565-4aa0-aa4a-65bea17041af')\"\n",
              "              title=\"Convert this dataframe to an interactive table.\"\n",
              "              style=\"display:none;\">\n",
              "        \n",
              "  <svg xmlns=\"http://www.w3.org/2000/svg\" height=\"24px\"viewBox=\"0 0 24 24\"\n",
              "       width=\"24px\">\n",
              "    <path d=\"M0 0h24v24H0V0z\" fill=\"none\"/>\n",
              "    <path d=\"M18.56 5.44l.94 2.06.94-2.06 2.06-.94-2.06-.94-.94-2.06-.94 2.06-2.06.94zm-11 1L8.5 8.5l.94-2.06 2.06-.94-2.06-.94L8.5 2.5l-.94 2.06-2.06.94zm10 10l.94 2.06.94-2.06 2.06-.94-2.06-.94-.94-2.06-.94 2.06-2.06.94z\"/><path d=\"M17.41 7.96l-1.37-1.37c-.4-.4-.92-.59-1.43-.59-.52 0-1.04.2-1.43.59L10.3 9.45l-7.72 7.72c-.78.78-.78 2.05 0 2.83L4 21.41c.39.39.9.59 1.41.59.51 0 1.02-.2 1.41-.59l7.78-7.78 2.81-2.81c.8-.78.8-2.07 0-2.86zM5.41 20L4 18.59l7.72-7.72 1.47 1.35L5.41 20z\"/>\n",
              "  </svg>\n",
              "      </button>\n",
              "      \n",
              "  <style>\n",
              "    .colab-df-container {\n",
              "      display:flex;\n",
              "      flex-wrap:wrap;\n",
              "      gap: 12px;\n",
              "    }\n",
              "\n",
              "    .colab-df-convert {\n",
              "      background-color: #E8F0FE;\n",
              "      border: none;\n",
              "      border-radius: 50%;\n",
              "      cursor: pointer;\n",
              "      display: none;\n",
              "      fill: #1967D2;\n",
              "      height: 32px;\n",
              "      padding: 0 0 0 0;\n",
              "      width: 32px;\n",
              "    }\n",
              "\n",
              "    .colab-df-convert:hover {\n",
              "      background-color: #E2EBFA;\n",
              "      box-shadow: 0px 1px 2px rgba(60, 64, 67, 0.3), 0px 1px 3px 1px rgba(60, 64, 67, 0.15);\n",
              "      fill: #174EA6;\n",
              "    }\n",
              "\n",
              "    [theme=dark] .colab-df-convert {\n",
              "      background-color: #3B4455;\n",
              "      fill: #D2E3FC;\n",
              "    }\n",
              "\n",
              "    [theme=dark] .colab-df-convert:hover {\n",
              "      background-color: #434B5C;\n",
              "      box-shadow: 0px 1px 3px 1px rgba(0, 0, 0, 0.15);\n",
              "      filter: drop-shadow(0px 1px 2px rgba(0, 0, 0, 0.3));\n",
              "      fill: #FFFFFF;\n",
              "    }\n",
              "  </style>\n",
              "\n",
              "      <script>\n",
              "        const buttonEl =\n",
              "          document.querySelector('#df-55deb7e0-8565-4aa0-aa4a-65bea17041af button.colab-df-convert');\n",
              "        buttonEl.style.display =\n",
              "          google.colab.kernel.accessAllowed ? 'block' : 'none';\n",
              "\n",
              "        async function convertToInteractive(key) {\n",
              "          const element = document.querySelector('#df-55deb7e0-8565-4aa0-aa4a-65bea17041af');\n",
              "          const dataTable =\n",
              "            await google.colab.kernel.invokeFunction('convertToInteractive',\n",
              "                                                     [key], {});\n",
              "          if (!dataTable) return;\n",
              "\n",
              "          const docLinkHtml = 'Like what you see? Visit the ' +\n",
              "            '<a target=\"_blank\" href=https://colab.research.google.com/notebooks/data_table.ipynb>data table notebook</a>'\n",
              "            + ' to learn more about interactive tables.';\n",
              "          element.innerHTML = '';\n",
              "          dataTable['output_type'] = 'display_data';\n",
              "          await google.colab.output.renderOutput(dataTable, element);\n",
              "          const docLink = document.createElement('div');\n",
              "          docLink.innerHTML = docLinkHtml;\n",
              "          element.appendChild(docLink);\n",
              "        }\n",
              "      </script>\n",
              "    </div>\n",
              "  </div>\n",
              "  "
            ]
          },
          "metadata": {},
          "execution_count": 5
        }
      ]
    },
    {
      "cell_type": "code",
      "source": [
        "scaler = MinMaxScaler()\n",
        "scaler.fit(train)\n",
        "train = scaler.transform(train)\n",
        "test = scaler.transform(test)"
      ],
      "metadata": {
        "id": "PcE9QEKob1hx"
      },
      "execution_count": 6,
      "outputs": []
    },
    {
      "cell_type": "code",
      "source": [
        "train"
      ],
      "metadata": {
        "colab": {
          "base_uri": "https://localhost:8080/"
        },
        "id": "O_V3Icohb1kX",
        "outputId": "4ecc6636-6c96-498f-b64a-acbaa1be0713"
      },
      "execution_count": 7,
      "outputs": [
        {
          "output_type": "execute_result",
          "data": {
            "text/plain": [
              "array([[0.21353278],\n",
              "       [0.21479126],\n",
              "       [0.34072884],\n",
              "       ...,\n",
              "       [0.91871967],\n",
              "       [0.95582773],\n",
              "       [0.90864371]])"
            ]
          },
          "metadata": {},
          "execution_count": 7
        }
      ]
    },
    {
      "cell_type": "code",
      "source": [
        "n_input = 12\n",
        "n_features = 1\n",
        "generator = TimeseriesGenerator(train, train, length=n_input, batch_size=6)"
      ],
      "metadata": {
        "id": "0E_rjtyZb1nf"
      },
      "execution_count": 8,
      "outputs": []
    },
    {
      "cell_type": "code",
      "source": [
        "model = Sequential()\n",
        "model.add(LSTM(200, activation='relu', input_shape=(n_input, n_features)))\n",
        "model.add(Dropout(0.15))\n",
        "model.add(Dense(1))\n",
        "model.compile(optimizer='adam', loss='mse')"
      ],
      "metadata": {
        "id": "CoCY2suvb1qY"
      },
      "execution_count": 9,
      "outputs": []
    },
    {
      "cell_type": "code",
      "source": [
        "model.fit_generator(generator,epochs=90)\n"
      ],
      "metadata": {
        "colab": {
          "base_uri": "https://localhost:8080/"
        },
        "id": "O9CVWF-_cjcq",
        "outputId": "12f126ea-8224-4005-d026-10d86afe09bd"
      },
      "execution_count": 10,
      "outputs": [
        {
          "output_type": "stream",
          "name": "stdout",
          "text": [
            "Epoch 1/90\n",
            "232/232 [==============================] - 7s 19ms/step - loss: 0.0337\n",
            "Epoch 2/90\n",
            "232/232 [==============================] - 4s 19ms/step - loss: 0.0070\n",
            "Epoch 3/90\n",
            "232/232 [==============================] - 5s 20ms/step - loss: 0.0078\n",
            "Epoch 4/90\n",
            "232/232 [==============================] - 3s 13ms/step - loss: 0.0067\n",
            "Epoch 5/90\n",
            "232/232 [==============================] - 3s 11ms/step - loss: 0.0078\n",
            "Epoch 6/90\n",
            "232/232 [==============================] - 3s 11ms/step - loss: 0.0052\n",
            "Epoch 7/90\n",
            "232/232 [==============================] - 3s 12ms/step - loss: 0.0053\n",
            "Epoch 8/90\n",
            "232/232 [==============================] - 3s 11ms/step - loss: 0.0052\n",
            "Epoch 9/90\n",
            "232/232 [==============================] - 3s 12ms/step - loss: 0.0058\n",
            "Epoch 10/90\n",
            "232/232 [==============================] - 3s 11ms/step - loss: 0.0053\n",
            "Epoch 11/90\n",
            "232/232 [==============================] - 3s 11ms/step - loss: 0.0054\n",
            "Epoch 12/90\n",
            "232/232 [==============================] - 3s 11ms/step - loss: 0.0051\n",
            "Epoch 13/90\n",
            "232/232 [==============================] - 3s 11ms/step - loss: 0.0052\n",
            "Epoch 14/90\n",
            "232/232 [==============================] - 3s 11ms/step - loss: 0.0051\n",
            "Epoch 15/90\n",
            "232/232 [==============================] - 3s 11ms/step - loss: 0.0051\n",
            "Epoch 16/90\n",
            "232/232 [==============================] - 3s 13ms/step - loss: 0.0053\n",
            "Epoch 17/90\n",
            "232/232 [==============================] - 3s 12ms/step - loss: 0.0052\n",
            "Epoch 18/90\n",
            "232/232 [==============================] - 3s 12ms/step - loss: 0.0049\n",
            "Epoch 19/90\n",
            "232/232 [==============================] - 3s 11ms/step - loss: 0.0048\n",
            "Epoch 20/90\n",
            "232/232 [==============================] - 3s 11ms/step - loss: 0.0047\n",
            "Epoch 21/90\n",
            "232/232 [==============================] - 3s 11ms/step - loss: 0.0045\n",
            "Epoch 22/90\n",
            "232/232 [==============================] - 3s 11ms/step - loss: 0.0048\n",
            "Epoch 23/90\n",
            "232/232 [==============================] - 3s 11ms/step - loss: 0.0044\n",
            "Epoch 24/90\n",
            "232/232 [==============================] - 3s 11ms/step - loss: 0.0048\n",
            "Epoch 25/90\n",
            "232/232 [==============================] - 3s 11ms/step - loss: 0.0044\n",
            "Epoch 26/90\n",
            "232/232 [==============================] - 3s 12ms/step - loss: 0.0046\n",
            "Epoch 27/90\n",
            "232/232 [==============================] - 3s 11ms/step - loss: 0.0048\n",
            "Epoch 28/90\n",
            "232/232 [==============================] - 3s 11ms/step - loss: 0.0044\n",
            "Epoch 29/90\n",
            "232/232 [==============================] - 3s 11ms/step - loss: 0.0043\n",
            "Epoch 30/90\n",
            "232/232 [==============================] - 3s 11ms/step - loss: 0.0045\n",
            "Epoch 31/90\n",
            "232/232 [==============================] - 3s 11ms/step - loss: 0.0042\n",
            "Epoch 32/90\n",
            "232/232 [==============================] - 3s 11ms/step - loss: 0.0042\n",
            "Epoch 33/90\n",
            "232/232 [==============================] - 3s 11ms/step - loss: 0.0041\n",
            "Epoch 34/90\n",
            "232/232 [==============================] - 3s 12ms/step - loss: 0.0040\n",
            "Epoch 35/90\n",
            "232/232 [==============================] - 3s 11ms/step - loss: 0.0040\n",
            "Epoch 36/90\n",
            "232/232 [==============================] - 3s 11ms/step - loss: 0.0041\n",
            "Epoch 37/90\n",
            "232/232 [==============================] - 3s 11ms/step - loss: 0.0039\n",
            "Epoch 38/90\n",
            "232/232 [==============================] - 3s 11ms/step - loss: 0.0039\n",
            "Epoch 39/90\n",
            "232/232 [==============================] - 3s 11ms/step - loss: 0.0039\n",
            "Epoch 40/90\n",
            "232/232 [==============================] - 3s 11ms/step - loss: 0.0042\n",
            "Epoch 41/90\n",
            "232/232 [==============================] - 3s 11ms/step - loss: 0.0039\n",
            "Epoch 42/90\n",
            "232/232 [==============================] - 3s 11ms/step - loss: 0.0039\n",
            "Epoch 43/90\n",
            "232/232 [==============================] - 3s 11ms/step - loss: 0.0040\n",
            "Epoch 44/90\n",
            "232/232 [==============================] - 3s 11ms/step - loss: 0.0038\n",
            "Epoch 45/90\n",
            "232/232 [==============================] - 3s 11ms/step - loss: 0.0039\n",
            "Epoch 46/90\n",
            "232/232 [==============================] - 3s 11ms/step - loss: 0.0041\n",
            "Epoch 47/90\n",
            "232/232 [==============================] - 3s 11ms/step - loss: 0.0040\n",
            "Epoch 48/90\n",
            "232/232 [==============================] - 3s 11ms/step - loss: 0.0038\n",
            "Epoch 49/90\n",
            "232/232 [==============================] - 3s 11ms/step - loss: 0.0038\n",
            "Epoch 50/90\n",
            "232/232 [==============================] - 3s 12ms/step - loss: 0.0039\n",
            "Epoch 51/90\n",
            "232/232 [==============================] - 3s 11ms/step - loss: 0.0040\n",
            "Epoch 52/90\n",
            "232/232 [==============================] - 3s 12ms/step - loss: 0.0039\n",
            "Epoch 53/90\n",
            "232/232 [==============================] - 3s 12ms/step - loss: 0.0037\n",
            "Epoch 54/90\n",
            "232/232 [==============================] - 3s 11ms/step - loss: 0.0038\n",
            "Epoch 55/90\n",
            "232/232 [==============================] - 3s 12ms/step - loss: 0.0038\n",
            "Epoch 56/90\n",
            "232/232 [==============================] - 3s 11ms/step - loss: 0.0037\n",
            "Epoch 57/90\n",
            "232/232 [==============================] - 3s 12ms/step - loss: 0.0038\n",
            "Epoch 58/90\n",
            "232/232 [==============================] - 3s 12ms/step - loss: 0.0037\n",
            "Epoch 59/90\n",
            "232/232 [==============================] - 3s 11ms/step - loss: 0.0037\n",
            "Epoch 60/90\n",
            "232/232 [==============================] - 3s 12ms/step - loss: 0.0037\n",
            "Epoch 61/90\n",
            "232/232 [==============================] - 3s 11ms/step - loss: 0.0038\n",
            "Epoch 62/90\n",
            "232/232 [==============================] - 3s 12ms/step - loss: 0.0037\n",
            "Epoch 63/90\n",
            "232/232 [==============================] - 3s 12ms/step - loss: 0.0038\n",
            "Epoch 64/90\n",
            "232/232 [==============================] - 3s 11ms/step - loss: 0.0036\n",
            "Epoch 65/90\n",
            "232/232 [==============================] - 3s 12ms/step - loss: 0.0037\n",
            "Epoch 66/90\n",
            "232/232 [==============================] - 3s 11ms/step - loss: 0.0037\n",
            "Epoch 67/90\n",
            "232/232 [==============================] - 3s 11ms/step - loss: 0.0035\n",
            "Epoch 68/90\n",
            "232/232 [==============================] - 3s 11ms/step - loss: 0.0035\n",
            "Epoch 69/90\n",
            "232/232 [==============================] - 3s 11ms/step - loss: 0.0038\n",
            "Epoch 70/90\n",
            "232/232 [==============================] - 3s 11ms/step - loss: 0.0036\n",
            "Epoch 71/90\n",
            "232/232 [==============================] - 3s 11ms/step - loss: 0.0037\n",
            "Epoch 72/90\n",
            "232/232 [==============================] - 3s 11ms/step - loss: 0.0035\n",
            "Epoch 73/90\n",
            "232/232 [==============================] - 3s 12ms/step - loss: 0.0035\n",
            "Epoch 74/90\n",
            "232/232 [==============================] - 3s 11ms/step - loss: 0.0035\n",
            "Epoch 75/90\n",
            "232/232 [==============================] - 3s 12ms/step - loss: 0.0035\n",
            "Epoch 76/90\n",
            "232/232 [==============================] - 3s 11ms/step - loss: 0.0035\n",
            "Epoch 77/90\n",
            "232/232 [==============================] - 3s 12ms/step - loss: 0.0037\n",
            "Epoch 78/90\n",
            "232/232 [==============================] - 3s 11ms/step - loss: 0.0035\n",
            "Epoch 79/90\n",
            "232/232 [==============================] - 3s 12ms/step - loss: 0.0035\n",
            "Epoch 80/90\n",
            "232/232 [==============================] - 3s 11ms/step - loss: 0.0034\n",
            "Epoch 81/90\n",
            "232/232 [==============================] - 3s 12ms/step - loss: 0.0036\n",
            "Epoch 82/90\n",
            "232/232 [==============================] - 3s 12ms/step - loss: 0.0034\n",
            "Epoch 83/90\n",
            "232/232 [==============================] - 3s 11ms/step - loss: 0.0036\n",
            "Epoch 84/90\n",
            "232/232 [==============================] - 3s 11ms/step - loss: 0.0035\n",
            "Epoch 85/90\n",
            "232/232 [==============================] - 3s 11ms/step - loss: 0.0035\n",
            "Epoch 86/90\n",
            "232/232 [==============================] - 3s 11ms/step - loss: 0.0035\n",
            "Epoch 87/90\n",
            "232/232 [==============================] - 3s 12ms/step - loss: 0.0035\n",
            "Epoch 88/90\n",
            "232/232 [==============================] - 3s 11ms/step - loss: 0.0034\n",
            "Epoch 89/90\n",
            "232/232 [==============================] - 3s 11ms/step - loss: 0.0035\n",
            "Epoch 90/90\n",
            "232/232 [==============================] - 3s 11ms/step - loss: 0.0033\n"
          ]
        },
        {
          "output_type": "execute_result",
          "data": {
            "text/plain": [
              "<keras.callbacks.History at 0x7f73f2ef4690>"
            ]
          },
          "metadata": {},
          "execution_count": 10
        }
      ]
    },
    {
      "cell_type": "code",
      "source": [
        "pred_list = []\n",
        "\n",
        "batch = train[-n_input:].reshape((1, n_input, n_features))\n",
        "\n",
        "for i in range(n_input):   \n",
        "    pred_list.append(model.predict(batch)[0]) \n",
        "    batch = np.append(batch[:,1:,:],[[pred_list[i]]],axis=1)"
      ],
      "metadata": {
        "id": "0A70dug4cjf7"
      },
      "execution_count": 11,
      "outputs": []
    },
    {
      "cell_type": "code",
      "source": [
        "df_predict = pd.DataFrame(scaler.inverse_transform(pred_list),\n",
        "                          index=df[-n_input:].index, columns=['Prediction'])\n",
        "\n",
        "df_test = pd.concat([df,df_predict], axis=1)"
      ],
      "metadata": {
        "id": "zbJcLOEOcjjn"
      },
      "execution_count": 12,
      "outputs": []
    },
    {
      "cell_type": "code",
      "source": [
        "df_test"
      ],
      "metadata": {
        "colab": {
          "base_uri": "https://localhost:8080/",
          "height": 450
        },
        "id": "WdUxXopNmBY8",
        "outputId": "1881adc3-b619-4160-d330-d2b2c15c2ab5"
      },
      "execution_count": 13,
      "outputs": [
        {
          "output_type": "execute_result",
          "data": {
            "text/plain": [
              "                value  Prediction\n",
              "date                             \n",
              "1905-01-01  24.677419         NaN\n",
              "1905-02-01  24.717857         NaN\n",
              "1905-03-01  28.764516         NaN\n",
              "1905-04-01  31.403333         NaN\n",
              "1905-05-01  34.574194         NaN\n",
              "...               ...         ...\n",
              "2022-04-01  35.860000   34.638545\n",
              "2022-05-01  39.429032   40.252624\n",
              "2022-06-01  45.350000   46.363602\n",
              "2022-07-01  47.612903   48.432749\n",
              "2022-08-01  45.318182   47.658475\n",
              "\n",
              "[1412 rows x 2 columns]"
            ],
            "text/html": [
              "\n",
              "  <div id=\"df-4a92cc9e-0138-4b01-9db5-89121b6bc174\">\n",
              "    <div class=\"colab-df-container\">\n",
              "      <div>\n",
              "<style scoped>\n",
              "    .dataframe tbody tr th:only-of-type {\n",
              "        vertical-align: middle;\n",
              "    }\n",
              "\n",
              "    .dataframe tbody tr th {\n",
              "        vertical-align: top;\n",
              "    }\n",
              "\n",
              "    .dataframe thead th {\n",
              "        text-align: right;\n",
              "    }\n",
              "</style>\n",
              "<table border=\"1\" class=\"dataframe\">\n",
              "  <thead>\n",
              "    <tr style=\"text-align: right;\">\n",
              "      <th></th>\n",
              "      <th>value</th>\n",
              "      <th>Prediction</th>\n",
              "    </tr>\n",
              "    <tr>\n",
              "      <th>date</th>\n",
              "      <th></th>\n",
              "      <th></th>\n",
              "    </tr>\n",
              "  </thead>\n",
              "  <tbody>\n",
              "    <tr>\n",
              "      <th>1905-01-01</th>\n",
              "      <td>24.677419</td>\n",
              "      <td>NaN</td>\n",
              "    </tr>\n",
              "    <tr>\n",
              "      <th>1905-02-01</th>\n",
              "      <td>24.717857</td>\n",
              "      <td>NaN</td>\n",
              "    </tr>\n",
              "    <tr>\n",
              "      <th>1905-03-01</th>\n",
              "      <td>28.764516</td>\n",
              "      <td>NaN</td>\n",
              "    </tr>\n",
              "    <tr>\n",
              "      <th>1905-04-01</th>\n",
              "      <td>31.403333</td>\n",
              "      <td>NaN</td>\n",
              "    </tr>\n",
              "    <tr>\n",
              "      <th>1905-05-01</th>\n",
              "      <td>34.574194</td>\n",
              "      <td>NaN</td>\n",
              "    </tr>\n",
              "    <tr>\n",
              "      <th>...</th>\n",
              "      <td>...</td>\n",
              "      <td>...</td>\n",
              "    </tr>\n",
              "    <tr>\n",
              "      <th>2022-04-01</th>\n",
              "      <td>35.860000</td>\n",
              "      <td>34.638545</td>\n",
              "    </tr>\n",
              "    <tr>\n",
              "      <th>2022-05-01</th>\n",
              "      <td>39.429032</td>\n",
              "      <td>40.252624</td>\n",
              "    </tr>\n",
              "    <tr>\n",
              "      <th>2022-06-01</th>\n",
              "      <td>45.350000</td>\n",
              "      <td>46.363602</td>\n",
              "    </tr>\n",
              "    <tr>\n",
              "      <th>2022-07-01</th>\n",
              "      <td>47.612903</td>\n",
              "      <td>48.432749</td>\n",
              "    </tr>\n",
              "    <tr>\n",
              "      <th>2022-08-01</th>\n",
              "      <td>45.318182</td>\n",
              "      <td>47.658475</td>\n",
              "    </tr>\n",
              "  </tbody>\n",
              "</table>\n",
              "<p>1412 rows × 2 columns</p>\n",
              "</div>\n",
              "      <button class=\"colab-df-convert\" onclick=\"convertToInteractive('df-4a92cc9e-0138-4b01-9db5-89121b6bc174')\"\n",
              "              title=\"Convert this dataframe to an interactive table.\"\n",
              "              style=\"display:none;\">\n",
              "        \n",
              "  <svg xmlns=\"http://www.w3.org/2000/svg\" height=\"24px\"viewBox=\"0 0 24 24\"\n",
              "       width=\"24px\">\n",
              "    <path d=\"M0 0h24v24H0V0z\" fill=\"none\"/>\n",
              "    <path d=\"M18.56 5.44l.94 2.06.94-2.06 2.06-.94-2.06-.94-.94-2.06-.94 2.06-2.06.94zm-11 1L8.5 8.5l.94-2.06 2.06-.94-2.06-.94L8.5 2.5l-.94 2.06-2.06.94zm10 10l.94 2.06.94-2.06 2.06-.94-2.06-.94-.94-2.06-.94 2.06-2.06.94z\"/><path d=\"M17.41 7.96l-1.37-1.37c-.4-.4-.92-.59-1.43-.59-.52 0-1.04.2-1.43.59L10.3 9.45l-7.72 7.72c-.78.78-.78 2.05 0 2.83L4 21.41c.39.39.9.59 1.41.59.51 0 1.02-.2 1.41-.59l7.78-7.78 2.81-2.81c.8-.78.8-2.07 0-2.86zM5.41 20L4 18.59l7.72-7.72 1.47 1.35L5.41 20z\"/>\n",
              "  </svg>\n",
              "      </button>\n",
              "      \n",
              "  <style>\n",
              "    .colab-df-container {\n",
              "      display:flex;\n",
              "      flex-wrap:wrap;\n",
              "      gap: 12px;\n",
              "    }\n",
              "\n",
              "    .colab-df-convert {\n",
              "      background-color: #E8F0FE;\n",
              "      border: none;\n",
              "      border-radius: 50%;\n",
              "      cursor: pointer;\n",
              "      display: none;\n",
              "      fill: #1967D2;\n",
              "      height: 32px;\n",
              "      padding: 0 0 0 0;\n",
              "      width: 32px;\n",
              "    }\n",
              "\n",
              "    .colab-df-convert:hover {\n",
              "      background-color: #E2EBFA;\n",
              "      box-shadow: 0px 1px 2px rgba(60, 64, 67, 0.3), 0px 1px 3px 1px rgba(60, 64, 67, 0.15);\n",
              "      fill: #174EA6;\n",
              "    }\n",
              "\n",
              "    [theme=dark] .colab-df-convert {\n",
              "      background-color: #3B4455;\n",
              "      fill: #D2E3FC;\n",
              "    }\n",
              "\n",
              "    [theme=dark] .colab-df-convert:hover {\n",
              "      background-color: #434B5C;\n",
              "      box-shadow: 0px 1px 3px 1px rgba(0, 0, 0, 0.15);\n",
              "      filter: drop-shadow(0px 1px 2px rgba(0, 0, 0, 0.3));\n",
              "      fill: #FFFFFF;\n",
              "    }\n",
              "  </style>\n",
              "\n",
              "      <script>\n",
              "        const buttonEl =\n",
              "          document.querySelector('#df-4a92cc9e-0138-4b01-9db5-89121b6bc174 button.colab-df-convert');\n",
              "        buttonEl.style.display =\n",
              "          google.colab.kernel.accessAllowed ? 'block' : 'none';\n",
              "\n",
              "        async function convertToInteractive(key) {\n",
              "          const element = document.querySelector('#df-4a92cc9e-0138-4b01-9db5-89121b6bc174');\n",
              "          const dataTable =\n",
              "            await google.colab.kernel.invokeFunction('convertToInteractive',\n",
              "                                                     [key], {});\n",
              "          if (!dataTable) return;\n",
              "\n",
              "          const docLinkHtml = 'Like what you see? Visit the ' +\n",
              "            '<a target=\"_blank\" href=https://colab.research.google.com/notebooks/data_table.ipynb>data table notebook</a>'\n",
              "            + ' to learn more about interactive tables.';\n",
              "          element.innerHTML = '';\n",
              "          dataTable['output_type'] = 'display_data';\n",
              "          await google.colab.output.renderOutput(dataTable, element);\n",
              "          const docLink = document.createElement('div');\n",
              "          docLink.innerHTML = docLinkHtml;\n",
              "          element.appendChild(docLink);\n",
              "        }\n",
              "      </script>\n",
              "    </div>\n",
              "  </div>\n",
              "  "
            ]
          },
          "metadata": {},
          "execution_count": 13
        }
      ]
    },
    {
      "cell_type": "code",
      "source": [
        "plt.figure(figsize=(20, 5))\n",
        "plt.plot(df_test.index[-60:], df_test['value'][-60:])\n",
        "plt.plot(df_test.index, df_test['Prediction'], color='r')\n",
        "plt.legend(loc='best', fontsize='xx-large')\n",
        "plt.xticks(fontsize=18)\n",
        "plt.yticks(fontsize=16)\n",
        "plt.show()"
      ],
      "metadata": {
        "colab": {
          "base_uri": "https://localhost:8080/",
          "height": 280
        },
        "id": "7WU0Zabecju2",
        "outputId": "dd089b91-02af-4969-ce42-080adeb673b7"
      },
      "execution_count": 14,
      "outputs": [
        {
          "output_type": "stream",
          "name": "stderr",
          "text": [
            "WARNING:matplotlib.legend:No handles with labels found to put in legend.\n"
          ]
        },
        {
          "output_type": "display_data",
          "data": {
            "text/plain": [
              "<Figure size 1440x360 with 1 Axes>"
            ],
            "image/png": "[encoded data removed]"
          },
          "metadata": {
            "needs_background": "light"
          }
        }
      ]
    },
    {
      "cell_type": "code",
      "source": [
        "pred_actual_rmse = rmse(df_test.iloc[-n_input:, [0]], df_test.iloc[-n_input:, [1]])\n",
        "print(\"rmse: \", pred_actual_rmse)"
      ],
      "metadata": {
        "colab": {
          "base_uri": "https://localhost:8080/"
        },
        "id": "3E9bD4YDdh-r",
        "outputId": "8d940578-5e5b-42d8-f698-63af2b364e79"
      },
      "execution_count": 15,
      "outputs": [
        {
          "output_type": "stream",
          "name": "stdout",
          "text": [
            "rmse:  [1.58723705]\n"
          ]
        }
      ]
    },
    {
      "cell_type": "code",
      "source": [
        "train = df\n",
        "train"
      ],
      "metadata": {
        "colab": {
          "base_uri": "https://localhost:8080/",
          "height": 450
        },
        "id": "chz3_N1RdiJC",
        "outputId": "8b7bc2f1-4e7e-40b3-92ef-658825c79330"
      },
      "execution_count": 16,
      "outputs": [
        {
          "output_type": "execute_result",
          "data": {
            "text/plain": [
              "                value\n",
              "date                 \n",
              "1905-01-01  24.677419\n",
              "1905-02-01  24.717857\n",
              "1905-03-01  28.764516\n",
              "1905-04-01  31.403333\n",
              "1905-05-01  34.574194\n",
              "...               ...\n",
              "2022-04-01  35.860000\n",
              "2022-05-01  39.429032\n",
              "2022-06-01  45.350000\n",
              "2022-07-01  47.612903\n",
              "2022-08-01  45.318182\n",
              "\n",
              "[1412 rows x 1 columns]"
            ],
            "text/html": [
              "\n",
              "  <div id=\"df-bdfd3ba4-7dc1-4d75-947d-090d4c40a9b8\">\n",
              "    <div class=\"colab-df-container\">\n",
              "      <div>\n",
              "<style scoped>\n",
              "    .dataframe tbody tr th:only-of-type {\n",
              "        vertical-align: middle;\n",
              "    }\n",
              "\n",
              "    .dataframe tbody tr th {\n",
              "        vertical-align: top;\n",
              "    }\n",
              "\n",
              "    .dataframe thead th {\n",
              "        text-align: right;\n",
              "    }\n",
              "</style>\n",
              "<table border=\"1\" class=\"dataframe\">\n",
              "  <thead>\n",
              "    <tr style=\"text-align: right;\">\n",
              "      <th></th>\n",
              "      <th>value</th>\n",
              "    </tr>\n",
              "    <tr>\n",
              "      <th>date</th>\n",
              "      <th></th>\n",
              "    </tr>\n",
              "  </thead>\n",
              "  <tbody>\n",
              "    <tr>\n",
              "      <th>1905-01-01</th>\n",
              "      <td>24.677419</td>\n",
              "    </tr>\n",
              "    <tr>\n",
              "      <th>1905-02-01</th>\n",
              "      <td>24.717857</td>\n",
              "    </tr>\n",
              "    <tr>\n",
              "      <th>1905-03-01</th>\n",
              "      <td>28.764516</td>\n",
              "    </tr>\n",
              "    <tr>\n",
              "      <th>1905-04-01</th>\n",
              "      <td>31.403333</td>\n",
              "    </tr>\n",
              "    <tr>\n",
              "      <th>1905-05-01</th>\n",
              "      <td>34.574194</td>\n",
              "    </tr>\n",
              "    <tr>\n",
              "      <th>...</th>\n",
              "      <td>...</td>\n",
              "    </tr>\n",
              "    <tr>\n",
              "      <th>2022-04-01</th>\n",
              "      <td>35.860000</td>\n",
              "    </tr>\n",
              "    <tr>\n",
              "      <th>2022-05-01</th>\n",
              "      <td>39.429032</td>\n",
              "    </tr>\n",
              "    <tr>\n",
              "      <th>2022-06-01</th>\n",
              "      <td>45.350000</td>\n",
              "    </tr>\n",
              "    <tr>\n",
              "      <th>2022-07-01</th>\n",
              "      <td>47.612903</td>\n",
              "    </tr>\n",
              "    <tr>\n",
              "      <th>2022-08-01</th>\n",
              "      <td>45.318182</td>\n",
              "    </tr>\n",
              "  </tbody>\n",
              "</table>\n",
              "<p>1412 rows × 1 columns</p>\n",
              "</div>\n",
              "      <button class=\"colab-df-convert\" onclick=\"convertToInteractive('df-bdfd3ba4-7dc1-4d75-947d-090d4c40a9b8')\"\n",
              "              title=\"Convert this dataframe to an interactive table.\"\n",
              "              style=\"display:none;\">\n",
              "        \n",
              "  <svg xmlns=\"http://www.w3.org/2000/svg\" height=\"24px\"viewBox=\"0 0 24 24\"\n",
              "       width=\"24px\">\n",
              "    <path d=\"M0 0h24v24H0V0z\" fill=\"none\"/>\n",
              "    <path d=\"M18.56 5.44l.94 2.06.94-2.06 2.06-.94-2.06-.94-.94-2.06-.94 2.06-2.06.94zm-11 1L8.5 8.5l.94-2.06 2.06-.94-2.06-.94L8.5 2.5l-.94 2.06-2.06.94zm10 10l.94 2.06.94-2.06 2.06-.94-2.06-.94-.94-2.06-.94 2.06-2.06.94z\"/><path d=\"M17.41 7.96l-1.37-1.37c-.4-.4-.92-.59-1.43-.59-.52 0-1.04.2-1.43.59L10.3 9.45l-7.72 7.72c-.78.78-.78 2.05 0 2.83L4 21.41c.39.39.9.59 1.41.59.51 0 1.02-.2 1.41-.59l7.78-7.78 2.81-2.81c.8-.78.8-2.07 0-2.86zM5.41 20L4 18.59l7.72-7.72 1.47 1.35L5.41 20z\"/>\n",
              "  </svg>\n",
              "      </button>\n",
              "      \n",
              "  <style>\n",
              "    .colab-df-container {\n",
              "      display:flex;\n",
              "      flex-wrap:wrap;\n",
              "      gap: 12px;\n",
              "    }\n",
              "\n",
              "    .colab-df-convert {\n",
              "      background-color: #E8F0FE;\n",
              "      border: none;\n",
              "      border-radius: 50%;\n",
              "      cursor: pointer;\n",
              "      display: none;\n",
              "      fill: #1967D2;\n",
              "      height: 32px;\n",
              "      padding: 0 0 0 0;\n",
              "      width: 32px;\n",
              "    }\n",
              "\n",
              "    .colab-df-convert:hover {\n",
              "      background-color: #E2EBFA;\n",
              "      box-shadow: 0px 1px 2px rgba(60, 64, 67, 0.3), 0px 1px 3px 1px rgba(60, 64, 67, 0.15);\n",
              "      fill: #174EA6;\n",
              "    }\n",
              "\n",
              "    [theme=dark] .colab-df-convert {\n",
              "      background-color: #3B4455;\n",
              "      fill: #D2E3FC;\n",
              "    }\n",
              "\n",
              "    [theme=dark] .colab-df-convert:hover {\n",
              "      background-color: #434B5C;\n",
              "      box-shadow: 0px 1px 3px 1px rgba(0, 0, 0, 0.15);\n",
              "      filter: drop-shadow(0px 1px 2px rgba(0, 0, 0, 0.3));\n",
              "      fill: #FFFFFF;\n",
              "    }\n",
              "  </style>\n",
              "\n",
              "      <script>\n",
              "        const buttonEl =\n",
              "          document.querySelector('#df-bdfd3ba4-7dc1-4d75-947d-090d4c40a9b8 button.colab-df-convert');\n",
              "        buttonEl.style.display =\n",
              "          google.colab.kernel.accessAllowed ? 'block' : 'none';\n",
              "\n",
              "        async function convertToInteractive(key) {\n",
              "          const element = document.querySelector('#df-bdfd3ba4-7dc1-4d75-947d-090d4c40a9b8');\n",
              "          const dataTable =\n",
              "            await google.colab.kernel.invokeFunction('convertToInteractive',\n",
              "                                                     [key], {});\n",
              "          if (!dataTable) return;\n",
              "\n",
              "          const docLinkHtml = 'Like what you see? Visit the ' +\n",
              "            '<a target=\"_blank\" href=https://colab.research.google.com/notebooks/data_table.ipynb>data table notebook</a>'\n",
              "            + ' to learn more about interactive tables.';\n",
              "          element.innerHTML = '';\n",
              "          dataTable['output_type'] = 'display_data';\n",
              "          await google.colab.output.renderOutput(dataTable, element);\n",
              "          const docLink = document.createElement('div');\n",
              "          docLink.innerHTML = docLinkHtml;\n",
              "          element.appendChild(docLink);\n",
              "        }\n",
              "      </script>\n",
              "    </div>\n",
              "  </div>\n",
              "  "
            ]
          },
          "metadata": {},
          "execution_count": 16
        }
      ]
    },
    {
      "cell_type": "code",
      "source": [
        "scaler.fit(train)\n",
        "train = scaler.transform(train)"
      ],
      "metadata": {
        "id": "HbsElwGmdiMZ"
      },
      "execution_count": 17,
      "outputs": []
    },
    {
      "cell_type": "code",
      "source": [
        "len(train)"
      ],
      "metadata": {
        "colab": {
          "base_uri": "https://localhost:8080/"
        },
        "id": "vI8UPEe1efVA",
        "outputId": "8273b8ef-5395-43a9-b4b6-2ffa8bba82fb"
      },
      "execution_count": 18,
      "outputs": [
        {
          "output_type": "execute_result",
          "data": {
            "text/plain": [
              "1412"
            ]
          },
          "metadata": {},
          "execution_count": 18
        }
      ]
    },
    {
      "cell_type": "code",
      "source": [
        "n_input = 12\n",
        "n_features = 1\n",
        "generator = TimeseriesGenerator(train, train, length=n_input, batch_size=6)"
      ],
      "metadata": {
        "id": "pg7Mq_KCdiPe"
      },
      "execution_count": 19,
      "outputs": []
    },
    {
      "cell_type": "code",
      "source": [
        "model.fit_generator(generator,epochs=90)\n"
      ],
      "metadata": {
        "colab": {
          "base_uri": "https://localhost:8080/"
        },
        "id": "2kdeyMLHdiSo",
        "outputId": "dc022248-a4d7-41af-f6a7-eba23869af39"
      },
      "execution_count": 20,
      "outputs": [
        {
          "output_type": "stream",
          "name": "stdout",
          "text": [
            "Epoch 1/90\n",
            "234/234 [==============================] - 3s 12ms/step - loss: 0.0035\n",
            "Epoch 2/90\n",
            "234/234 [==============================] - 3s 11ms/step - loss: 0.0035\n",
            "Epoch 3/90\n",
            "234/234 [==============================] - 3s 11ms/step - loss: 0.0035\n",
            "Epoch 4/90\n",
            "234/234 [==============================] - 3s 11ms/step - loss: 0.0035\n",
            "Epoch 5/90\n",
            "234/234 [==============================] - 3s 11ms/step - loss: 0.0033\n",
            "Epoch 6/90\n",
            "234/234 [==============================] - 3s 11ms/step - loss: 0.0035\n",
            "Epoch 7/90\n",
            "234/234 [==============================] - 3s 11ms/step - loss: 0.0034\n",
            "Epoch 8/90\n",
            "234/234 [==============================] - 3s 11ms/step - loss: 0.0033\n",
            "Epoch 9/90\n",
            "234/234 [==============================] - 3s 11ms/step - loss: 0.0034\n",
            "Epoch 10/90\n",
            "234/234 [==============================] - 3s 12ms/step - loss: 0.0033\n",
            "Epoch 11/90\n",
            "234/234 [==============================] - 3s 12ms/step - loss: 0.0035\n",
            "Epoch 12/90\n",
            "234/234 [==============================] - 3s 12ms/step - loss: 0.0033\n",
            "Epoch 13/90\n",
            "234/234 [==============================] - 3s 12ms/step - loss: 0.0033\n",
            "Epoch 14/90\n",
            "234/234 [==============================] - 3s 12ms/step - loss: 0.0034\n",
            "Epoch 15/90\n",
            "234/234 [==============================] - 3s 12ms/step - loss: 0.0034\n",
            "Epoch 16/90\n",
            "234/234 [==============================] - 3s 12ms/step - loss: 0.0034\n",
            "Epoch 17/90\n",
            "234/234 [==============================] - 3s 12ms/step - loss: 0.0034\n",
            "Epoch 18/90\n",
            "234/234 [==============================] - 3s 12ms/step - loss: 0.0034\n",
            "Epoch 19/90\n",
            "234/234 [==============================] - 3s 12ms/step - loss: 0.0033\n",
            "Epoch 20/90\n",
            "234/234 [==============================] - 3s 12ms/step - loss: 0.0033\n",
            "Epoch 21/90\n",
            "234/234 [==============================] - 3s 12ms/step - loss: 0.0033\n",
            "Epoch 22/90\n",
            "234/234 [==============================] - 3s 12ms/step - loss: 0.0035\n",
            "Epoch 23/90\n",
            "234/234 [==============================] - 3s 12ms/step - loss: 0.0034\n",
            "Epoch 24/90\n",
            "234/234 [==============================] - 3s 12ms/step - loss: 0.0034\n",
            "Epoch 25/90\n",
            "234/234 [==============================] - 3s 12ms/step - loss: 0.0033\n",
            "Epoch 26/90\n",
            "234/234 [==============================] - 3s 12ms/step - loss: 0.0033\n",
            "Epoch 27/90\n",
            "234/234 [==============================] - 3s 12ms/step - loss: 0.0033\n",
            "Epoch 28/90\n",
            "234/234 [==============================] - 3s 12ms/step - loss: 0.0033\n",
            "Epoch 29/90\n",
            "234/234 [==============================] - 3s 12ms/step - loss: 0.0035\n",
            "Epoch 30/90\n",
            "234/234 [==============================] - 3s 12ms/step - loss: 0.0034\n",
            "Epoch 31/90\n",
            "234/234 [==============================] - 3s 12ms/step - loss: 0.0033\n",
            "Epoch 32/90\n",
            "234/234 [==============================] - 3s 12ms/step - loss: 0.0033\n",
            "Epoch 33/90\n",
            "234/234 [==============================] - 3s 12ms/step - loss: 0.0033\n",
            "Epoch 34/90\n",
            "234/234 [==============================] - 3s 12ms/step - loss: 0.0033\n",
            "Epoch 35/90\n",
            "234/234 [==============================] - 3s 12ms/step - loss: 0.0032\n",
            "Epoch 36/90\n",
            "234/234 [==============================] - 3s 12ms/step - loss: 0.0033\n",
            "Epoch 37/90\n",
            "234/234 [==============================] - 3s 12ms/step - loss: 0.0032\n",
            "Epoch 38/90\n",
            "234/234 [==============================] - 3s 12ms/step - loss: 0.0033\n",
            "Epoch 39/90\n",
            "234/234 [==============================] - 3s 12ms/step - loss: 0.0033\n",
            "Epoch 40/90\n",
            "234/234 [==============================] - 3s 12ms/step - loss: 0.0032\n",
            "Epoch 41/90\n",
            "234/234 [==============================] - 3s 12ms/step - loss: 0.0034\n",
            "Epoch 42/90\n",
            "234/234 [==============================] - 3s 12ms/step - loss: 0.0033\n",
            "Epoch 43/90\n",
            "234/234 [==============================] - 3s 12ms/step - loss: 0.0033\n",
            "Epoch 44/90\n",
            "234/234 [==============================] - 3s 12ms/step - loss: 0.0032\n",
            "Epoch 45/90\n",
            "234/234 [==============================] - 3s 12ms/step - loss: 0.0033\n",
            "Epoch 46/90\n",
            "234/234 [==============================] - 3s 12ms/step - loss: 0.0033\n",
            "Epoch 47/90\n",
            "234/234 [==============================] - 3s 12ms/step - loss: 0.0034\n",
            "Epoch 48/90\n",
            "234/234 [==============================] - 3s 12ms/step - loss: 0.0032\n",
            "Epoch 49/90\n",
            "234/234 [==============================] - 3s 12ms/step - loss: 0.0032\n",
            "Epoch 50/90\n",
            "234/234 [==============================] - 3s 12ms/step - loss: 0.0032\n",
            "Epoch 51/90\n",
            "234/234 [==============================] - 3s 12ms/step - loss: 0.0032\n",
            "Epoch 52/90\n",
            "234/234 [==============================] - 3s 12ms/step - loss: 0.0033\n",
            "Epoch 53/90\n",
            "234/234 [==============================] - 3s 12ms/step - loss: 0.0032\n",
            "Epoch 54/90\n",
            "234/234 [==============================] - 3s 12ms/step - loss: 0.0032\n",
            "Epoch 55/90\n",
            "234/234 [==============================] - 3s 12ms/step - loss: 0.0033\n",
            "Epoch 56/90\n",
            "234/234 [==============================] - 3s 12ms/step - loss: 0.0033\n",
            "Epoch 57/90\n",
            "234/234 [==============================] - 3s 12ms/step - loss: 0.0033\n",
            "Epoch 58/90\n",
            "234/234 [==============================] - 3s 12ms/step - loss: 0.0032\n",
            "Epoch 59/90\n",
            "234/234 [==============================] - 3s 12ms/step - loss: 0.0032\n",
            "Epoch 60/90\n",
            "234/234 [==============================] - 3s 12ms/step - loss: 0.0033\n",
            "Epoch 61/90\n",
            "234/234 [==============================] - 3s 12ms/step - loss: 0.0032\n",
            "Epoch 62/90\n",
            "234/234 [==============================] - 3s 12ms/step - loss: 0.0032\n",
            "Epoch 63/90\n",
            "234/234 [==============================] - 3s 12ms/step - loss: 0.0033\n",
            "Epoch 64/90\n",
            "234/234 [==============================] - 3s 12ms/step - loss: 0.0032\n",
            "Epoch 65/90\n",
            "234/234 [==============================] - 3s 12ms/step - loss: 0.0032\n",
            "Epoch 66/90\n",
            "234/234 [==============================] - 3s 12ms/step - loss: 0.0032\n",
            "Epoch 67/90\n",
            "234/234 [==============================] - 3s 12ms/step - loss: 0.0031\n",
            "Epoch 68/90\n",
            "234/234 [==============================] - 3s 11ms/step - loss: 0.0033\n",
            "Epoch 69/90\n",
            "234/234 [==============================] - 3s 11ms/step - loss: 0.0033\n",
            "Epoch 70/90\n",
            "234/234 [==============================] - 3s 11ms/step - loss: 0.0032\n",
            "Epoch 71/90\n",
            "234/234 [==============================] - 3s 11ms/step - loss: 0.0032\n",
            "Epoch 72/90\n",
            "234/234 [==============================] - 3s 12ms/step - loss: 0.0032\n",
            "Epoch 73/90\n",
            "234/234 [==============================] - 3s 12ms/step - loss: 0.0032\n",
            "Epoch 74/90\n",
            "234/234 [==============================] - 3s 12ms/step - loss: 0.0032\n",
            "Epoch 75/90\n",
            "234/234 [==============================] - 3s 12ms/step - loss: 0.0033\n",
            "Epoch 76/90\n",
            "234/234 [==============================] - 3s 12ms/step - loss: 0.0032\n",
            "Epoch 77/90\n",
            "234/234 [==============================] - 3s 12ms/step - loss: 0.0032\n",
            "Epoch 78/90\n",
            "234/234 [==============================] - 3s 12ms/step - loss: 0.0032\n",
            "Epoch 79/90\n",
            "234/234 [==============================] - 3s 12ms/step - loss: 0.0032\n",
            "Epoch 80/90\n",
            "234/234 [==============================] - 3s 12ms/step - loss: 0.0031\n",
            "Epoch 81/90\n",
            "234/234 [==============================] - 3s 12ms/step - loss: 0.0033\n",
            "Epoch 82/90\n",
            "234/234 [==============================] - 3s 12ms/step - loss: 0.0033\n",
            "Epoch 83/90\n",
            "234/234 [==============================] - 3s 12ms/step - loss: 0.0033\n",
            "Epoch 84/90\n",
            "234/234 [==============================] - 3s 12ms/step - loss: 0.0032\n",
            "Epoch 85/90\n",
            "234/234 [==============================] - 3s 12ms/step - loss: 0.0032\n",
            "Epoch 86/90\n",
            "234/234 [==============================] - 3s 12ms/step - loss: 0.0032\n",
            "Epoch 87/90\n",
            "234/234 [==============================] - 3s 12ms/step - loss: 0.0031\n",
            "Epoch 88/90\n",
            "234/234 [==============================] - 3s 12ms/step - loss: 0.0030\n",
            "Epoch 89/90\n",
            "234/234 [==============================] - 3s 12ms/step - loss: 0.0032\n",
            "Epoch 90/90\n",
            "234/234 [==============================] - 3s 12ms/step - loss: 0.0032\n"
          ]
        },
        {
          "output_type": "execute_result",
          "data": {
            "text/plain": [
              "<keras.callbacks.History at 0x7f73eceb4d10>"
            ]
          },
          "metadata": {},
          "execution_count": 20
        }
      ]
    },
    {
      "cell_type": "code",
      "source": [
        "pred_list = []\n",
        "\n",
        "batch = train[-n_input:].reshape((1, n_input, n_features))\n",
        "\n"
      ],
      "metadata": {
        "id": "-O-ea12idiVx"
      },
      "execution_count": 21,
      "outputs": []
    },
    {
      "cell_type": "code",
      "source": [
        "batch"
      ],
      "metadata": {
        "colab": {
          "base_uri": "https://localhost:8080/"
        },
        "id": "-5FbFgfafeQJ",
        "outputId": "ec9c44dd-65f9-478e-99e1-9746505f1a7d"
      },
      "execution_count": 22,
      "outputs": [
        {
          "output_type": "execute_result",
          "data": {
            "text/plain": [
              "array([[[0.79589399],\n",
              "        [0.51239835],\n",
              "        [0.44847572],\n",
              "        [0.20670615],\n",
              "        [0.23752635],\n",
              "        [0.31226784],\n",
              "        [0.42977613],\n",
              "        [0.56155005],\n",
              "        [0.67262323],\n",
              "        [0.85689188],\n",
              "        [0.92731653],\n",
              "        [0.85590165]]])"
            ]
          },
          "metadata": {},
          "execution_count": 22
        }
      ]
    },
    {
      "cell_type": "code",
      "source": [
        "pred_list"
      ],
      "metadata": {
        "colab": {
          "base_uri": "https://localhost:8080/"
        },
        "id": "sTwy2uzCeYhX",
        "outputId": "c0bd8719-4a56-4f39-de6e-6b17e123bbee"
      },
      "execution_count": 23,
      "outputs": [
        {
          "output_type": "execute_result",
          "data": {
            "text/plain": [
              "[]"
            ]
          },
          "metadata": {},
          "execution_count": 23
        }
      ]
    },
    {
      "cell_type": "code",
      "source": [
        "for i in range(n_input):   \n",
        "    pred_list.append(model.predict(batch)[0]) \n",
        "    batch = np.append(batch[:,1:,:],[[pred_list[i]]],axis=1)"
      ],
      "metadata": {
        "id": "oPczCwbjfdJG"
      },
      "execution_count": 24,
      "outputs": []
    },
    {
      "cell_type": "code",
      "source": [
        "df.index[-1]"
      ],
      "metadata": {
        "colab": {
          "base_uri": "https://localhost:8080/"
        },
        "id": "soKZzsmiRGyS",
        "outputId": "e3e41a81-06cf-4cfb-f371-3814f34ff701"
      },
      "execution_count": 25,
      "outputs": [
        {
          "output_type": "execute_result",
          "data": {
            "text/plain": [
              "Timestamp('2022-08-01 00:00:00')"
            ]
          },
          "metadata": {},
          "execution_count": 25
        }
      ]
    },
    {
      "cell_type": "code",
      "source": [
        "from pandas.tseries.offsets import DateOffset\n",
        "add_dates = [df.index[-1] + DateOffset(months=x) for x in range(0,13) ]\n",
        "future_dates = pd.DataFrame(index=add_dates[1:],columns=df.columns)"
      ],
      "metadata": {
        "id": "INy5J3gCdiZZ"
      },
      "execution_count": 26,
      "outputs": []
    },
    {
      "cell_type": "code",
      "source": [
        "pred_list"
      ],
      "metadata": {
        "colab": {
          "base_uri": "https://localhost:8080/"
        },
        "id": "jQ7CTSaRmjWT",
        "outputId": "350b5a45-ff0a-4d31-ea63-cd98d82e6e46"
      },
      "execution_count": 27,
      "outputs": [
        {
          "output_type": "execute_result",
          "data": {
            "text/plain": [
              "[array([0.7357162], dtype=float32),\n",
              " array([0.5215856], dtype=float32),\n",
              " array([0.36028022], dtype=float32),\n",
              " array([0.22667709], dtype=float32),\n",
              " array([0.24184507], dtype=float32),\n",
              " array([0.2920366], dtype=float32),\n",
              " array([0.4122107], dtype=float32),\n",
              " array([0.5328906], dtype=float32),\n",
              " array([0.6789386], dtype=float32),\n",
              " array([0.83499694], dtype=float32),\n",
              " array([0.9177697], dtype=float32),\n",
              " array([0.8667165], dtype=float32)]"
            ]
          },
          "metadata": {},
          "execution_count": 27
        }
      ]
    },
    {
      "cell_type": "code",
      "source": [
        "df_predict = pd.DataFrame(scaler.inverse_transform(pred_list),\n",
        "                          index=future_dates[-n_input:].index, columns=['Prediction'])\n",
        "\n",
        "df_proj = pd.concat([df,df_predict], axis=1)"
      ],
      "metadata": {
        "id": "xgilQw_xdich"
      },
      "execution_count": 28,
      "outputs": []
    },
    {
      "cell_type": "code",
      "source": [
        "plt.figure(figsize=(20, 5))\n",
        "plt.plot(df_proj.index[-120:], df_proj['value'][-120:])\n",
        "plt.plot(df_proj.index, df_proj['Prediction'], color='r')\n",
        "plt.legend(loc='best', fontsize='xx-large')\n",
        "plt.xticks(fontsize=18)\n",
        "plt.yticks(fontsize=16)\n",
        "plt.show()"
      ],
      "metadata": {
        "colab": {
          "base_uri": "https://localhost:8080/",
          "height": 277
        },
        "id": "ZAgzJ6GCdijA",
        "outputId": "d4440228-7f24-4ce9-c536-de653081ee62"
      },
      "execution_count": 29,
      "outputs": [
        {
          "output_type": "stream",
          "name": "stderr",
          "text": [
            "WARNING:matplotlib.legend:No handles with labels found to put in legend.\n"
          ]
        },
        {
          "output_type": "display_data",
          "data": {
            "text/plain": [
              "<Figure size 1440x360 with 1 Axes>"
            ],
            "image/png": "[encoded data removed]"
          },
          "metadata": {
            "needs_background": "light"
          }
        }
      ]
    },
    {
      "cell_type": "code",
      "source": [
        "df_proj"
      ],
      "metadata": {
        "colab": {
          "base_uri": "https://localhost:8080/",
          "height": 419
        },
        "id": "D21Tcnb9sGz9",
        "outputId": "bdd4025b-7ab1-4575-8904-b4b91016e690"
      },
      "execution_count": 30,
      "outputs": [
        {
          "output_type": "execute_result",
          "data": {
            "text/plain": [
              "                value  Prediction\n",
              "1905-01-01  24.677419         NaN\n",
              "1905-02-01  24.717857         NaN\n",
              "1905-03-01  28.764516         NaN\n",
              "1905-04-01  31.403333         NaN\n",
              "1905-05-01  34.574194         NaN\n",
              "...               ...         ...\n",
              "2023-04-01        NaN   34.939108\n",
              "2023-05-01        NaN   39.631960\n",
              "2023-06-01        NaN   44.646466\n",
              "2023-07-01        NaN   47.306141\n",
              "2023-08-01        NaN   45.665687\n",
              "\n",
              "[1424 rows x 2 columns]"
            ],
            "text/html": [
              "\n",
              "  <div id=\"df-6a9684f1-f3eb-4e2b-a27e-550d5f1fb3aa\">\n",
              "    <div class=\"colab-df-container\">\n",
              "      <div>\n",
              "<style scoped>\n",
              "    .dataframe tbody tr th:only-of-type {\n",
              "        vertical-align: middle;\n",
              "    }\n",
              "\n",
              "    .dataframe tbody tr th {\n",
              "        vertical-align: top;\n",
              "    }\n",
              "\n",
              "    .dataframe thead th {\n",
              "        text-align: right;\n",
              "    }\n",
              "</style>\n",
              "<table border=\"1\" class=\"dataframe\">\n",
              "  <thead>\n",
              "    <tr style=\"text-align: right;\">\n",
              "      <th></th>\n",
              "      <th>value</th>\n",
              "      <th>Prediction</th>\n",
              "    </tr>\n",
              "  </thead>\n",
              "  <tbody>\n",
              "    <tr>\n",
              "      <th>1905-01-01</th>\n",
              "      <td>24.677419</td>\n",
              "      <td>NaN</td>\n",
              "    </tr>\n",
              "    <tr>\n",
              "      <th>1905-02-01</th>\n",
              "      <td>24.717857</td>\n",
              "      <td>NaN</td>\n",
              "    </tr>\n",
              "    <tr>\n",
              "      <th>1905-03-01</th>\n",
              "      <td>28.764516</td>\n",
              "      <td>NaN</td>\n",
              "    </tr>\n",
              "    <tr>\n",
              "      <th>1905-04-01</th>\n",
              "      <td>31.403333</td>\n",
              "      <td>NaN</td>\n",
              "    </tr>\n",
              "    <tr>\n",
              "      <th>1905-05-01</th>\n",
              "      <td>34.574194</td>\n",
              "      <td>NaN</td>\n",
              "    </tr>\n",
              "    <tr>\n",
              "      <th>...</th>\n",
              "      <td>...</td>\n",
              "      <td>...</td>\n",
              "    </tr>\n",
              "    <tr>\n",
              "      <th>2023-04-01</th>\n",
              "      <td>NaN</td>\n",
              "      <td>34.939108</td>\n",
              "    </tr>\n",
              "    <tr>\n",
              "      <th>2023-05-01</th>\n",
              "      <td>NaN</td>\n",
              "      <td>39.631960</td>\n",
              "    </tr>\n",
              "    <tr>\n",
              "      <th>2023-06-01</th>\n",
              "      <td>NaN</td>\n",
              "      <td>44.646466</td>\n",
              "    </tr>\n",
              "    <tr>\n",
              "      <th>2023-07-01</th>\n",
              "      <td>NaN</td>\n",
              "      <td>47.306141</td>\n",
              "    </tr>\n",
              "    <tr>\n",
              "      <th>2023-08-01</th>\n",
              "      <td>NaN</td>\n",
              "      <td>45.665687</td>\n",
              "    </tr>\n",
              "  </tbody>\n",
              "</table>\n",
              "<p>1424 rows × 2 columns</p>\n",
              "</div>\n",
              "      <button class=\"colab-df-convert\" onclick=\"convertToInteractive('df-6a9684f1-f3eb-4e2b-a27e-550d5f1fb3aa')\"\n",
              "              title=\"Convert this dataframe to an interactive table.\"\n",
              "              style=\"display:none;\">\n",
              "        \n",
              "  <svg xmlns=\"http://www.w3.org/2000/svg\" height=\"24px\"viewBox=\"0 0 24 24\"\n",
              "       width=\"24px\">\n",
              "    <path d=\"M0 0h24v24H0V0z\" fill=\"none\"/>\n",
              "    <path d=\"M18.56 5.44l.94 2.06.94-2.06 2.06-.94-2.06-.94-.94-2.06-.94 2.06-2.06.94zm-11 1L8.5 8.5l.94-2.06 2.06-.94-2.06-.94L8.5 2.5l-.94 2.06-2.06.94zm10 10l.94 2.06.94-2.06 2.06-.94-2.06-.94-.94-2.06-.94 2.06-2.06.94z\"/><path d=\"M17.41 7.96l-1.37-1.37c-.4-.4-.92-.59-1.43-.59-.52 0-1.04.2-1.43.59L10.3 9.45l-7.72 7.72c-.78.78-.78 2.05 0 2.83L4 21.41c.39.39.9.59 1.41.59.51 0 1.02-.2 1.41-.59l7.78-7.78 2.81-2.81c.8-.78.8-2.07 0-2.86zM5.41 20L4 18.59l7.72-7.72 1.47 1.35L5.41 20z\"/>\n",
              "  </svg>\n",
              "      </button>\n",
              "      \n",
              "  <style>\n",
              "    .colab-df-container {\n",
              "      display:flex;\n",
              "      flex-wrap:wrap;\n",
              "      gap: 12px;\n",
              "    }\n",
              "\n",
              "    .colab-df-convert {\n",
              "      background-color: #E8F0FE;\n",
              "      border: none;\n",
              "      border-radius: 50%;\n",
              "      cursor: pointer;\n",
              "      display: none;\n",
              "      fill: #1967D2;\n",
              "      height: 32px;\n",
              "      padding: 0 0 0 0;\n",
              "      width: 32px;\n",
              "    }\n",
              "\n",
              "    .colab-df-convert:hover {\n",
              "      background-color: #E2EBFA;\n",
              "      box-shadow: 0px 1px 2px rgba(60, 64, 67, 0.3), 0px 1px 3px 1px rgba(60, 64, 67, 0.15);\n",
              "      fill: #174EA6;\n",
              "    }\n",
              "\n",
              "    [theme=dark] .colab-df-convert {\n",
              "      background-color: #3B4455;\n",
              "      fill: #D2E3FC;\n",
              "    }\n",
              "\n",
              "    [theme=dark] .colab-df-convert:hover {\n",
              "      background-color: #434B5C;\n",
              "      box-shadow: 0px 1px 3px 1px rgba(0, 0, 0, 0.15);\n",
              "      filter: drop-shadow(0px 1px 2px rgba(0, 0, 0, 0.3));\n",
              "      fill: #FFFFFF;\n",
              "    }\n",
              "  </style>\n",
              "\n",
              "      <script>\n",
              "        const buttonEl =\n",
              "          document.querySelector('#df-6a9684f1-f3eb-4e2b-a27e-550d5f1fb3aa button.colab-df-convert');\n",
              "        buttonEl.style.display =\n",
              "          google.colab.kernel.accessAllowed ? 'block' : 'none';\n",
              "\n",
              "        async function convertToInteractive(key) {\n",
              "          const element = document.querySelector('#df-6a9684f1-f3eb-4e2b-a27e-550d5f1fb3aa');\n",
              "          const dataTable =\n",
              "            await google.colab.kernel.invokeFunction('convertToInteractive',\n",
              "                                                     [key], {});\n",
              "          if (!dataTable) return;\n",
              "\n",
              "          const docLinkHtml = 'Like what you see? Visit the ' +\n",
              "            '<a target=\"_blank\" href=https://colab.research.google.com/notebooks/data_table.ipynb>data table notebook</a>'\n",
              "            + ' to learn more about interactive tables.';\n",
              "          element.innerHTML = '';\n",
              "          dataTable['output_type'] = 'display_data';\n",
              "          await google.colab.output.renderOutput(dataTable, element);\n",
              "          const docLink = document.createElement('div');\n",
              "          docLink.innerHTML = docLinkHtml;\n",
              "          element.appendChild(docLink);\n",
              "        }\n",
              "      </script>\n",
              "    </div>\n",
              "  </div>\n",
              "  "
            ]
          },
          "metadata": {},
          "execution_count": 30
        }
      ]
    },
    {
      "cell_type": "code",
      "source": [
        "# df_proj['value'] = df_proj['value'].fillna(df_proj['Prediction'])"
      ],
      "metadata": {
        "id": "onhRiJictxoG"
      },
      "execution_count": 31,
      "outputs": []
    },
    {
      "cell_type": "code",
      "source": [
        "# df_proj.drop([\"Prediction\"],inplace=True,axis=1)\n",
        "\n",
        "# df = df_proj\n",
        "\n",
        "# df_proj = scaler.transform(df_proj)"
      ],
      "metadata": {
        "id": "yyk1hU0vu656"
      },
      "execution_count": 32,
      "outputs": []
    },
    {
      "cell_type": "code",
      "source": [
        "# df_proj"
      ],
      "metadata": {
        "id": "wqAWDFCk-tg0"
      },
      "execution_count": 33,
      "outputs": []
    },
    {
      "cell_type": "code",
      "source": [
        "# batch = df_proj[-n_input:].reshape((1, n_input, n_features))\n",
        "# batch\n",
        "# pred_list = []\n"
      ],
      "metadata": {
        "id": "lsGDBRbO89f_"
      },
      "execution_count": 34,
      "outputs": []
    },
    {
      "cell_type": "code",
      "source": [
        "# for i in range(n_input):   \n",
        "#     pred_list.append(model.predict(batch)[0]) \n",
        "#     batch = np.append(batch[:,1:,:],[[pred_list[i]]],axis=1)"
      ],
      "metadata": {
        "id": "o6WokxUu9Oke"
      },
      "execution_count": 35,
      "outputs": []
    },
    {
      "cell_type": "code",
      "source": [
        "# model.predict(batch)[0]"
      ],
      "metadata": {
        "id": "WWVlRogI9SHi"
      },
      "execution_count": 36,
      "outputs": []
    },
    {
      "cell_type": "code",
      "source": [
        "df_proj['value'] = df_proj['value'].fillna(df_proj['Prediction'])\n",
        "df_proj.drop([\"Prediction\"],inplace=True,axis=1)\n",
        "df = df_proj\n",
        "df_proj = scaler.transform(df_proj)\n",
        "pred_list = []\n",
        "batch = df_proj[-n_input:].reshape((1, n_input, n_features))\n",
        "for i in range(n_input):   \n",
        "    pred_list.append(model.predict(batch)[0]) \n",
        "    batch = np.append(batch[:,1:,:],[[pred_list[i]]],axis=1)\n",
        "from pandas.tseries.offsets import DateOffset\n",
        "add_dates = [df.index[-1] + DateOffset(months=x) for x in range(0,13) ]\n",
        "future_dates = pd.DataFrame(index=add_dates[1:],columns=df.columns)\n",
        "df_predict = pd.DataFrame(scaler.inverse_transform(pred_list),\n",
        "                          index=future_dates[-n_input:].index, columns=['Prediction'])\n",
        "df_proj = pd.concat([df,df_predict], axis=1)\n",
        "plt.figure(figsize=(20, 5))\n",
        "plt.plot(df_proj.index[-120:], df_proj['value'][-120:])\n",
        "plt.plot(df_proj.index, df_proj['Prediction'], color='r')\n",
        "plt.legend(loc='best', fontsize='xx-large')\n",
        "plt.xticks(fontsize=18)\n",
        "plt.yticks(fontsize=16)\n",
        "plt.show()"
      ],
      "metadata": {
        "colab": {
          "base_uri": "https://localhost:8080/",
          "height": 277
        },
        "id": "vV6GLte4vGfh",
        "outputId": "b9efa1ec-0b00-468b-e036-71afb01d19e4"
      },
      "execution_count": 40,
      "outputs": [
        {
          "output_type": "stream",
          "name": "stderr",
          "text": [
            "WARNING:matplotlib.legend:No handles with labels found to put in legend.\n"
          ]
        },
        {
          "output_type": "display_data",
          "data": {
            "text/plain": [
              "<Figure size 1440x360 with 1 Axes>"
            ],
            "image/png": "[encoded data removed]"
          },
          "metadata": {
            "needs_background": "light"
          }
        }
      ]
    }
  ]
}